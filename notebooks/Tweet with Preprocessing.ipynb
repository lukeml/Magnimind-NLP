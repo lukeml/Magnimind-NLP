{
 "cells": [
  {
   "cell_type": "code",
   "execution_count": 40,
   "metadata": {},
   "outputs": [],
   "source": [
    "import numpy as np\n",
    "import pandas as pd\n",
    "import matplotlib.pyplot as plt\n",
    "\n",
    "import re\n",
    "import string\n",
    "\n",
    "import nltk\n",
    "from nltk.tokenize import TreebankWordTokenizer, word_tokenize\n",
    "from nltk.stem import PorterStemmer\n",
    "from nltk.tag import pos_tag\n",
    "from nltk.corpus import stopwords\n",
    "\n",
    "from sklearn.model_selection import train_test_split\n",
    "from sklearn.feature_extraction.text import CountVectorizer\n",
    "\n",
    "from sklearn.model_selection import cross_val_score\n",
    "\n",
    "from sklearn.linear_model import LogisticRegression\n",
    "from sklearn.ensemble import RandomForestClassifier\n",
    "from xgboost import XGBClassifier\n",
    "\n",
    "from sklearn.model_selection import GridSearchCV\n",
    "\n",
    "from sklearn.feature_extraction.text import ENGLISH_STOP_WORDS\n",
    "\n",
    "from sklearn.feature_extraction.text import TfidfVectorizer\n",
    "from sklearn.pipeline import make_pipeline\n",
    "\n",
    "from sklearn.metrics import f1_score\n",
    "from sklearn.metrics import confusion_matrix \n",
    "from sklearn.metrics import accuracy_score \n",
    "from sklearn.metrics import classification_report \n",
    "\n",
    "import mglearn\n",
    "\n",
    "from hyperopt import STATUS_OK, Trials, fmin, hp, tpe\n",
    "\n",
    "from IPython.lib.display import Audio\n"
   ]
  },
  {
   "cell_type": "code",
   "execution_count": 3,
   "metadata": {},
   "outputs": [],
   "source": [
    "df = pd.read_csv('data/tweet_data.csv')"
   ]
  },
  {
   "cell_type": "code",
   "execution_count": 4,
   "metadata": {},
   "outputs": [
    {
     "data": {
      "text/html": [
       "<div>\n",
       "<style scoped>\n",
       "    .dataframe tbody tr th:only-of-type {\n",
       "        vertical-align: middle;\n",
       "    }\n",
       "\n",
       "    .dataframe tbody tr th {\n",
       "        vertical-align: top;\n",
       "    }\n",
       "\n",
       "    .dataframe thead th {\n",
       "        text-align: right;\n",
       "    }\n",
       "</style>\n",
       "<table border=\"1\" class=\"dataframe\">\n",
       "  <thead>\n",
       "    <tr style=\"text-align: right;\">\n",
       "      <th></th>\n",
       "      <th>tweetID</th>\n",
       "      <th>crDate</th>\n",
       "      <th>edInput</th>\n",
       "      <th>editor</th>\n",
       "      <th>engages</th>\n",
       "      <th>isApproved</th>\n",
       "      <th>isEdNeed</th>\n",
       "      <th>isRT</th>\n",
       "      <th>likes</th>\n",
       "      <th>photoUrl</th>\n",
       "      <th>retweets</th>\n",
       "      <th>rtUsID</th>\n",
       "      <th>text</th>\n",
       "      <th>topicName</th>\n",
       "      <th>usFlwrs</th>\n",
       "      <th>usID</th>\n",
       "      <th>usName</th>\n",
       "      <th>videoUrl</th>\n",
       "    </tr>\n",
       "  </thead>\n",
       "  <tbody>\n",
       "    <tr>\n",
       "      <th>0</th>\n",
       "      <td>1070867471245164544</td>\n",
       "      <td>2018-12-07 02:27:55</td>\n",
       "      <td>-1</td>\n",
       "      <td>-1</td>\n",
       "      <td>98</td>\n",
       "      <td>False</td>\n",
       "      <td>True</td>\n",
       "      <td>False</td>\n",
       "      <td>64</td>\n",
       "      <td>https://pbs.twimg.com/media/Dtx8SiIWkAImVsb.jpg</td>\n",
       "      <td>34</td>\n",
       "      <td>-1</td>\n",
       "      <td>The immediate impulse for an alliance of the E...</td>\n",
       "      <td>Business</td>\n",
       "      <td>23464532</td>\n",
       "      <td>5988062</td>\n",
       "      <td>The Economist</td>\n",
       "      <td>NaN</td>\n",
       "    </tr>\n",
       "    <tr>\n",
       "      <th>1</th>\n",
       "      <td>1070868017888837633</td>\n",
       "      <td>2018-12-07 02:30:05</td>\n",
       "      <td>-1</td>\n",
       "      <td>-1</td>\n",
       "      <td>13</td>\n",
       "      <td>False</td>\n",
       "      <td>True</td>\n",
       "      <td>False</td>\n",
       "      <td>10</td>\n",
       "      <td>https://pbs.twimg.com/media/Dtx8yTyW4AEciqP.jpg</td>\n",
       "      <td>3</td>\n",
       "      <td>-1</td>\n",
       "      <td>America's economy is flashing some warning sig...</td>\n",
       "      <td>Business</td>\n",
       "      <td>1732809</td>\n",
       "      <td>16184358</td>\n",
       "      <td>CNN Business</td>\n",
       "      <td>NaN</td>\n",
       "    </tr>\n",
       "    <tr>\n",
       "      <th>2</th>\n",
       "      <td>1070868012864028673</td>\n",
       "      <td>2018-12-07 02:30:04</td>\n",
       "      <td>-1</td>\n",
       "      <td>-1</td>\n",
       "      <td>12</td>\n",
       "      <td>False</td>\n",
       "      <td>True</td>\n",
       "      <td>False</td>\n",
       "      <td>8</td>\n",
       "      <td>NaN</td>\n",
       "      <td>4</td>\n",
       "      <td>-1</td>\n",
       "      <td>Lyft files for what is expected to be one of t...</td>\n",
       "      <td>Business</td>\n",
       "      <td>2253989</td>\n",
       "      <td>25053299</td>\n",
       "      <td>FORTUNE</td>\n",
       "      <td>NaN</td>\n",
       "    </tr>\n",
       "    <tr>\n",
       "      <th>3</th>\n",
       "      <td>1070867995239555075</td>\n",
       "      <td>2018-12-07 02:30:00</td>\n",
       "      <td>-1</td>\n",
       "      <td>-1</td>\n",
       "      <td>5</td>\n",
       "      <td>False</td>\n",
       "      <td>True</td>\n",
       "      <td>False</td>\n",
       "      <td>4</td>\n",
       "      <td>NaN</td>\n",
       "      <td>1</td>\n",
       "      <td>-1</td>\n",
       "      <td>Exporters still waiting to get Rs 6,000 crore ...</td>\n",
       "      <td>Business</td>\n",
       "      <td>1704056</td>\n",
       "      <td>43855487</td>\n",
       "      <td>Business Standard</td>\n",
       "      <td>NaN</td>\n",
       "    </tr>\n",
       "    <tr>\n",
       "      <th>4</th>\n",
       "      <td>1070867995205885952</td>\n",
       "      <td>2018-12-07 02:30:00</td>\n",
       "      <td>-1</td>\n",
       "      <td>-1</td>\n",
       "      <td>5</td>\n",
       "      <td>False</td>\n",
       "      <td>True</td>\n",
       "      <td>False</td>\n",
       "      <td>2</td>\n",
       "      <td>NaN</td>\n",
       "      <td>3</td>\n",
       "      <td>-1</td>\n",
       "      <td>Ride-hailing firm Lyft races to leave Uber beh...</td>\n",
       "      <td>Business</td>\n",
       "      <td>1997662</td>\n",
       "      <td>15110357</td>\n",
       "      <td>Reuters Business</td>\n",
       "      <td>https://video.twimg.com/amplify_video/10708116...</td>\n",
       "    </tr>\n",
       "  </tbody>\n",
       "</table>\n",
       "</div>"
      ],
      "text/plain": [
       "               tweetID               crDate  edInput  editor  engages  \\\n",
       "0  1070867471245164544  2018-12-07 02:27:55       -1      -1       98   \n",
       "1  1070868017888837633  2018-12-07 02:30:05       -1      -1       13   \n",
       "2  1070868012864028673  2018-12-07 02:30:04       -1      -1       12   \n",
       "3  1070867995239555075  2018-12-07 02:30:00       -1      -1        5   \n",
       "4  1070867995205885952  2018-12-07 02:30:00       -1      -1        5   \n",
       "\n",
       "   isApproved  isEdNeed   isRT  likes  \\\n",
       "0       False      True  False     64   \n",
       "1       False      True  False     10   \n",
       "2       False      True  False      8   \n",
       "3       False      True  False      4   \n",
       "4       False      True  False      2   \n",
       "\n",
       "                                          photoUrl  retweets  rtUsID  \\\n",
       "0  https://pbs.twimg.com/media/Dtx8SiIWkAImVsb.jpg        34      -1   \n",
       "1  https://pbs.twimg.com/media/Dtx8yTyW4AEciqP.jpg         3      -1   \n",
       "2                                              NaN         4      -1   \n",
       "3                                              NaN         1      -1   \n",
       "4                                              NaN         3      -1   \n",
       "\n",
       "                                                text topicName   usFlwrs  \\\n",
       "0  The immediate impulse for an alliance of the E...  Business  23464532   \n",
       "1  America's economy is flashing some warning sig...  Business   1732809   \n",
       "2  Lyft files for what is expected to be one of t...  Business   2253989   \n",
       "3  Exporters still waiting to get Rs 6,000 crore ...  Business   1704056   \n",
       "4  Ride-hailing firm Lyft races to leave Uber beh...  Business   1997662   \n",
       "\n",
       "       usID             usName  \\\n",
       "0   5988062      The Economist   \n",
       "1  16184358       CNN Business   \n",
       "2  25053299            FORTUNE   \n",
       "3  43855487  Business Standard   \n",
       "4  15110357   Reuters Business   \n",
       "\n",
       "                                            videoUrl  \n",
       "0                                                NaN  \n",
       "1                                                NaN  \n",
       "2                                                NaN  \n",
       "3                                                NaN  \n",
       "4  https://video.twimg.com/amplify_video/10708116...  "
      ]
     },
     "execution_count": 4,
     "metadata": {},
     "output_type": "execute_result"
    }
   ],
   "source": [
    "df.head()"
   ]
  },
  {
   "cell_type": "code",
   "execution_count": 5,
   "metadata": {},
   "outputs": [
    {
     "name": "stdout",
     "output_type": "stream",
     "text": [
      "<class 'pandas.core.frame.DataFrame'>\n",
      "RangeIndex: 785916 entries, 0 to 785915\n",
      "Data columns (total 18 columns):\n",
      "tweetID       785916 non-null int64\n",
      "crDate        785916 non-null object\n",
      "edInput       785916 non-null int64\n",
      "editor        785916 non-null int64\n",
      "engages       785916 non-null int64\n",
      "isApproved    785916 non-null bool\n",
      "isEdNeed      785916 non-null bool\n",
      "isRT          785916 non-null bool\n",
      "likes         785916 non-null int64\n",
      "photoUrl      277896 non-null object\n",
      "retweets      785916 non-null int64\n",
      "rtUsID        785916 non-null int64\n",
      "text          785916 non-null object\n",
      "topicName     785916 non-null object\n",
      "usFlwrs       785916 non-null int64\n",
      "usID          785916 non-null int64\n",
      "usName        785916 non-null object\n",
      "videoUrl      140491 non-null object\n",
      "dtypes: bool(3), int64(9), object(6)\n",
      "memory usage: 92.2+ MB\n"
     ]
    }
   ],
   "source": [
    "df.info()"
   ]
  },
  {
   "cell_type": "code",
   "execution_count": 6,
   "metadata": {},
   "outputs": [
    {
     "data": {
      "text/html": [
       "<div>\n",
       "<style scoped>\n",
       "    .dataframe tbody tr th:only-of-type {\n",
       "        vertical-align: middle;\n",
       "    }\n",
       "\n",
       "    .dataframe tbody tr th {\n",
       "        vertical-align: top;\n",
       "    }\n",
       "\n",
       "    .dataframe thead th {\n",
       "        text-align: right;\n",
       "    }\n",
       "</style>\n",
       "<table border=\"1\" class=\"dataframe\">\n",
       "  <thead>\n",
       "    <tr style=\"text-align: right;\">\n",
       "      <th></th>\n",
       "      <th>tweetID</th>\n",
       "      <th>edInput</th>\n",
       "      <th>editor</th>\n",
       "      <th>engages</th>\n",
       "      <th>likes</th>\n",
       "      <th>retweets</th>\n",
       "      <th>rtUsID</th>\n",
       "      <th>usFlwrs</th>\n",
       "      <th>usID</th>\n",
       "    </tr>\n",
       "  </thead>\n",
       "  <tbody>\n",
       "    <tr>\n",
       "      <th>count</th>\n",
       "      <td>7.859160e+05</td>\n",
       "      <td>785916.000000</td>\n",
       "      <td>785916.000000</td>\n",
       "      <td>7.859160e+05</td>\n",
       "      <td>7.859160e+05</td>\n",
       "      <td>7.859160e+05</td>\n",
       "      <td>7.859160e+05</td>\n",
       "      <td>7.859160e+05</td>\n",
       "      <td>7.859160e+05</td>\n",
       "    </tr>\n",
       "    <tr>\n",
       "      <th>mean</th>\n",
       "      <td>1.115213e+18</td>\n",
       "      <td>0.206035</td>\n",
       "      <td>2311.963123</td>\n",
       "      <td>1.403637e+03</td>\n",
       "      <td>1.085909e+03</td>\n",
       "      <td>3.177282e+02</td>\n",
       "      <td>4.365098e+16</td>\n",
       "      <td>4.472701e+06</td>\n",
       "      <td>1.085276e+17</td>\n",
       "    </tr>\n",
       "    <tr>\n",
       "      <th>std</th>\n",
       "      <td>2.925292e+16</td>\n",
       "      <td>1.439867</td>\n",
       "      <td>2495.158883</td>\n",
       "      <td>1.665960e+04</td>\n",
       "      <td>1.293993e+04</td>\n",
       "      <td>4.053267e+03</td>\n",
       "      <td>1.894384e+17</td>\n",
       "      <td>9.149778e+06</td>\n",
       "      <td>3.010486e+17</td>\n",
       "    </tr>\n",
       "    <tr>\n",
       "      <th>min</th>\n",
       "      <td>5.354500e+04</td>\n",
       "      <td>-1.000000</td>\n",
       "      <td>-1.000000</td>\n",
       "      <td>0.000000e+00</td>\n",
       "      <td>0.000000e+00</td>\n",
       "      <td>0.000000e+00</td>\n",
       "      <td>-1.000000e+00</td>\n",
       "      <td>0.000000e+00</td>\n",
       "      <td>1.200000e+01</td>\n",
       "    </tr>\n",
       "    <tr>\n",
       "      <th>25%</th>\n",
       "      <td>1.095791e+18</td>\n",
       "      <td>-1.000000</td>\n",
       "      <td>-1.000000</td>\n",
       "      <td>2.300000e+01</td>\n",
       "      <td>1.600000e+01</td>\n",
       "      <td>6.000000e+00</td>\n",
       "      <td>-1.000000e+00</td>\n",
       "      <td>1.426280e+05</td>\n",
       "      <td>1.551377e+07</td>\n",
       "    </tr>\n",
       "    <tr>\n",
       "      <th>50%</th>\n",
       "      <td>1.116465e+18</td>\n",
       "      <td>-1.000000</td>\n",
       "      <td>-1.000000</td>\n",
       "      <td>6.400000e+01</td>\n",
       "      <td>4.500000e+01</td>\n",
       "      <td>1.800000e+01</td>\n",
       "      <td>-1.000000e+00</td>\n",
       "      <td>9.668265e+05</td>\n",
       "      <td>3.618422e+07</td>\n",
       "    </tr>\n",
       "    <tr>\n",
       "      <th>75%</th>\n",
       "      <td>1.137676e+18</td>\n",
       "      <td>1.000000</td>\n",
       "      <td>5003.000000</td>\n",
       "      <td>2.500000e+02</td>\n",
       "      <td>1.840000e+02</td>\n",
       "      <td>6.500000e+01</td>\n",
       "      <td>-1.000000e+00</td>\n",
       "      <td>3.603135e+06</td>\n",
       "      <td>9.545908e+08</td>\n",
       "    </tr>\n",
       "    <tr>\n",
       "      <th>max</th>\n",
       "      <td>1.154179e+18</td>\n",
       "      <td>4.000000</td>\n",
       "      <td>5101.000000</td>\n",
       "      <td>4.152927e+06</td>\n",
       "      <td>3.206434e+06</td>\n",
       "      <td>1.335638e+06</td>\n",
       "      <td>1.108957e+18</td>\n",
       "      <td>1.057384e+08</td>\n",
       "      <td>1.153467e+18</td>\n",
       "    </tr>\n",
       "  </tbody>\n",
       "</table>\n",
       "</div>"
      ],
      "text/plain": [
       "            tweetID        edInput         editor       engages         likes  \\\n",
       "count  7.859160e+05  785916.000000  785916.000000  7.859160e+05  7.859160e+05   \n",
       "mean   1.115213e+18       0.206035    2311.963123  1.403637e+03  1.085909e+03   \n",
       "std    2.925292e+16       1.439867    2495.158883  1.665960e+04  1.293993e+04   \n",
       "min    5.354500e+04      -1.000000      -1.000000  0.000000e+00  0.000000e+00   \n",
       "25%    1.095791e+18      -1.000000      -1.000000  2.300000e+01  1.600000e+01   \n",
       "50%    1.116465e+18      -1.000000      -1.000000  6.400000e+01  4.500000e+01   \n",
       "75%    1.137676e+18       1.000000    5003.000000  2.500000e+02  1.840000e+02   \n",
       "max    1.154179e+18       4.000000    5101.000000  4.152927e+06  3.206434e+06   \n",
       "\n",
       "           retweets        rtUsID       usFlwrs          usID  \n",
       "count  7.859160e+05  7.859160e+05  7.859160e+05  7.859160e+05  \n",
       "mean   3.177282e+02  4.365098e+16  4.472701e+06  1.085276e+17  \n",
       "std    4.053267e+03  1.894384e+17  9.149778e+06  3.010486e+17  \n",
       "min    0.000000e+00 -1.000000e+00  0.000000e+00  1.200000e+01  \n",
       "25%    6.000000e+00 -1.000000e+00  1.426280e+05  1.551377e+07  \n",
       "50%    1.800000e+01 -1.000000e+00  9.668265e+05  3.618422e+07  \n",
       "75%    6.500000e+01 -1.000000e+00  3.603135e+06  9.545908e+08  \n",
       "max    1.335638e+06  1.108957e+18  1.057384e+08  1.153467e+18  "
      ]
     },
     "execution_count": 6,
     "metadata": {},
     "output_type": "execute_result"
    }
   ],
   "source": [
    "df.describe()"
   ]
  },
  {
   "cell_type": "code",
   "execution_count": 7,
   "metadata": {},
   "outputs": [
    {
     "data": {
      "text/plain": [
       "Index(['tweetID', 'crDate', 'edInput', 'editor', 'engages', 'isApproved',\n",
       "       'isEdNeed', 'isRT', 'likes', 'photoUrl', 'retweets', 'rtUsID', 'text',\n",
       "       'topicName', 'usFlwrs', 'usID', 'usName', 'videoUrl'],\n",
       "      dtype='object')"
      ]
     },
     "execution_count": 7,
     "metadata": {},
     "output_type": "execute_result"
    }
   ],
   "source": [
    "df.columns"
   ]
  },
  {
   "cell_type": "code",
   "execution_count": 8,
   "metadata": {
    "scrolled": true
   },
   "outputs": [
    {
     "data": {
      "text/plain": [
       "array(['Business', 'Animal', 'Memes', 'Nature', 'Travel', 'Interesting',\n",
       "       'News', 'Fashion', 'Art', 'Personal Development', 'Motivational',\n",
       "       'DIY & Craft', 'Editorial Pics', 'Funny', 'Poem', 'World Leaders',\n",
       "       'Entrepreneurship', 'US News', 'Journalists', 'Flowers',\n",
       "       'Cryptocurrency', 'Photography', 'Design & Architecture',\n",
       "       'Fitness', 'Spirituality', 'Startup', 'Space', 'Technology',\n",
       "       'Digital Media & Internet', 'Psychology', 'Science', 'Basketball',\n",
       "       'Humor', 'Mindfulness', 'Medical', 'Informative', 'Love', 'Stocks',\n",
       "       'Nanotech', 'Biotech', 'science', 'Random'], dtype=object)"
      ]
     },
     "execution_count": 8,
     "metadata": {},
     "output_type": "execute_result"
    }
   ],
   "source": [
    "df['topicName'].unique()"
   ]
  },
  {
   "cell_type": "code",
   "execution_count": 9,
   "metadata": {},
   "outputs": [],
   "source": [
    "df_nature = df[df['topicName']=='Nature']"
   ]
  },
  {
   "cell_type": "code",
   "execution_count": 10,
   "metadata": {},
   "outputs": [
    {
     "data": {
      "text/html": [
       "<div>\n",
       "<style scoped>\n",
       "    .dataframe tbody tr th:only-of-type {\n",
       "        vertical-align: middle;\n",
       "    }\n",
       "\n",
       "    .dataframe tbody tr th {\n",
       "        vertical-align: top;\n",
       "    }\n",
       "\n",
       "    .dataframe thead th {\n",
       "        text-align: right;\n",
       "    }\n",
       "</style>\n",
       "<table border=\"1\" class=\"dataframe\">\n",
       "  <thead>\n",
       "    <tr style=\"text-align: right;\">\n",
       "      <th></th>\n",
       "      <th>tweetID</th>\n",
       "      <th>crDate</th>\n",
       "      <th>edInput</th>\n",
       "      <th>editor</th>\n",
       "      <th>engages</th>\n",
       "      <th>isApproved</th>\n",
       "      <th>isEdNeed</th>\n",
       "      <th>isRT</th>\n",
       "      <th>likes</th>\n",
       "      <th>photoUrl</th>\n",
       "      <th>retweets</th>\n",
       "      <th>rtUsID</th>\n",
       "      <th>text</th>\n",
       "      <th>topicName</th>\n",
       "      <th>usFlwrs</th>\n",
       "      <th>usID</th>\n",
       "      <th>usName</th>\n",
       "      <th>videoUrl</th>\n",
       "    </tr>\n",
       "  </thead>\n",
       "  <tbody>\n",
       "    <tr>\n",
       "      <th>44</th>\n",
       "      <td>1070875544202432514</td>\n",
       "      <td>2018-12-07 03:00:00</td>\n",
       "      <td>-1</td>\n",
       "      <td>-1</td>\n",
       "      <td>44</td>\n",
       "      <td>False</td>\n",
       "      <td>True</td>\n",
       "      <td>False</td>\n",
       "      <td>33</td>\n",
       "      <td>https://pbs.twimg.com/media/DtuIrMXWoAA5Wve.jpg</td>\n",
       "      <td>11</td>\n",
       "      <td>-1</td>\n",
       "      <td>Lack Lake, Rocky mountain national Park, Color...</td>\n",
       "      <td>Nature</td>\n",
       "      <td>67520</td>\n",
       "      <td>917084527440355329</td>\n",
       "      <td>Sara Walker</td>\n",
       "      <td>NaN</td>\n",
       "    </tr>\n",
       "    <tr>\n",
       "      <th>45</th>\n",
       "      <td>1070590403454349312</td>\n",
       "      <td>2018-12-06 08:06:57</td>\n",
       "      <td>-1</td>\n",
       "      <td>-1</td>\n",
       "      <td>88</td>\n",
       "      <td>False</td>\n",
       "      <td>True</td>\n",
       "      <td>True</td>\n",
       "      <td>77</td>\n",
       "      <td>NaN</td>\n",
       "      <td>11</td>\n",
       "      <td>2470325805</td>\n",
       "      <td>How Kinky Are You?\\n\\nhttps://t.co/J8I1HNeD5i</td>\n",
       "      <td>Nature</td>\n",
       "      <td>4255</td>\n",
       "      <td>4530305294</td>\n",
       "      <td>Akp</td>\n",
       "      <td>NaN</td>\n",
       "    </tr>\n",
       "    <tr>\n",
       "      <th>46</th>\n",
       "      <td>1070591387551318016</td>\n",
       "      <td>2018-12-06 08:10:52</td>\n",
       "      <td>-1</td>\n",
       "      <td>-1</td>\n",
       "      <td>59</td>\n",
       "      <td>False</td>\n",
       "      <td>True</td>\n",
       "      <td>True</td>\n",
       "      <td>50</td>\n",
       "      <td>NaN</td>\n",
       "      <td>9</td>\n",
       "      <td>2470325805</td>\n",
       "      <td>12 Sex Scenes with Actors Who Hated Each Other...</td>\n",
       "      <td>Nature</td>\n",
       "      <td>4255</td>\n",
       "      <td>4530305294</td>\n",
       "      <td>Akp</td>\n",
       "      <td>NaN</td>\n",
       "    </tr>\n",
       "    <tr>\n",
       "      <th>47</th>\n",
       "      <td>1060767872903917568</td>\n",
       "      <td>2018-11-09 05:35:43</td>\n",
       "      <td>-1</td>\n",
       "      <td>-1</td>\n",
       "      <td>1817</td>\n",
       "      <td>False</td>\n",
       "      <td>True</td>\n",
       "      <td>True</td>\n",
       "      <td>1489</td>\n",
       "      <td>https://pbs.twimg.com/media/Dcnhi_FXcAAQPXk.jpg</td>\n",
       "      <td>328</td>\n",
       "      <td>2470325805</td>\n",
       "      <td>have you ever seen anyone so happy to have jam...</td>\n",
       "      <td>Nature</td>\n",
       "      <td>141170</td>\n",
       "      <td>2718980845</td>\n",
       "      <td>ღ Girls Outfit ღ</td>\n",
       "      <td>NaN</td>\n",
       "    </tr>\n",
       "    <tr>\n",
       "      <th>105</th>\n",
       "      <td>1070880221241327616</td>\n",
       "      <td>2018-12-07 03:18:35</td>\n",
       "      <td>-1</td>\n",
       "      <td>-1</td>\n",
       "      <td>3113</td>\n",
       "      <td>False</td>\n",
       "      <td>True</td>\n",
       "      <td>False</td>\n",
       "      <td>2174</td>\n",
       "      <td>NaN</td>\n",
       "      <td>939</td>\n",
       "      <td>-1</td>\n",
       "      <td>Like something out of a fairy tale 🦌 https://t...</td>\n",
       "      <td>Nature</td>\n",
       "      <td>132013</td>\n",
       "      <td>920512279556304901</td>\n",
       "      <td>Beauty Nature</td>\n",
       "      <td>https://video.twimg.com/ext_tw_video/107088010...</td>\n",
       "    </tr>\n",
       "  </tbody>\n",
       "</table>\n",
       "</div>"
      ],
      "text/plain": [
       "                 tweetID               crDate  edInput  editor  engages  \\\n",
       "44   1070875544202432514  2018-12-07 03:00:00       -1      -1       44   \n",
       "45   1070590403454349312  2018-12-06 08:06:57       -1      -1       88   \n",
       "46   1070591387551318016  2018-12-06 08:10:52       -1      -1       59   \n",
       "47   1060767872903917568  2018-11-09 05:35:43       -1      -1     1817   \n",
       "105  1070880221241327616  2018-12-07 03:18:35       -1      -1     3113   \n",
       "\n",
       "     isApproved  isEdNeed   isRT  likes  \\\n",
       "44        False      True  False     33   \n",
       "45        False      True   True     77   \n",
       "46        False      True   True     50   \n",
       "47        False      True   True   1489   \n",
       "105       False      True  False   2174   \n",
       "\n",
       "                                            photoUrl  retweets      rtUsID  \\\n",
       "44   https://pbs.twimg.com/media/DtuIrMXWoAA5Wve.jpg        11          -1   \n",
       "45                                               NaN        11  2470325805   \n",
       "46                                               NaN         9  2470325805   \n",
       "47   https://pbs.twimg.com/media/Dcnhi_FXcAAQPXk.jpg       328  2470325805   \n",
       "105                                              NaN       939          -1   \n",
       "\n",
       "                                                  text topicName  usFlwrs  \\\n",
       "44   Lack Lake, Rocky mountain national Park, Color...    Nature    67520   \n",
       "45       How Kinky Are You?\\n\\nhttps://t.co/J8I1HNeD5i    Nature     4255   \n",
       "46   12 Sex Scenes with Actors Who Hated Each Other...    Nature     4255   \n",
       "47   have you ever seen anyone so happy to have jam...    Nature   141170   \n",
       "105  Like something out of a fairy tale 🦌 https://t...    Nature   132013   \n",
       "\n",
       "                   usID            usName  \\\n",
       "44   917084527440355329       Sara Walker   \n",
       "45           4530305294               Akp   \n",
       "46           4530305294               Akp   \n",
       "47           2718980845  ღ Girls Outfit ღ   \n",
       "105  920512279556304901     Beauty Nature   \n",
       "\n",
       "                                              videoUrl  \n",
       "44                                                 NaN  \n",
       "45                                                 NaN  \n",
       "46                                                 NaN  \n",
       "47                                                 NaN  \n",
       "105  https://video.twimg.com/ext_tw_video/107088010...  "
      ]
     },
     "execution_count": 10,
     "metadata": {},
     "output_type": "execute_result"
    }
   ],
   "source": [
    "df_nature.head()"
   ]
  },
  {
   "cell_type": "code",
   "execution_count": 11,
   "metadata": {},
   "outputs": [
    {
     "name": "stdout",
     "output_type": "stream",
     "text": [
      "<class 'pandas.core.frame.DataFrame'>\n",
      "Int64Index: 25021 entries, 44 to 785895\n",
      "Data columns (total 18 columns):\n",
      "tweetID       25021 non-null int64\n",
      "crDate        25021 non-null object\n",
      "edInput       25021 non-null int64\n",
      "editor        25021 non-null int64\n",
      "engages       25021 non-null int64\n",
      "isApproved    25021 non-null bool\n",
      "isEdNeed      25021 non-null bool\n",
      "isRT          25021 non-null bool\n",
      "likes         25021 non-null int64\n",
      "photoUrl      10615 non-null object\n",
      "retweets      25021 non-null int64\n",
      "rtUsID        25021 non-null int64\n",
      "text          25021 non-null object\n",
      "topicName     25021 non-null object\n",
      "usFlwrs       25021 non-null int64\n",
      "usID          25021 non-null int64\n",
      "usName        25021 non-null object\n",
      "videoUrl      4878 non-null object\n",
      "dtypes: bool(3), int64(9), object(6)\n",
      "memory usage: 3.1+ MB\n"
     ]
    }
   ],
   "source": [
    "df_nature.info()"
   ]
  },
  {
   "cell_type": "code",
   "execution_count": 12,
   "metadata": {},
   "outputs": [
    {
     "data": {
      "text/plain": [
       "Index(['tweetID', 'crDate', 'edInput', 'editor', 'engages', 'isApproved',\n",
       "       'isEdNeed', 'isRT', 'likes', 'photoUrl', 'retweets', 'rtUsID', 'text',\n",
       "       'topicName', 'usFlwrs', 'usID', 'usName', 'videoUrl'],\n",
       "      dtype='object')"
      ]
     },
     "execution_count": 12,
     "metadata": {},
     "output_type": "execute_result"
    }
   ],
   "source": [
    "df_nature.columns"
   ]
  },
  {
   "cell_type": "code",
   "execution_count": 13,
   "metadata": {},
   "outputs": [],
   "source": [
    "df_nature = df_nature.drop(['photoUrl', 'videoUrl'], axis = 1)"
   ]
  },
  {
   "cell_type": "code",
   "execution_count": 14,
   "metadata": {},
   "outputs": [
    {
     "data": {
      "text/plain": [
       "Index(['tweetID', 'crDate', 'edInput', 'editor', 'engages', 'isApproved',\n",
       "       'isEdNeed', 'isRT', 'likes', 'retweets', 'rtUsID', 'text', 'topicName',\n",
       "       'usFlwrs', 'usID', 'usName'],\n",
       "      dtype='object')"
      ]
     },
     "execution_count": 14,
     "metadata": {},
     "output_type": "execute_result"
    }
   ],
   "source": [
    "df_nature.columns"
   ]
  },
  {
   "cell_type": "code",
   "execution_count": 15,
   "metadata": {},
   "outputs": [
    {
     "data": {
      "text/plain": [
       "-1    11129\n",
       " 1     9269\n",
       " 2     4200\n",
       " 4      301\n",
       " 3      122\n",
       "Name: edInput, dtype: int64"
      ]
     },
     "execution_count": 15,
     "metadata": {},
     "output_type": "execute_result"
    }
   ],
   "source": [
    "df_nature['edInput'].value_counts()"
   ]
  },
  {
   "cell_type": "code",
   "execution_count": 16,
   "metadata": {},
   "outputs": [
    {
     "data": {
      "text/plain": [
       "44        False\n",
       "45        False\n",
       "46        False\n",
       "47        False\n",
       "105       False\n",
       "          ...  \n",
       "785876    False\n",
       "785884    False\n",
       "785885    False\n",
       "785894    False\n",
       "785895    False\n",
       "Name: edInput, Length: 25021, dtype: bool"
      ]
     },
     "execution_count": 16,
     "metadata": {},
     "output_type": "execute_result"
    }
   ],
   "source": [
    "df_nature['edInput'] != -1"
   ]
  },
  {
   "cell_type": "code",
   "execution_count": 17,
   "metadata": {},
   "outputs": [],
   "source": [
    "# https://www.statology.org/pandas-drop-rows-with-value/\n",
    "df_nature = df_nature[df_nature['edInput'].isin([-1, 3, 4])==False]"
   ]
  },
  {
   "cell_type": "code",
   "execution_count": 18,
   "metadata": {},
   "outputs": [
    {
     "data": {
      "text/plain": [
       "1    9269\n",
       "2    4200\n",
       "Name: edInput, dtype: int64"
      ]
     },
     "execution_count": 18,
     "metadata": {},
     "output_type": "execute_result"
    }
   ],
   "source": [
    "df_nature['edInput'].value_counts()"
   ]
  },
  {
   "cell_type": "code",
   "execution_count": 19,
   "metadata": {},
   "outputs": [],
   "source": [
    "df_nature['label'] = df_nature['edInput'].apply(\n",
    "    lambda label: 1 if label == 1 else 0)"
   ]
  },
  {
   "cell_type": "code",
   "execution_count": 20,
   "metadata": {},
   "outputs": [
    {
     "data": {
      "text/html": [
       "<div>\n",
       "<style scoped>\n",
       "    .dataframe tbody tr th:only-of-type {\n",
       "        vertical-align: middle;\n",
       "    }\n",
       "\n",
       "    .dataframe tbody tr th {\n",
       "        vertical-align: top;\n",
       "    }\n",
       "\n",
       "    .dataframe thead th {\n",
       "        text-align: right;\n",
       "    }\n",
       "</style>\n",
       "<table border=\"1\" class=\"dataframe\">\n",
       "  <thead>\n",
       "    <tr style=\"text-align: right;\">\n",
       "      <th></th>\n",
       "      <th>tweetID</th>\n",
       "      <th>crDate</th>\n",
       "      <th>edInput</th>\n",
       "      <th>editor</th>\n",
       "      <th>engages</th>\n",
       "      <th>isApproved</th>\n",
       "      <th>isEdNeed</th>\n",
       "      <th>isRT</th>\n",
       "      <th>likes</th>\n",
       "      <th>retweets</th>\n",
       "      <th>rtUsID</th>\n",
       "      <th>text</th>\n",
       "      <th>topicName</th>\n",
       "      <th>usFlwrs</th>\n",
       "      <th>usID</th>\n",
       "      <th>usName</th>\n",
       "      <th>label</th>\n",
       "    </tr>\n",
       "  </thead>\n",
       "  <tbody>\n",
       "    <tr>\n",
       "      <th>69430</th>\n",
       "      <td>1081464429051609089</td>\n",
       "      <td>2019-01-05 08:16:27</td>\n",
       "      <td>2</td>\n",
       "      <td>5001</td>\n",
       "      <td>1904</td>\n",
       "      <td>False</td>\n",
       "      <td>True</td>\n",
       "      <td>False</td>\n",
       "      <td>1492</td>\n",
       "      <td>412</td>\n",
       "      <td>-1</td>\n",
       "      <td>Switzerland https://t.co/HKTmJPPZt1</td>\n",
       "      <td>Nature</td>\n",
       "      <td>104918</td>\n",
       "      <td>713721447382917121</td>\n",
       "      <td>PicPublic</td>\n",
       "      <td>0</td>\n",
       "    </tr>\n",
       "    <tr>\n",
       "      <th>69802</th>\n",
       "      <td>1081466945956831232</td>\n",
       "      <td>2019-01-05 08:26:27</td>\n",
       "      <td>2</td>\n",
       "      <td>5001</td>\n",
       "      <td>45</td>\n",
       "      <td>False</td>\n",
       "      <td>True</td>\n",
       "      <td>True</td>\n",
       "      <td>40</td>\n",
       "      <td>5</td>\n",
       "      <td>885046854949502978</td>\n",
       "      <td>OMG 😍 This app analyzes call/text logs for any...</td>\n",
       "      <td>Nature</td>\n",
       "      <td>93</td>\n",
       "      <td>1080701950994219009</td>\n",
       "      <td>Sarah Hingis</td>\n",
       "      <td>0</td>\n",
       "    </tr>\n",
       "    <tr>\n",
       "      <th>69803</th>\n",
       "      <td>1081466142953156608</td>\n",
       "      <td>2019-01-05 08:23:15</td>\n",
       "      <td>2</td>\n",
       "      <td>5001</td>\n",
       "      <td>92</td>\n",
       "      <td>False</td>\n",
       "      <td>True</td>\n",
       "      <td>True</td>\n",
       "      <td>66</td>\n",
       "      <td>26</td>\n",
       "      <td>885046854949502978</td>\n",
       "      <td>OMG 😍 This app analyzes call/text logs for any...</td>\n",
       "      <td>Nature</td>\n",
       "      <td>93</td>\n",
       "      <td>1080701950994219009</td>\n",
       "      <td>Sarah Hingis</td>\n",
       "      <td>0</td>\n",
       "    </tr>\n",
       "    <tr>\n",
       "      <th>69858</th>\n",
       "      <td>1081458076497006593</td>\n",
       "      <td>2019-01-05 07:51:12</td>\n",
       "      <td>2</td>\n",
       "      <td>5001</td>\n",
       "      <td>84</td>\n",
       "      <td>False</td>\n",
       "      <td>True</td>\n",
       "      <td>True</td>\n",
       "      <td>60</td>\n",
       "      <td>24</td>\n",
       "      <td>885046854949502978</td>\n",
       "      <td>OMG 😍 This app analyzes call/text logs for any...</td>\n",
       "      <td>Nature</td>\n",
       "      <td>129</td>\n",
       "      <td>1080722887294636037</td>\n",
       "      <td>Abby Mel</td>\n",
       "      <td>0</td>\n",
       "    </tr>\n",
       "    <tr>\n",
       "      <th>69859</th>\n",
       "      <td>1081457960511926272</td>\n",
       "      <td>2019-01-05 07:50:44</td>\n",
       "      <td>2</td>\n",
       "      <td>5001</td>\n",
       "      <td>63</td>\n",
       "      <td>False</td>\n",
       "      <td>True</td>\n",
       "      <td>True</td>\n",
       "      <td>45</td>\n",
       "      <td>18</td>\n",
       "      <td>885046854949502978</td>\n",
       "      <td>OMG 😍 This app analyzes call/text logs for any...</td>\n",
       "      <td>Nature</td>\n",
       "      <td>129</td>\n",
       "      <td>1080722887294636037</td>\n",
       "      <td>Abby Mel</td>\n",
       "      <td>0</td>\n",
       "    </tr>\n",
       "  </tbody>\n",
       "</table>\n",
       "</div>"
      ],
      "text/plain": [
       "                   tweetID               crDate  edInput  editor  engages  \\\n",
       "69430  1081464429051609089  2019-01-05 08:16:27        2    5001     1904   \n",
       "69802  1081466945956831232  2019-01-05 08:26:27        2    5001       45   \n",
       "69803  1081466142953156608  2019-01-05 08:23:15        2    5001       92   \n",
       "69858  1081458076497006593  2019-01-05 07:51:12        2    5001       84   \n",
       "69859  1081457960511926272  2019-01-05 07:50:44        2    5001       63   \n",
       "\n",
       "       isApproved  isEdNeed   isRT  likes  retweets              rtUsID  \\\n",
       "69430       False      True  False   1492       412                  -1   \n",
       "69802       False      True   True     40         5  885046854949502978   \n",
       "69803       False      True   True     66        26  885046854949502978   \n",
       "69858       False      True   True     60        24  885046854949502978   \n",
       "69859       False      True   True     45        18  885046854949502978   \n",
       "\n",
       "                                                    text topicName  usFlwrs  \\\n",
       "69430                Switzerland https://t.co/HKTmJPPZt1    Nature   104918   \n",
       "69802  OMG 😍 This app analyzes call/text logs for any...    Nature       93   \n",
       "69803  OMG 😍 This app analyzes call/text logs for any...    Nature       93   \n",
       "69858  OMG 😍 This app analyzes call/text logs for any...    Nature      129   \n",
       "69859  OMG 😍 This app analyzes call/text logs for any...    Nature      129   \n",
       "\n",
       "                      usID        usName  label  \n",
       "69430   713721447382917121     PicPublic      0  \n",
       "69802  1080701950994219009  Sarah Hingis      0  \n",
       "69803  1080701950994219009  Sarah Hingis      0  \n",
       "69858  1080722887294636037      Abby Mel      0  \n",
       "69859  1080722887294636037      Abby Mel      0  "
      ]
     },
     "execution_count": 20,
     "metadata": {},
     "output_type": "execute_result"
    }
   ],
   "source": [
    "df_nature.head()"
   ]
  },
  {
   "cell_type": "code",
   "execution_count": 21,
   "metadata": {},
   "outputs": [
    {
     "data": {
      "text/plain": [
       "1    9269\n",
       "0    4200\n",
       "Name: label, dtype: int64"
      ]
     },
     "execution_count": 21,
     "metadata": {},
     "output_type": "execute_result"
    }
   ],
   "source": [
    "df_nature['label'].value_counts()"
   ]
  },
  {
   "cell_type": "code",
   "execution_count": 22,
   "metadata": {},
   "outputs": [],
   "source": [
    "df_nature_label = df_nature[['text', 'label', 'engages', 'likes', 'retweets', 'usFlwrs']]"
   ]
  },
  {
   "cell_type": "code",
   "execution_count": 23,
   "metadata": {},
   "outputs": [
    {
     "data": {
      "text/html": [
       "<div>\n",
       "<style scoped>\n",
       "    .dataframe tbody tr th:only-of-type {\n",
       "        vertical-align: middle;\n",
       "    }\n",
       "\n",
       "    .dataframe tbody tr th {\n",
       "        vertical-align: top;\n",
       "    }\n",
       "\n",
       "    .dataframe thead th {\n",
       "        text-align: right;\n",
       "    }\n",
       "</style>\n",
       "<table border=\"1\" class=\"dataframe\">\n",
       "  <thead>\n",
       "    <tr style=\"text-align: right;\">\n",
       "      <th></th>\n",
       "      <th>text</th>\n",
       "      <th>label</th>\n",
       "      <th>engages</th>\n",
       "      <th>likes</th>\n",
       "      <th>retweets</th>\n",
       "      <th>usFlwrs</th>\n",
       "    </tr>\n",
       "  </thead>\n",
       "  <tbody>\n",
       "    <tr>\n",
       "      <th>69430</th>\n",
       "      <td>Switzerland https://t.co/HKTmJPPZt1</td>\n",
       "      <td>0</td>\n",
       "      <td>1904</td>\n",
       "      <td>1492</td>\n",
       "      <td>412</td>\n",
       "      <td>104918</td>\n",
       "    </tr>\n",
       "    <tr>\n",
       "      <th>69802</th>\n",
       "      <td>OMG 😍 This app analyzes call/text logs for any...</td>\n",
       "      <td>0</td>\n",
       "      <td>45</td>\n",
       "      <td>40</td>\n",
       "      <td>5</td>\n",
       "      <td>93</td>\n",
       "    </tr>\n",
       "    <tr>\n",
       "      <th>69803</th>\n",
       "      <td>OMG 😍 This app analyzes call/text logs for any...</td>\n",
       "      <td>0</td>\n",
       "      <td>92</td>\n",
       "      <td>66</td>\n",
       "      <td>26</td>\n",
       "      <td>93</td>\n",
       "    </tr>\n",
       "    <tr>\n",
       "      <th>69858</th>\n",
       "      <td>OMG 😍 This app analyzes call/text logs for any...</td>\n",
       "      <td>0</td>\n",
       "      <td>84</td>\n",
       "      <td>60</td>\n",
       "      <td>24</td>\n",
       "      <td>129</td>\n",
       "    </tr>\n",
       "    <tr>\n",
       "      <th>69859</th>\n",
       "      <td>OMG 😍 This app analyzes call/text logs for any...</td>\n",
       "      <td>0</td>\n",
       "      <td>63</td>\n",
       "      <td>45</td>\n",
       "      <td>18</td>\n",
       "      <td>129</td>\n",
       "    </tr>\n",
       "  </tbody>\n",
       "</table>\n",
       "</div>"
      ],
      "text/plain": [
       "                                                    text  label  engages  \\\n",
       "69430                Switzerland https://t.co/HKTmJPPZt1      0     1904   \n",
       "69802  OMG 😍 This app analyzes call/text logs for any...      0       45   \n",
       "69803  OMG 😍 This app analyzes call/text logs for any...      0       92   \n",
       "69858  OMG 😍 This app analyzes call/text logs for any...      0       84   \n",
       "69859  OMG 😍 This app analyzes call/text logs for any...      0       63   \n",
       "\n",
       "       likes  retweets  usFlwrs  \n",
       "69430   1492       412   104918  \n",
       "69802     40         5       93  \n",
       "69803     66        26       93  \n",
       "69858     60        24      129  \n",
       "69859     45        18      129  "
      ]
     },
     "execution_count": 23,
     "metadata": {},
     "output_type": "execute_result"
    }
   ],
   "source": [
    "df_nature_label.head()"
   ]
  },
  {
   "cell_type": "code",
   "execution_count": 24,
   "metadata": {},
   "outputs": [
    {
     "data": {
      "text/html": [
       "<div>\n",
       "<style scoped>\n",
       "    .dataframe tbody tr th:only-of-type {\n",
       "        vertical-align: middle;\n",
       "    }\n",
       "\n",
       "    .dataframe tbody tr th {\n",
       "        vertical-align: top;\n",
       "    }\n",
       "\n",
       "    .dataframe thead th {\n",
       "        text-align: right;\n",
       "    }\n",
       "</style>\n",
       "<table border=\"1\" class=\"dataframe\">\n",
       "  <thead>\n",
       "    <tr style=\"text-align: right;\">\n",
       "      <th></th>\n",
       "      <th>text</th>\n",
       "      <th>label</th>\n",
       "      <th>engages</th>\n",
       "      <th>likes</th>\n",
       "      <th>retweets</th>\n",
       "      <th>usFlwrs</th>\n",
       "    </tr>\n",
       "  </thead>\n",
       "  <tbody>\n",
       "    <tr>\n",
       "      <th>70388</th>\n",
       "      <td>Sunset on palouse, Washington https://t.co/zuj...</td>\n",
       "      <td>1</td>\n",
       "      <td>66</td>\n",
       "      <td>58</td>\n",
       "      <td>8</td>\n",
       "      <td>67914</td>\n",
       "    </tr>\n",
       "    <tr>\n",
       "      <th>70445</th>\n",
       "      <td>Venice, Italy 🇮🇹 https://t.co/cDOSBxVr6T</td>\n",
       "      <td>1</td>\n",
       "      <td>17646</td>\n",
       "      <td>14056</td>\n",
       "      <td>3590</td>\n",
       "      <td>138977</td>\n",
       "    </tr>\n",
       "    <tr>\n",
       "      <th>70449</th>\n",
       "      <td>Dawn breaking viewed from across the Douglas V...</td>\n",
       "      <td>1</td>\n",
       "      <td>122</td>\n",
       "      <td>105</td>\n",
       "      <td>17</td>\n",
       "      <td>1044</td>\n",
       "    </tr>\n",
       "    <tr>\n",
       "      <th>70515</th>\n",
       "      <td>Landwasser Viaduct, Switzerland 🇨🇭 | Photograp...</td>\n",
       "      <td>1</td>\n",
       "      <td>3210</td>\n",
       "      <td>2456</td>\n",
       "      <td>754</td>\n",
       "      <td>175216</td>\n",
       "    </tr>\n",
       "    <tr>\n",
       "      <th>70516</th>\n",
       "      <td>Mackenzie Mountains\\nCanada \\n\\nby Marc Adamus...</td>\n",
       "      <td>1</td>\n",
       "      <td>320</td>\n",
       "      <td>241</td>\n",
       "      <td>79</td>\n",
       "      <td>104981</td>\n",
       "    </tr>\n",
       "  </tbody>\n",
       "</table>\n",
       "</div>"
      ],
      "text/plain": [
       "                                                    text  label  engages  \\\n",
       "70388  Sunset on palouse, Washington https://t.co/zuj...      1       66   \n",
       "70445           Venice, Italy 🇮🇹 https://t.co/cDOSBxVr6T      1    17646   \n",
       "70449  Dawn breaking viewed from across the Douglas V...      1      122   \n",
       "70515  Landwasser Viaduct, Switzerland 🇨🇭 | Photograp...      1     3210   \n",
       "70516  Mackenzie Mountains\\nCanada \\n\\nby Marc Adamus...      1      320   \n",
       "\n",
       "       likes  retweets  usFlwrs  \n",
       "70388     58         8    67914  \n",
       "70445  14056      3590   138977  \n",
       "70449    105        17     1044  \n",
       "70515   2456       754   175216  \n",
       "70516    241        79   104981  "
      ]
     },
     "execution_count": 24,
     "metadata": {},
     "output_type": "execute_result"
    }
   ],
   "source": [
    "df_nature_label[df_nature_label['label']==1].head()"
   ]
  },
  {
   "cell_type": "code",
   "execution_count": 25,
   "metadata": {},
   "outputs": [
    {
     "data": {
      "text/plain": [
       "<matplotlib.axes._subplots.AxesSubplot at 0x22ebde75f88>"
      ]
     },
     "execution_count": 25,
     "metadata": {},
     "output_type": "execute_result"
    },
    {
     "data": {
      "image/png": "[encoded data removed]",
      "text/plain": [
       "<Figure size 432x288 with 1 Axes>"
      ]
     },
     "metadata": {
      "needs_background": "light"
     },
     "output_type": "display_data"
    }
   ],
   "source": [
    "df_nature_label['label'].value_counts().plot(kind='bar')"
   ]
  },
  {
   "cell_type": "code",
   "execution_count": 26,
   "metadata": {},
   "outputs": [],
   "source": [
    "# nltk.download('words')\n",
    "words = set(nltk.corpus.words.words())"
   ]
  },
  {
   "cell_type": "code",
   "execution_count": 27,
   "metadata": {},
   "outputs": [],
   "source": [
    "def preprocess_text(my_text):\n",
    "    \"\"\"\n",
    "    Take in column (pandas series) of text and return 'cleaned' text\n",
    "    \n",
    "    Input: column of text\n",
    "    Output: column of cleaned text\n",
    "    \"\"\"\n",
    "    new_text = []\n",
    "    \n",
    "    alphanumeric = lambda x: re.sub('\\w*\\d\\w*', ' ', x)\n",
    "    punc_lower = lambda x: re.sub('[%s]' % re.escape(string.punctuation), ' ', x.lower())\n",
    "    \n",
    "    alpha_lower = my_text.map(alphanumeric).map(punc_lower)\n",
    "    \n",
    "    for item in alpha_lower:\n",
    "        new_text.append(\" \".join(w for w in nltk.wordpunct_tokenize(item) if w.lower() in words or not w.isalpha()))\n",
    "        \n",
    "    return new_text"
   ]
  },
  {
   "cell_type": "code",
   "execution_count": 28,
   "metadata": {},
   "outputs": [
    {
     "name": "stderr",
     "output_type": "stream",
     "text": [
      "e:\\Users\\user\\anaconda3\\envs\\metis\\lib\\site-packages\\ipykernel_launcher.py:1: SettingWithCopyWarning: \n",
      "A value is trying to be set on a copy of a slice from a DataFrame.\n",
      "Try using .loc[row_indexer,col_indexer] = value instead\n",
      "\n",
      "See the caveats in the documentation: http://pandas.pydata.org/pandas-docs/stable/user_guide/indexing.html#returning-a-view-versus-a-copy\n",
      "  \"\"\"Entry point for launching an IPython kernel.\n"
     ]
    }
   ],
   "source": [
    "df_nature_label['clean_text'] = preprocess_text(df_nature_label['text'])"
   ]
  },
  {
   "cell_type": "code",
   "execution_count": 54,
   "metadata": {},
   "outputs": [
    {
     "data": {
      "text/html": [
       "<div>\n",
       "<style scoped>\n",
       "    .dataframe tbody tr th:only-of-type {\n",
       "        vertical-align: middle;\n",
       "    }\n",
       "\n",
       "    .dataframe tbody tr th {\n",
       "        vertical-align: top;\n",
       "    }\n",
       "\n",
       "    .dataframe thead th {\n",
       "        text-align: right;\n",
       "    }\n",
       "</style>\n",
       "<table border=\"1\" class=\"dataframe\">\n",
       "  <thead>\n",
       "    <tr style=\"text-align: right;\">\n",
       "      <th></th>\n",
       "      <th>text</th>\n",
       "      <th>label</th>\n",
       "      <th>engages</th>\n",
       "      <th>likes</th>\n",
       "      <th>retweets</th>\n",
       "      <th>usFlwrs</th>\n",
       "      <th>clean_text</th>\n",
       "      <th>processed_text</th>\n",
       "    </tr>\n",
       "  </thead>\n",
       "  <tbody>\n",
       "    <tr>\n",
       "      <th>69430</th>\n",
       "      <td>Switzerland https://t.co/HKTmJPPZt1</td>\n",
       "      <td>0</td>\n",
       "      <td>1904</td>\n",
       "      <td>1492</td>\n",
       "      <td>412</td>\n",
       "      <td>104918</td>\n",
       "      <td>t</td>\n",
       "      <td>switzerland</td>\n",
       "    </tr>\n",
       "    <tr>\n",
       "      <th>69802</th>\n",
       "      <td>OMG 😍 This app analyzes call/text logs for any...</td>\n",
       "      <td>0</td>\n",
       "      <td>45</td>\n",
       "      <td>40</td>\n",
       "      <td>5</td>\n",
       "      <td>93</td>\n",
       "      <td>😍 this call text for any phone number 👉 search...</td>\n",
       "      <td>omg app analyzes call text logs phone number s...</td>\n",
       "    </tr>\n",
       "    <tr>\n",
       "      <th>69803</th>\n",
       "      <td>OMG 😍 This app analyzes call/text logs for any...</td>\n",
       "      <td>0</td>\n",
       "      <td>92</td>\n",
       "      <td>66</td>\n",
       "      <td>26</td>\n",
       "      <td>93</td>\n",
       "      <td>😍 this call text for any phone number 👉 search...</td>\n",
       "      <td>omg app analyzes call text logs phone number s...</td>\n",
       "    </tr>\n",
       "    <tr>\n",
       "      <th>69858</th>\n",
       "      <td>OMG 😍 This app analyzes call/text logs for any...</td>\n",
       "      <td>0</td>\n",
       "      <td>84</td>\n",
       "      <td>60</td>\n",
       "      <td>24</td>\n",
       "      <td>129</td>\n",
       "      <td>😍 this call text for any phone number 👉 search...</td>\n",
       "      <td>omg app analyzes call text logs phone number s...</td>\n",
       "    </tr>\n",
       "    <tr>\n",
       "      <th>69859</th>\n",
       "      <td>OMG 😍 This app analyzes call/text logs for any...</td>\n",
       "      <td>0</td>\n",
       "      <td>63</td>\n",
       "      <td>45</td>\n",
       "      <td>18</td>\n",
       "      <td>129</td>\n",
       "      <td>😍 this call text for any phone number 👉 search...</td>\n",
       "      <td>omg app analyzes call text logs phone number s...</td>\n",
       "    </tr>\n",
       "    <tr>\n",
       "      <th>...</th>\n",
       "      <td>...</td>\n",
       "      <td>...</td>\n",
       "      <td>...</td>\n",
       "      <td>...</td>\n",
       "      <td>...</td>\n",
       "      <td>...</td>\n",
       "      <td>...</td>\n",
       "      <td>...</td>\n",
       "    </tr>\n",
       "    <tr>\n",
       "      <th>785226</th>\n",
       "      <td>American pikas are small N. American mammals t...</td>\n",
       "      <td>1</td>\n",
       "      <td>425</td>\n",
       "      <td>336</td>\n",
       "      <td>89</td>\n",
       "      <td>447142</td>\n",
       "      <td>are small n that inhabit rocky at high during ...</td>\n",
       "      <td>american pikas small n american mammals inhabi...</td>\n",
       "    </tr>\n",
       "    <tr>\n",
       "      <th>785227</th>\n",
       "      <td>Severe droughts parched western North America ...</td>\n",
       "      <td>1</td>\n",
       "      <td>532</td>\n",
       "      <td>423</td>\n",
       "      <td>109</td>\n",
       "      <td>23069242</td>\n",
       "      <td>severe western north of ago a new analysis thr...</td>\n",
       "      <td>severe droughts parched western north america ...</td>\n",
       "    </tr>\n",
       "    <tr>\n",
       "      <th>785481</th>\n",
       "      <td>The U.S. West Coast seafloor is home to many h...</td>\n",
       "      <td>1</td>\n",
       "      <td>124</td>\n",
       "      <td>83</td>\n",
       "      <td>41</td>\n",
       "      <td>346803</td>\n",
       "      <td>the u s west coast is home to many from coral ...</td>\n",
       "      <td>u west coast seafloor home many habitats coral...</td>\n",
       "    </tr>\n",
       "    <tr>\n",
       "      <th>785722</th>\n",
       "      <td>Sneezewort (Achillea ptarmica). Its Latin name...</td>\n",
       "      <td>1</td>\n",
       "      <td>35</td>\n",
       "      <td>32</td>\n",
       "      <td>3</td>\n",
       "      <td>18</td>\n",
       "      <td>sneezewort its name is derived from the sneeze...</td>\n",
       "      <td>sneezewort achillea ptarmica latin name derive...</td>\n",
       "    </tr>\n",
       "    <tr>\n",
       "      <th>785723</th>\n",
       "      <td>The Pine Martens made an early morning raid on...</td>\n",
       "      <td>1</td>\n",
       "      <td>227</td>\n",
       "      <td>199</td>\n",
       "      <td>28</td>\n",
       "      <td>1266</td>\n",
       "      <td>the pine made an early morning raid on the fee...</td>\n",
       "      <td>pine martens made early morning raid feeder ne...</td>\n",
       "    </tr>\n",
       "  </tbody>\n",
       "</table>\n",
       "<p>13469 rows × 8 columns</p>\n",
       "</div>"
      ],
      "text/plain": [
       "                                                     text  label  engages  \\\n",
       "69430                 Switzerland https://t.co/HKTmJPPZt1      0     1904   \n",
       "69802   OMG 😍 This app analyzes call/text logs for any...      0       45   \n",
       "69803   OMG 😍 This app analyzes call/text logs for any...      0       92   \n",
       "69858   OMG 😍 This app analyzes call/text logs for any...      0       84   \n",
       "69859   OMG 😍 This app analyzes call/text logs for any...      0       63   \n",
       "...                                                   ...    ...      ...   \n",
       "785226  American pikas are small N. American mammals t...      1      425   \n",
       "785227  Severe droughts parched western North America ...      1      532   \n",
       "785481  The U.S. West Coast seafloor is home to many h...      1      124   \n",
       "785722  Sneezewort (Achillea ptarmica). Its Latin name...      1       35   \n",
       "785723  The Pine Martens made an early morning raid on...      1      227   \n",
       "\n",
       "        likes  retweets   usFlwrs  \\\n",
       "69430    1492       412    104918   \n",
       "69802      40         5        93   \n",
       "69803      66        26        93   \n",
       "69858      60        24       129   \n",
       "69859      45        18       129   \n",
       "...       ...       ...       ...   \n",
       "785226    336        89    447142   \n",
       "785227    423       109  23069242   \n",
       "785481     83        41    346803   \n",
       "785722     32         3        18   \n",
       "785723    199        28      1266   \n",
       "\n",
       "                                               clean_text  \\\n",
       "69430                                                   t   \n",
       "69802   😍 this call text for any phone number 👉 search...   \n",
       "69803   😍 this call text for any phone number 👉 search...   \n",
       "69858   😍 this call text for any phone number 👉 search...   \n",
       "69859   😍 this call text for any phone number 👉 search...   \n",
       "...                                                   ...   \n",
       "785226  are small n that inhabit rocky at high during ...   \n",
       "785227  severe western north of ago a new analysis thr...   \n",
       "785481  the u s west coast is home to many from coral ...   \n",
       "785722  sneezewort its name is derived from the sneeze...   \n",
       "785723  the pine made an early morning raid on the fee...   \n",
       "\n",
       "                                           processed_text  \n",
       "69430                                         switzerland  \n",
       "69802   omg app analyzes call text logs phone number s...  \n",
       "69803   omg app analyzes call text logs phone number s...  \n",
       "69858   omg app analyzes call text logs phone number s...  \n",
       "69859   omg app analyzes call text logs phone number s...  \n",
       "...                                                   ...  \n",
       "785226  american pikas small n american mammals inhabi...  \n",
       "785227  severe droughts parched western north america ...  \n",
       "785481  u west coast seafloor home many habitats coral...  \n",
       "785722  sneezewort achillea ptarmica latin name derive...  \n",
       "785723  pine martens made early morning raid feeder ne...  \n",
       "\n",
       "[13469 rows x 8 columns]"
      ]
     },
     "execution_count": 54,
     "metadata": {},
     "output_type": "execute_result"
    }
   ],
   "source": [
    "df_nature_label"
   ]
  },
  {
   "cell_type": "code",
   "execution_count": 44,
   "metadata": {},
   "outputs": [],
   "source": [
    "more_words = ['rt', 'rts', 'retweet']\n",
    "s_words = set().union(stopwords.words('english'), more_words)"
   ]
  },
  {
   "cell_type": "code",
   "execution_count": 46,
   "metadata": {},
   "outputs": [
    {
     "name": "stderr",
     "output_type": "stream",
     "text": [
      "e:\\Users\\user\\anaconda3\\envs\\metis\\lib\\site-packages\\ipykernel_launcher.py:6: SettingWithCopyWarning: \n",
      "A value is trying to be set on a copy of a slice from a DataFrame.\n",
      "Try using .loc[row_indexer,col_indexer] = value instead\n",
      "\n",
      "See the caveats in the documentation: http://pandas.pydata.org/pandas-docs/stable/user_guide/indexing.html#returning-a-view-versus-a-copy\n",
      "  \n"
     ]
    }
   ],
   "source": [
    "df_nature_label['processed_text'] = df_nature_label['text'].str.lower()\\\n",
    "          .str.replace('(@[a-z0-9]+)\\w+',' ')\\\n",
    "          .str.replace('(http\\S+)', ' ')\\\n",
    "          .str.replace('([^0-9a-z \\t])',' ')\\\n",
    "          .str.replace(' +',' ')\\\n",
    "          .apply(lambda x: [i for i in x.split() if not i in s_words])"
   ]
  },
  {
   "cell_type": "code",
   "execution_count": 49,
   "metadata": {},
   "outputs": [
    {
     "name": "stderr",
     "output_type": "stream",
     "text": [
      "e:\\Users\\user\\anaconda3\\envs\\metis\\lib\\site-packages\\ipykernel_launcher.py:1: SettingWithCopyWarning: \n",
      "A value is trying to be set on a copy of a slice from a DataFrame.\n",
      "Try using .loc[row_indexer,col_indexer] = value instead\n",
      "\n",
      "See the caveats in the documentation: http://pandas.pydata.org/pandas-docs/stable/user_guide/indexing.html#returning-a-view-versus-a-copy\n",
      "  \"\"\"Entry point for launching an IPython kernel.\n"
     ]
    }
   ],
   "source": [
    "df_nature_label['processed_text'] = df_nature_label['processed_text'].apply(\" \".join)"
   ]
  },
  {
   "cell_type": "code",
   "execution_count": 50,
   "metadata": {},
   "outputs": [
    {
     "data": {
      "text/plain": [
       "69430                                           switzerland\n",
       "69802     omg app analyzes call text logs phone number s...\n",
       "69803     omg app analyzes call text logs phone number s...\n",
       "69858     omg app analyzes call text logs phone number s...\n",
       "69859     omg app analyzes call text logs phone number s...\n",
       "                                ...                        \n",
       "785226    american pikas small n american mammals inhabi...\n",
       "785227    severe droughts parched western north america ...\n",
       "785481    u west coast seafloor home many habitats coral...\n",
       "785722    sneezewort achillea ptarmica latin name derive...\n",
       "785723    pine martens made early morning raid feeder ne...\n",
       "Name: processed_text, Length: 13469, dtype: object"
      ]
     },
     "execution_count": 50,
     "metadata": {},
     "output_type": "execute_result"
    }
   ],
   "source": [
    "df_nature_label['processed_text']"
   ]
  },
  {
   "cell_type": "code",
   "execution_count": 51,
   "metadata": {},
   "outputs": [
    {
     "data": {
      "text/plain": [
       "69430     False\n",
       "69802     False\n",
       "69803      True\n",
       "69858      True\n",
       "69859      True\n",
       "          ...  \n",
       "785226    False\n",
       "785227    False\n",
       "785481    False\n",
       "785722    False\n",
       "785723    False\n",
       "Name: processed_text, Length: 13469, dtype: bool"
      ]
     },
     "execution_count": 51,
     "metadata": {},
     "output_type": "execute_result"
    }
   ],
   "source": [
    "df_nature_label['processed_text'].duplicated()"
   ]
  },
  {
   "cell_type": "code",
   "execution_count": 52,
   "metadata": {},
   "outputs": [],
   "source": [
    "bool_series = df_nature_label['processed_text'].duplicated()"
   ]
  },
  {
   "cell_type": "code",
   "execution_count": 53,
   "metadata": {},
   "outputs": [
    {
     "data": {
      "text/html": [
       "<div>\n",
       "<style scoped>\n",
       "    .dataframe tbody tr th:only-of-type {\n",
       "        vertical-align: middle;\n",
       "    }\n",
       "\n",
       "    .dataframe tbody tr th {\n",
       "        vertical-align: top;\n",
       "    }\n",
       "\n",
       "    .dataframe thead th {\n",
       "        text-align: right;\n",
       "    }\n",
       "</style>\n",
       "<table border=\"1\" class=\"dataframe\">\n",
       "  <thead>\n",
       "    <tr style=\"text-align: right;\">\n",
       "      <th></th>\n",
       "      <th>text</th>\n",
       "      <th>label</th>\n",
       "      <th>engages</th>\n",
       "      <th>likes</th>\n",
       "      <th>retweets</th>\n",
       "      <th>usFlwrs</th>\n",
       "      <th>clean_text</th>\n",
       "      <th>processed_text</th>\n",
       "    </tr>\n",
       "  </thead>\n",
       "  <tbody>\n",
       "    <tr>\n",
       "      <th>69430</th>\n",
       "      <td>Switzerland https://t.co/HKTmJPPZt1</td>\n",
       "      <td>0</td>\n",
       "      <td>1904</td>\n",
       "      <td>1492</td>\n",
       "      <td>412</td>\n",
       "      <td>104918</td>\n",
       "      <td>t</td>\n",
       "      <td>switzerland</td>\n",
       "    </tr>\n",
       "    <tr>\n",
       "      <th>69802</th>\n",
       "      <td>OMG 😍 This app analyzes call/text logs for any...</td>\n",
       "      <td>0</td>\n",
       "      <td>45</td>\n",
       "      <td>40</td>\n",
       "      <td>5</td>\n",
       "      <td>93</td>\n",
       "      <td>😍 this call text for any phone number 👉 search...</td>\n",
       "      <td>omg app analyzes call text logs phone number s...</td>\n",
       "    </tr>\n",
       "    <tr>\n",
       "      <th>69860</th>\n",
       "      <td>Amazing South Africa 😍 https://t.co/0wnRYgY70d</td>\n",
       "      <td>0</td>\n",
       "      <td>395</td>\n",
       "      <td>294</td>\n",
       "      <td>101</td>\n",
       "      <td>161635</td>\n",
       "      <td>amazing south 😍 t</td>\n",
       "      <td>amazing south africa</td>\n",
       "    </tr>\n",
       "    <tr>\n",
       "      <th>69995</th>\n",
       "      <td>DON'T TRUST https://t.co/aQU5HF9B1b</td>\n",
       "      <td>0</td>\n",
       "      <td>571</td>\n",
       "      <td>403</td>\n",
       "      <td>168</td>\n",
       "      <td>173022</td>\n",
       "      <td>don t trust t</td>\n",
       "      <td>trust</td>\n",
       "    </tr>\n",
       "    <tr>\n",
       "      <th>70388</th>\n",
       "      <td>Sunset on palouse, Washington https://t.co/zuj...</td>\n",
       "      <td>1</td>\n",
       "      <td>66</td>\n",
       "      <td>58</td>\n",
       "      <td>8</td>\n",
       "      <td>67914</td>\n",
       "      <td>sunset on t</td>\n",
       "      <td>sunset palouse washington</td>\n",
       "    </tr>\n",
       "    <tr>\n",
       "      <th>...</th>\n",
       "      <td>...</td>\n",
       "      <td>...</td>\n",
       "      <td>...</td>\n",
       "      <td>...</td>\n",
       "      <td>...</td>\n",
       "      <td>...</td>\n",
       "      <td>...</td>\n",
       "      <td>...</td>\n",
       "    </tr>\n",
       "    <tr>\n",
       "      <th>785226</th>\n",
       "      <td>American pikas are small N. American mammals t...</td>\n",
       "      <td>1</td>\n",
       "      <td>425</td>\n",
       "      <td>336</td>\n",
       "      <td>89</td>\n",
       "      <td>447142</td>\n",
       "      <td>are small n that inhabit rocky at high during ...</td>\n",
       "      <td>american pikas small n american mammals inhabi...</td>\n",
       "    </tr>\n",
       "    <tr>\n",
       "      <th>785227</th>\n",
       "      <td>Severe droughts parched western North America ...</td>\n",
       "      <td>1</td>\n",
       "      <td>532</td>\n",
       "      <td>423</td>\n",
       "      <td>109</td>\n",
       "      <td>23069242</td>\n",
       "      <td>severe western north of ago a new analysis thr...</td>\n",
       "      <td>severe droughts parched western north america ...</td>\n",
       "    </tr>\n",
       "    <tr>\n",
       "      <th>785481</th>\n",
       "      <td>The U.S. West Coast seafloor is home to many h...</td>\n",
       "      <td>1</td>\n",
       "      <td>124</td>\n",
       "      <td>83</td>\n",
       "      <td>41</td>\n",
       "      <td>346803</td>\n",
       "      <td>the u s west coast is home to many from coral ...</td>\n",
       "      <td>u west coast seafloor home many habitats coral...</td>\n",
       "    </tr>\n",
       "    <tr>\n",
       "      <th>785722</th>\n",
       "      <td>Sneezewort (Achillea ptarmica). Its Latin name...</td>\n",
       "      <td>1</td>\n",
       "      <td>35</td>\n",
       "      <td>32</td>\n",
       "      <td>3</td>\n",
       "      <td>18</td>\n",
       "      <td>sneezewort its name is derived from the sneeze...</td>\n",
       "      <td>sneezewort achillea ptarmica latin name derive...</td>\n",
       "    </tr>\n",
       "    <tr>\n",
       "      <th>785723</th>\n",
       "      <td>The Pine Martens made an early morning raid on...</td>\n",
       "      <td>1</td>\n",
       "      <td>227</td>\n",
       "      <td>199</td>\n",
       "      <td>28</td>\n",
       "      <td>1266</td>\n",
       "      <td>the pine made an early morning raid on the fee...</td>\n",
       "      <td>pine martens made early morning raid feeder ne...</td>\n",
       "    </tr>\n",
       "  </tbody>\n",
       "</table>\n",
       "<p>12261 rows × 8 columns</p>\n",
       "</div>"
      ],
      "text/plain": [
       "                                                     text  label  engages  \\\n",
       "69430                 Switzerland https://t.co/HKTmJPPZt1      0     1904   \n",
       "69802   OMG 😍 This app analyzes call/text logs for any...      0       45   \n",
       "69860      Amazing South Africa 😍 https://t.co/0wnRYgY70d      0      395   \n",
       "69995                 DON'T TRUST https://t.co/aQU5HF9B1b      0      571   \n",
       "70388   Sunset on palouse, Washington https://t.co/zuj...      1       66   \n",
       "...                                                   ...    ...      ...   \n",
       "785226  American pikas are small N. American mammals t...      1      425   \n",
       "785227  Severe droughts parched western North America ...      1      532   \n",
       "785481  The U.S. West Coast seafloor is home to many h...      1      124   \n",
       "785722  Sneezewort (Achillea ptarmica). Its Latin name...      1       35   \n",
       "785723  The Pine Martens made an early morning raid on...      1      227   \n",
       "\n",
       "        likes  retweets   usFlwrs  \\\n",
       "69430    1492       412    104918   \n",
       "69802      40         5        93   \n",
       "69860     294       101    161635   \n",
       "69995     403       168    173022   \n",
       "70388      58         8     67914   \n",
       "...       ...       ...       ...   \n",
       "785226    336        89    447142   \n",
       "785227    423       109  23069242   \n",
       "785481     83        41    346803   \n",
       "785722     32         3        18   \n",
       "785723    199        28      1266   \n",
       "\n",
       "                                               clean_text  \\\n",
       "69430                                                   t   \n",
       "69802   😍 this call text for any phone number 👉 search...   \n",
       "69860                                   amazing south 😍 t   \n",
       "69995                                       don t trust t   \n",
       "70388                                         sunset on t   \n",
       "...                                                   ...   \n",
       "785226  are small n that inhabit rocky at high during ...   \n",
       "785227  severe western north of ago a new analysis thr...   \n",
       "785481  the u s west coast is home to many from coral ...   \n",
       "785722  sneezewort its name is derived from the sneeze...   \n",
       "785723  the pine made an early morning raid on the fee...   \n",
       "\n",
       "                                           processed_text  \n",
       "69430                                         switzerland  \n",
       "69802   omg app analyzes call text logs phone number s...  \n",
       "69860                                amazing south africa  \n",
       "69995                                               trust  \n",
       "70388                           sunset palouse washington  \n",
       "...                                                   ...  \n",
       "785226  american pikas small n american mammals inhabi...  \n",
       "785227  severe droughts parched western north america ...  \n",
       "785481  u west coast seafloor home many habitats coral...  \n",
       "785722  sneezewort achillea ptarmica latin name derive...  \n",
       "785723  pine martens made early morning raid feeder ne...  \n",
       "\n",
       "[12261 rows x 8 columns]"
      ]
     },
     "execution_count": 53,
     "metadata": {},
     "output_type": "execute_result"
    }
   ],
   "source": [
    "df_nature_label[~bool_series]"
   ]
  },
  {
   "cell_type": "code",
   "execution_count": 55,
   "metadata": {},
   "outputs": [],
   "source": [
    "df_processed = df_nature_label[~bool_series]"
   ]
  },
  {
   "cell_type": "code",
   "execution_count": null,
   "metadata": {},
   "outputs": [],
   "source": []
  },
  {
   "cell_type": "code",
   "execution_count": null,
   "metadata": {},
   "outputs": [],
   "source": []
  },
  {
   "cell_type": "code",
   "execution_count": null,
   "metadata": {},
   "outputs": [],
   "source": []
  },
  {
   "cell_type": "code",
   "execution_count": null,
   "metadata": {},
   "outputs": [],
   "source": []
  },
  {
   "cell_type": "code",
   "execution_count": 56,
   "metadata": {},
   "outputs": [],
   "source": [
    "X = df_processed['processed_text'].to_numpy()\n",
    "y = df_processed['label'].to_numpy()"
   ]
  },
  {
   "cell_type": "code",
   "execution_count": 57,
   "metadata": {},
   "outputs": [
    {
     "data": {
      "text/plain": [
       "(12261,)"
      ]
     },
     "execution_count": 57,
     "metadata": {},
     "output_type": "execute_result"
    }
   ],
   "source": [
    "X.shape"
   ]
  },
  {
   "cell_type": "code",
   "execution_count": 58,
   "metadata": {},
   "outputs": [
    {
     "data": {
      "text/plain": [
       "array(['switzerland',\n",
       "       'omg app analyzes call text logs phone number search call app store',\n",
       "       'amazing south africa', 'trust', 'sunset palouse washington'],\n",
       "      dtype=object)"
      ]
     },
     "execution_count": 58,
     "metadata": {},
     "output_type": "execute_result"
    }
   ],
   "source": [
    "X[:5]"
   ]
  },
  {
   "cell_type": "code",
   "execution_count": 59,
   "metadata": {},
   "outputs": [
    {
     "data": {
      "text/plain": [
       "(12261,)"
      ]
     },
     "execution_count": 59,
     "metadata": {},
     "output_type": "execute_result"
    }
   ],
   "source": [
    "y.shape"
   ]
  },
  {
   "cell_type": "code",
   "execution_count": 60,
   "metadata": {},
   "outputs": [
    {
     "data": {
      "text/plain": [
       "array([0, 0, 0, 0, 1], dtype=int64)"
      ]
     },
     "execution_count": 60,
     "metadata": {},
     "output_type": "execute_result"
    }
   ],
   "source": [
    "y[:5]"
   ]
  },
  {
   "cell_type": "code",
   "execution_count": 61,
   "metadata": {},
   "outputs": [],
   "source": [
    "X_train, X_test, y_train, y_test = train_test_split(\n",
    "    X, y, test_size=0.33, random_state=42)"
   ]
  },
  {
   "cell_type": "code",
   "execution_count": 62,
   "metadata": {},
   "outputs": [
    {
     "data": {
      "text/plain": [
       "array(['sure weekend come along one 30dayswild big wild weekend events wildlife walks identification events music festivals storytelling much see whatever weather',\n",
       "       'new british nature guide logo thought keep message simple put black white ourworldisworthsaving every living thing calls home',\n",
       "       'finally ran canela 2 months seeing', ...,\n",
       "       'earthday great see un special envoy climate action provide additional 5 5 million filling gap federal funding ensuring u climate leadership continues',\n",
       "       'thanks playing along neptune wee new moon given name hippocamp spacesaturday',\n",
       "       'heather shieldbug rhacognathus punctatus striking teneral nymph insect 2 5 hours later found attendee field cricket training yesterday lord piece'],\n",
       "      dtype=object)"
      ]
     },
     "execution_count": 62,
     "metadata": {},
     "output_type": "execute_result"
    }
   ],
   "source": [
    "X_train"
   ]
  },
  {
   "cell_type": "code",
   "execution_count": 63,
   "metadata": {},
   "outputs": [
    {
     "data": {
      "text/plain": [
       "(8214,)"
      ]
     },
     "execution_count": 63,
     "metadata": {},
     "output_type": "execute_result"
    }
   ],
   "source": [
    "X_train.shape"
   ]
  },
  {
   "cell_type": "code",
   "execution_count": 64,
   "metadata": {},
   "outputs": [
    {
     "data": {
      "text/plain": [
       "numpy.ndarray"
      ]
     },
     "execution_count": 64,
     "metadata": {},
     "output_type": "execute_result"
    }
   ],
   "source": [
    "type(X_train)"
   ]
  },
  {
   "cell_type": "code",
   "execution_count": 65,
   "metadata": {},
   "outputs": [
    {
     "data": {
      "text/plain": [
       "array([1, 1, 1, ..., 1, 0, 1], dtype=int64)"
      ]
     },
     "execution_count": 65,
     "metadata": {},
     "output_type": "execute_result"
    }
   ],
   "source": [
    "y_train"
   ]
  },
  {
   "cell_type": "code",
   "execution_count": 66,
   "metadata": {},
   "outputs": [
    {
     "data": {
      "text/plain": [
       "array([1, 1, 1, 0, 1, 1, 1, 0, 1, 1, 1, 1, 1, 1, 0, 0, 0, 1, 0, 1, 1, 0,\n",
       "       0, 0, 1, 1, 1, 1, 1, 1, 1, 1, 0, 0, 1, 1, 1, 1, 1, 1, 0, 1, 1, 1,\n",
       "       1, 1, 1, 1, 1, 1, 1, 1, 0, 1, 0, 0, 0, 1, 1, 1, 1, 1, 1, 1, 0, 1,\n",
       "       0, 1, 1, 1, 1, 1, 0, 1, 0, 1, 1, 1, 1, 0, 1, 1, 1, 0, 1, 1, 1, 1,\n",
       "       1, 1, 1, 1, 1, 1, 1, 1, 0, 1, 0, 1], dtype=int64)"
      ]
     },
     "execution_count": 66,
     "metadata": {},
     "output_type": "execute_result"
    }
   ],
   "source": [
    "y_train[:100]"
   ]
  },
  {
   "cell_type": "code",
   "execution_count": 67,
   "metadata": {},
   "outputs": [
    {
     "data": {
      "text/plain": [
       "array([0, 1], dtype=int64)"
      ]
     },
     "execution_count": 67,
     "metadata": {},
     "output_type": "execute_result"
    }
   ],
   "source": [
    "np.unique(y_train)"
   ]
  },
  {
   "cell_type": "code",
   "execution_count": 68,
   "metadata": {},
   "outputs": [
    {
     "name": "stdout",
     "output_type": "stream",
     "text": [
      "Samples per class (training): [2535 5679]\n"
     ]
    }
   ],
   "source": [
    "print(\"Samples per class (training): {}\".format(np.bincount(y_train)))"
   ]
  },
  {
   "cell_type": "code",
   "execution_count": 69,
   "metadata": {},
   "outputs": [
    {
     "name": "stdout",
     "output_type": "stream",
     "text": [
      "Number of documents in test data: 4047\n",
      "Samples per class (test): [1217 2830]\n"
     ]
    }
   ],
   "source": [
    "print(\"Number of documents in test data: {}\".format(len(X_test)))\n",
    "print(\"Samples per class (test): {}\".format(np.bincount(y_test)))"
   ]
  },
  {
   "cell_type": "code",
   "execution_count": 70,
   "metadata": {},
   "outputs": [
    {
     "data": {
      "text/plain": [
       "<matplotlib.axes._subplots.AxesSubplot at 0x22ed8b08408>"
      ]
     },
     "execution_count": 70,
     "metadata": {},
     "output_type": "execute_result"
    },
    {
     "data": {
      "image/png": "[encoded data removed]",
      "text/plain": [
       "<Figure size 432x288 with 1 Axes>"
      ]
     },
     "metadata": {
      "needs_background": "light"
     },
     "output_type": "display_data"
    }
   ],
   "source": [
    "df_processed['label'].value_counts().plot(kind='bar')"
   ]
  },
  {
   "cell_type": "markdown",
   "metadata": {},
   "source": [
    "### CountVectorizer"
   ]
  },
  {
   "cell_type": "code",
   "execution_count": 71,
   "metadata": {},
   "outputs": [],
   "source": [
    "vect = CountVectorizer().fit(X_train)"
   ]
  },
  {
   "cell_type": "code",
   "execution_count": 72,
   "metadata": {},
   "outputs": [
    {
     "data": {
      "text/plain": [
       "CountVectorizer(analyzer='word', binary=False, decode_error='strict',\n",
       "                dtype=<class 'numpy.int64'>, encoding='utf-8', input='content',\n",
       "                lowercase=True, max_df=1.0, max_features=None, min_df=1,\n",
       "                ngram_range=(1, 1), preprocessor=None, stop_words=None,\n",
       "                strip_accents=None, token_pattern='(?u)\\\\b\\\\w\\\\w+\\\\b',\n",
       "                tokenizer=None, vocabulary=None)"
      ]
     },
     "execution_count": 72,
     "metadata": {},
     "output_type": "execute_result"
    }
   ],
   "source": [
    "vect"
   ]
  },
  {
   "cell_type": "code",
   "execution_count": 73,
   "metadata": {},
   "outputs": [
    {
     "name": "stdout",
     "output_type": "stream",
     "text": [
      "Number of features: 16747\n",
      "First 20 features:\n",
      "['00', '000', '000kg', '001', '0020', '00pm', '015833', '018', '0191', '01929', '02', '03', '04', '045325', '0458', '05', '0580', '058101', '05pm', '06']\n",
      "Features 20010 to 20030:\n",
      "[]\n",
      "Every 2000th feature:\n",
      "['00', 'bitcoin', 'currents', 'foragingfriday', 'jays', 'nbnawards19', 'ravage', 'square', 'wagtail']\n"
     ]
    }
   ],
   "source": [
    "feature_names = vect.get_feature_names()\n",
    "print(\"Number of features: {}\".format(len(feature_names)))\n",
    "print(\"First 20 features:\\n{}\".format(feature_names[:20]))\n",
    "print(\"Features 20010 to 20030:\\n{}\".format(feature_names[20010:20030]))\n",
    "print(\"Every 2000th feature:\\n{}\".format(feature_names[::2000]))"
   ]
  },
  {
   "cell_type": "code",
   "execution_count": 74,
   "metadata": {},
   "outputs": [
    {
     "name": "stdout",
     "output_type": "stream",
     "text": [
      "X_train:\n",
      "<8214x16747 sparse matrix of type '<class 'numpy.int64'>'\n",
      "\twith 93279 stored elements in Compressed Sparse Row format>\n"
     ]
    }
   ],
   "source": [
    "X_train_vect = vect.transform(X_train)\n",
    "print(\"X_train:\\n{}\".format(repr(X_train_vect)))"
   ]
  },
  {
   "cell_type": "code",
   "execution_count": 75,
   "metadata": {},
   "outputs": [
    {
     "name": "stdout",
     "output_type": "stream",
     "text": [
      "Mean cross-validation accuracy: 0.76\n"
     ]
    }
   ],
   "source": [
    "scores = cross_val_score(LogisticRegression(max_iter=5000), X_train_vect, y_train, cv=5)\n",
    "print(\"Mean cross-validation accuracy: {:.2f}\".format(np.mean(scores)))"
   ]
  },
  {
   "cell_type": "code",
   "execution_count": 76,
   "metadata": {},
   "outputs": [
    {
     "name": "stdout",
     "output_type": "stream",
     "text": [
      "Best cross-validation score: 0.76\n",
      "Best parameters:  {'C': 1}\n"
     ]
    }
   ],
   "source": [
    "param_grid = {'C': [0.001, 0.01, 0.1, 1, 10]}\n",
    "grid = GridSearchCV(LogisticRegression(max_iter=5000), param_grid, cv=5)\n",
    "grid.fit(X_train_vect, y_train)\n",
    "print(\"Best cross-validation score: {:.2f}\".format(grid.best_score_))\n",
    "print(\"Best parameters: \", grid.best_params_)"
   ]
  },
  {
   "cell_type": "code",
   "execution_count": 77,
   "metadata": {},
   "outputs": [
    {
     "name": "stdout",
     "output_type": "stream",
     "text": [
      "Test score: 0.77\n"
     ]
    }
   ],
   "source": [
    "X_test_vect = vect.transform(X_test)\n",
    "print(\"Test score: {:.2f}\".format(grid.score(X_test_vect, y_test)))"
   ]
  },
  {
   "cell_type": "markdown",
   "metadata": {},
   "source": [
    "#### Count Vectorizer: min_df=5"
   ]
  },
  {
   "cell_type": "code",
   "execution_count": 78,
   "metadata": {},
   "outputs": [
    {
     "name": "stdout",
     "output_type": "stream",
     "text": [
      "X_train with min_df: <8214x3580 sparse matrix of type '<class 'numpy.int64'>'\n",
      "\twith 72788 stored elements in Compressed Sparse Row format>\n"
     ]
    }
   ],
   "source": [
    "vect_min5 = CountVectorizer(min_df=5).fit(X_train)\n",
    "X_train_vect_min5 = vect_min5.transform(X_train)\n",
    "print(\"X_train with min_df: {}\".format(repr(X_train_vect_min5)))"
   ]
  },
  {
   "cell_type": "code",
   "execution_count": 79,
   "metadata": {},
   "outputs": [
    {
     "name": "stdout",
     "output_type": "stream",
     "text": [
      "First 50 features:\n",
      "['000', '07', '0710', '10', '100', '10p', '11', '110', '12', '13', '14', '15', '150', '16', '17', '18', '180', '19', '19th', '1st', '20', '200', '2009', '2015', '2016', '2017', '2018', '2019', '2020', '2030', '2050', '21', '22', '23', '24', '25', '250', '27', '28', '29', '2nd', '2pm', '30', '300', '30dayswild', '30pm', '31', '32', '33', '35']\n",
      "Features 20010 to 20030:\n",
      "[]\n",
      "Every 700th feature:\n",
      "['000', 'concern', 'goodnight', 'narrow', 'services', 'winning']\n"
     ]
    }
   ],
   "source": [
    "feature_names_min5 = vect_min5.get_feature_names()\n",
    "\n",
    "print(\"First 50 features:\\n{}\".format(feature_names_min5[:50]))\n",
    "print(\"Features 20010 to 20030:\\n{}\".format(feature_names_min5[20010:20030]))\n",
    "print(\"Every 700th feature:\\n{}\".format(feature_names_min5[::700]))"
   ]
  },
  {
   "cell_type": "code",
   "execution_count": 80,
   "metadata": {},
   "outputs": [
    {
     "name": "stdout",
     "output_type": "stream",
     "text": [
      "Best cross-validation score: 0.75\n"
     ]
    }
   ],
   "source": [
    "grid = GridSearchCV(LogisticRegression(max_iter=5000), param_grid, cv=5)\n",
    "grid.fit(X_train_vect_min5, y_train)\n",
    "print(\"Best cross-validation score: {:.2f}\".format(grid.best_score_))"
   ]
  },
  {
   "cell_type": "markdown",
   "metadata": {},
   "source": [
    "### TF-IDF Vectorizer"
   ]
  },
  {
   "cell_type": "code",
   "execution_count": 81,
   "metadata": {},
   "outputs": [
    {
     "name": "stdout",
     "output_type": "stream",
     "text": [
      "Best cross-validation score: 0.75\n"
     ]
    }
   ],
   "source": [
    "pipe = make_pipeline(TfidfVectorizer(min_df=5, norm=None),\n",
    "                     LogisticRegression(max_iter=5000))\n",
    "param_grid = {'logisticregression__C': [0.001, 0.01, 0.1, 1, 10]}\n",
    "\n",
    "grid = GridSearchCV(pipe, param_grid, cv=5)\n",
    "grid.fit(X_train, y_train)\n",
    "print(\"Best cross-validation score: {:.2f}\".format(grid.best_score_))"
   ]
  },
  {
   "cell_type": "code",
   "execution_count": 82,
   "metadata": {},
   "outputs": [
    {
     "name": "stdout",
     "output_type": "stream",
     "text": [
      "Features with lowest tfidf:\n",
      "['photographer' 'learn' 'tell' 'ig' '30dayswild' 'blueplanetlive' 'via'\n",
      " 'small' 'twitternaturecommunity' '10' 'shot' 'worldbutterflyfest'\n",
      " 'findyourpark' 'animalerlive' 'red' 'tonight' 'ago' 'scientists' 'thanks'\n",
      " 'earthcapture']\n",
      "Features with highest tfidf: \n",
      "['sharks' 'tit' 'squid' 'bull' 'litter' 'duck' 'monk' 'deep' 'news'\n",
      " 'thistle' 'transportation' 'istanbul' 'girl' 'electric' 'step' 'sheep'\n",
      " 'giraffe' 'volcano' 'horn' 'cleaner']\n"
     ]
    }
   ],
   "source": [
    "vectorizer = grid.best_estimator_.named_steps[\"tfidfvectorizer\"]\n",
    "# transform the training dataset:\n",
    "X_train_vect = vectorizer.transform(X_train)\n",
    "# find maximum value for each of the features over dataset:\n",
    "max_value = X_train_vect.max(axis=0).toarray().ravel()\n",
    "sorted_by_tfidf = max_value.argsort()\n",
    "# get feature names\n",
    "feature_names = np.array(vectorizer.get_feature_names())\n",
    "\n",
    "print(\"Features with lowest tfidf:\\n{}\".format(\n",
    "      feature_names[sorted_by_tfidf[:20]]))\n",
    "\n",
    "print(\"Features with highest tfidf: \\n{}\".format(\n",
    "      feature_names[sorted_by_tfidf[-20:]]))"
   ]
  },
  {
   "cell_type": "code",
   "execution_count": 83,
   "metadata": {},
   "outputs": [
    {
     "name": "stdout",
     "output_type": "stream",
     "text": [
      "Features with lowest idf:\n",
      "['one' 'wildlife' 'nature' 'today' 'new' 'world' 'day' 'help' 'like'\n",
      " 'species' 'us' 'see' 'time' 'ourworldisworthsaving' 'year' 'get' 'photo'\n",
      " 'beautiful' 'first' 'water' 'sea' 'great' 'people' 'earth' 'find' 'live'\n",
      " 'know' 'years' 'life' 'wild' 'make' 'learn' 'photographer' 'could' 'look'\n",
      " 'last' 'take' 'little' 'climate' 'plastic' 'garden' 'around' 'national'\n",
      " 'planet' 'ocean' 'animals' 'week' 'good' 'protect' 'need' 'tell' 'change'\n",
      " 'ig' 'oceans' 'many' 'marine' 'love' 'found' 'birds' '30dayswild'\n",
      " 'amazing' 'two' 'blue' 'use' 'photos' 'blueplanetlive' 'way' 'may' 'work'\n",
      " 'uk' 'seen' 'go' 'would' 'park' 'conservation' 'best' 'back' 'watch'\n",
      " 'morning' 'via' 'butterflies' 'act' 'small' 'every' 'also' 'much' 'long'\n",
      " 'across' 'join' 'home' 'twitternaturecommunity' '10' 'shot' 'food'\n",
      " 'right' 'science' 'butterfly' 'worldbutterflyfest' 'happy' 'findyourpark']\n"
     ]
    }
   ],
   "source": [
    "sorted_by_idf = np.argsort(vectorizer.idf_)\n",
    "print(\"Features with lowest idf:\\n{}\".format(\n",
    "       feature_names[sorted_by_idf[:100]]))"
   ]
  },
  {
   "cell_type": "code",
   "execution_count": 84,
   "metadata": {},
   "outputs": [
    {
     "data": {
      "image/png": "[encoded data removed]",
      "text/plain": [
       "<Figure size 1080x360 with 1 Axes>"
      ]
     },
     "metadata": {
      "needs_background": "light"
     },
     "output_type": "display_data"
    }
   ],
   "source": [
    "mglearn.tools.visualize_coefficients(\n",
    "    grid.best_estimator_.named_steps[\"logisticregression\"].coef_,\n",
    "    feature_names, n_top_features=40)"
   ]
  },
  {
   "cell_type": "markdown",
   "metadata": {},
   "source": [
    "max_iter=5000"
   ]
  },
  {
   "cell_type": "code",
   "execution_count": 85,
   "metadata": {},
   "outputs": [
    {
     "name": "stdout",
     "output_type": "stream",
     "text": [
      "Best cross-validation score: 0.75\n",
      "Best parameters:\n",
      "{'logisticregression__C': 1, 'tfidfvectorizer__ngram_range': (1, 2)}\n"
     ]
    }
   ],
   "source": [
    "pipe = make_pipeline(TfidfVectorizer(min_df=5), LogisticRegression(max_iter=5000))\n",
    "# running the grid-search takes a long time because of the\n",
    "# relatively large grid and the inclusion of trigrams\n",
    "# param_grid = {'logisticregression__C': [0.001, 0.01, 0.1, 1, 10, 100],\n",
    "#               \"tfidfvectorizer__ngram_range\": [(1, 1), (1, 2), (1, 3)]}\n",
    "\n",
    "param_grid = {'logisticregression__C': [1, 10, 100],\n",
    "              \"tfidfvectorizer__ngram_range\": [(1, 1), (1, 2)]}\n",
    "\n",
    "grid = GridSearchCV(pipe, param_grid, cv=5)\n",
    "grid.fit(X_train, y_train)\n",
    "print(\"Best cross-validation score: {:.2f}\".format(grid.best_score_))\n",
    "print(\"Best parameters:\\n{}\".format(grid.best_params_))"
   ]
  },
  {
   "cell_type": "code",
   "execution_count": 86,
   "metadata": {},
   "outputs": [
    {
     "data": {
      "text/plain": [
       "<matplotlib.colorbar.Colorbar at 0x22ed87c9748>"
      ]
     },
     "execution_count": 86,
     "metadata": {},
     "output_type": "execute_result"
    },
    {
     "data": {
      "image/png": "[encoded data removed]",
      "text/plain": [
       "<Figure size 432x288 with 2 Axes>"
      ]
     },
     "metadata": {
      "needs_background": "light"
     },
     "output_type": "display_data"
    }
   ],
   "source": [
    "# extract scores from grid_search\n",
    "scores = grid.cv_results_['mean_test_score'].reshape(-1, 2).T\n",
    "# visualize heat map\n",
    "heatmap = mglearn.tools.heatmap(\n",
    "    scores, xlabel=\"C\", ylabel=\"ngram_range\", cmap=\"viridis\", fmt=\"%.3f\",\n",
    "    xticklabels=param_grid['logisticregression__C'],\n",
    "    yticklabels=param_grid['tfidfvectorizer__ngram_range'])\n",
    "plt.colorbar(heatmap)"
   ]
  },
  {
   "cell_type": "code",
   "execution_count": null,
   "metadata": {},
   "outputs": [],
   "source": [
    "# # extract scores from grid_search\n",
    "# scores = grid.cv_results_['mean_test_score'].reshape(-1, 3).T\n",
    "# # visualize heat map\n",
    "# heatmap = mglearn.tools.heatmap(\n",
    "#     scores, xlabel=\"C\", ylabel=\"ngram_range\", cmap=\"viridis\", fmt=\"%.3f\",\n",
    "#     xticklabels=param_grid['logisticregression__C'],\n",
    "#     yticklabels=param_grid['tfidfvectorizer__ngram_range'])\n",
    "# plt.colorbar(heatmap)"
   ]
  },
  {
   "cell_type": "code",
   "execution_count": 87,
   "metadata": {},
   "outputs": [
    {
     "data": {
      "text/plain": [
       "(-22.0, 22.0)"
      ]
     },
     "execution_count": 87,
     "metadata": {},
     "output_type": "execute_result"
    },
    {
     "data": {
      "image/png": "[encoded data removed]",
      "text/plain": [
       "<Figure size 1080x360 with 1 Axes>"
      ]
     },
     "metadata": {
      "needs_background": "light"
     },
     "output_type": "display_data"
    }
   ],
   "source": [
    "# extract feature names and coefficients\n",
    "vect = grid.best_estimator_.named_steps['tfidfvectorizer']\n",
    "feature_names = np.array(vect.get_feature_names())\n",
    "coef = grid.best_estimator_.named_steps['logisticregression'].coef_\n",
    "mglearn.tools.visualize_coefficients(coef, feature_names, n_top_features=40)\n",
    "plt.ylim(-22, 22)"
   ]
  },
  {
   "cell_type": "code",
   "execution_count": 88,
   "metadata": {},
   "outputs": [
    {
     "data": {
      "text/plain": [
       "(-22.0, 22.0)"
      ]
     },
     "execution_count": 88,
     "metadata": {},
     "output_type": "execute_result"
    },
    {
     "data": {
      "image/png": "[encoded data removed]",
      "text/plain": [
       "<Figure size 1080x360 with 1 Axes>"
      ]
     },
     "metadata": {
      "needs_background": "light"
     },
     "output_type": "display_data"
    }
   ],
   "source": [
    "# find 2-gram features\n",
    "mask = np.array([len(feature.split(\" \")) for feature in feature_names]) == 2\n",
    "# visualize only 2-gram features\n",
    "mglearn.tools.visualize_coefficients(coef.ravel()[mask],\n",
    "                                     feature_names[mask], n_top_features=40)\n",
    "plt.ylim(-22, 22)"
   ]
  },
  {
   "cell_type": "code",
   "execution_count": 89,
   "metadata": {},
   "outputs": [],
   "source": [
    "y_pred = grid.best_estimator_.predict(X_train)"
   ]
  },
  {
   "cell_type": "code",
   "execution_count": 90,
   "metadata": {},
   "outputs": [
    {
     "name": "stdout",
     "output_type": "stream",
     "text": [
      "[[1382 1153]\n",
      " [ 150 5529]]\n"
     ]
    }
   ],
   "source": [
    "print(confusion_matrix(y_train, y_pred))"
   ]
  },
  {
   "cell_type": "code",
   "execution_count": 91,
   "metadata": {},
   "outputs": [
    {
     "name": "stdout",
     "output_type": "stream",
     "text": [
      "F-Measure: 0.895\n"
     ]
    }
   ],
   "source": [
    "score_train = f1_score(y_train, y_pred, average = 'binary')\n",
    "print('F-Measure: %.3f' % score_train)"
   ]
  },
  {
   "cell_type": "code",
   "execution_count": 92,
   "metadata": {},
   "outputs": [],
   "source": [
    "y_test_pred = grid.best_estimator_.predict(X_test)"
   ]
  },
  {
   "cell_type": "code",
   "execution_count": 93,
   "metadata": {},
   "outputs": [
    {
     "name": "stdout",
     "output_type": "stream",
     "text": [
      "[[ 472  745]\n",
      " [ 184 2646]]\n"
     ]
    }
   ],
   "source": [
    "print(confusion_matrix(y_test, y_test_pred))"
   ]
  },
  {
   "cell_type": "code",
   "execution_count": 94,
   "metadata": {},
   "outputs": [
    {
     "name": "stdout",
     "output_type": "stream",
     "text": [
      "F-Measure: 0.851\n"
     ]
    }
   ],
   "source": [
    "score_test = f1_score(y_test, y_test_pred, average = 'binary')\n",
    "print('F-Measure: %.3f' % score_test)"
   ]
  },
  {
   "cell_type": "code",
   "execution_count": 95,
   "metadata": {},
   "outputs": [
    {
     "name": "stdout",
     "output_type": "stream",
     "text": [
      "              precision    recall  f1-score   support\n",
      "\n",
      "           0       0.72      0.39      0.50      1217\n",
      "           1       0.78      0.93      0.85      2830\n",
      "\n",
      "    accuracy                           0.77      4047\n",
      "   macro avg       0.75      0.66      0.68      4047\n",
      "weighted avg       0.76      0.77      0.75      4047\n",
      "\n"
     ]
    }
   ],
   "source": [
    "actual = y_test.tolist() \n",
    "predicted = y_test_pred \n",
    "print (classification_report(actual, predicted) )"
   ]
  },
  {
   "cell_type": "markdown",
   "metadata": {},
   "source": [
    "### Random Forest\n",
    "\n"
   ]
  },
  {
   "cell_type": "markdown",
   "metadata": {},
   "source": [
    "Had an error running cell below. I didn't realize the specfic keys in param_grid:\n",
    "https://stackoverflow.com/questions/64089009/how-can-i-tune-the-parameters-in-a-random-forest-classifier-inside-a-pipeline"
   ]
  },
  {
   "cell_type": "code",
   "execution_count": 96,
   "metadata": {},
   "outputs": [
    {
     "name": "stdout",
     "output_type": "stream",
     "text": [
      "Best cross-validation score: 0.75\n",
      "Best parameters:\n",
      "{'randomforestclassifier__n_estimators': 800, 'tfidfvectorizer__ngram_range': (1, 1)}\n"
     ]
    }
   ],
   "source": [
    "pipe = make_pipeline(TfidfVectorizer(min_df=5), RandomForestClassifier())\n",
    "# running the grid-search takes a long time because of the\n",
    "# relatively large grid and the inclusion of trigrams\n",
    "param_grid = {\"tfidfvectorizer__ngram_range\": [(1, 1), (1, 2)],\n",
    "              \"randomforestclassifier__n_estimators\": [800, 1000]\n",
    "              }\n",
    "\n",
    "grid = GridSearchCV(pipe, param_grid, cv=5)\n",
    "grid.fit(X_train, y_train)\n",
    "print(\"Best cross-validation score: {:.2f}\".format(grid.best_score_))\n",
    "print(\"Best parameters:\\n{}\".format(grid.best_params_))"
   ]
  },
  {
   "cell_type": "code",
   "execution_count": 97,
   "metadata": {},
   "outputs": [
    {
     "data": {
      "text/html": [
       "\n",
       "                <audio  controls=\"controls\" autoplay=\"autoplay\">\n",
       "                    <source src=\"data:audio/wav;base64,UklGRoBnAABXQVZFZm10IBAAAAABAAEAOhEAAHQiAAACABAAZGF0YVxnAAAAALkwE1radfx/K3cIXdo10AcF2lKzR5lNjy+WF6zxzCvzrhjeN3hMMlT4Tss+QifUDAD0iODZ1LjRTNZp4B/tYvmrAnsHlgf6A5v+1/nq91n6iAGVDG8ZOCXfLMEtTyZ7Fun/veUxzNu32qwMrm68ztbT+XQgt0SnYFlvx21oW2Q6Tg994BC1zZMLgsiCL5Z8uXDnGxn6RiFqVH3cfehrgEr/Hi/wLcVNpB2SupCXn6e7+t+YBospzEMKUhdT90eMM/gZ0f9N6ZDZN9Iv0+XatuaO85P+tQUWCB8GVgH4+2X4i/hq/b4GBhO5H8opSi4SK0sfvwvh8nTY+8DosNKrsbNuyLbnQw13MzlU+2mvcIRmUEyAJar3qsmYoqKIBoBeilKmy8+OADwxeFoRdv1/93apXF01SgeK2fSyE5lJj1qWZ6xZzZrzEhkpOKBMNFTYTpA++SaJDMDzW+DE1LvRY9aL4ETtgvm/AoIHkAfsA4v+zPnq92f6owG5DJMZVSXsLLgtLSZEFqL/ceXty623y6wirqq8J9c/+uEgFUXmYG1vqm0dW/U5yw7536C0g5PygeaCf5bzufznpxlwR3BqcX3CfZ1rEEp7Hqzvv8QDpAGSz5DXnwa8Z+ADB+QpB0QgUghTyEdIM6wZiv8V6W/ZLtI80wLb2uax863+wwUWCBQGRgHq+1/4kvh+/d4GKxPaH+ApTS79Kh0ffguW8ivYwcDJsNWr27O6yBvosg3fM4lUJWqqcE9m8UsFJST3Lsk5onCICYCWiremT9AcAb8x3FpHdv5/w3ZJXOE0xAYP2Zay4JhFj4WWuKzBzQj0dhlzOMhMN1S4TlY+sCY+DIDzL+Cv1L7Redat4GntofnUAokHigfeA3z+wvnr93X6vgHcDLgZciX5LK4tCyYLFlr/JeWqy3+3vaw5ruW8gdeq+k4hckUkYX9vjG3SWoY5Rw523zC0OZPagQSDz5ZquofoMhrmR75qjX2ofVFrn0n3HSnvUcS6o+WR5JAWoGS81eBvBz0qQUQ1UvhSmUcEM2AZQ//e6E7ZJtJK0x/b/+bU88f+0AUWCAkGNgHc+1r4mviT/f0GTxP8H/UpTy7nKu8ePQtL8uLXh8CqsNqrBbQGyX/oIQ5GNNhUTmqlcBpmkUuJJJ72ssjboT6IDIDOih2n09CqAUIyQFt9dv5/j3boW2Q0PgaU2DmyrZhDj7CWCa0pznf02Rm+OPBMOVSXThs+ZibzC0DzAuCb1MLRkNbQ4I7twPnoAo8HhAfQA2z+uPnr94P62QH/DNwZjyUFLaUt6SXTFRP/2uRny1G3r6xQriG929cW+7whz0VhYZJvbm2GWhY5xA3y3sGz75LCgSODIJfhuhPpvRpbSAxrqH2NfQVrLklzHafu48Nwo8qR+ZBWoMO8Q+HaB5Uqe0RKUudSakfAMhQZ/f6n6C7ZHtJY0z3bI+f38+L+3QUWCP8FJwHP+1T4ofio/R0HdBMeIAsqUS7RKsEe/AoA8pnXTcCLsN6rL7RSyeTojw6uNCdVd2qecORlMksNJBj2Nsh9oQ2IEIAIi4SnV9E4AsUyo1uydv5/WnaHW+YzuAUa2NyxephAj9yWW62SzuX0PRoIORhNO1R2Tt89HSapCwDz1t+H1MbRptby4LPt4Pn8ApUHfgfCA13+rvns95H69AEjDQEarCUSLZstxyWbFcv+juQlyyS3oaxorl69NtiC+ykiLEaeYaNvUG06WqY4QA1v3lKzp5KrgUKDcpdZu5/pSBvQSFprwn1xfbhqvEjvHCTudcMoo7CRD5GXoCO9seFECO0qtEReUtdSOkd8MskYtv5w6A3ZFtJm01rbSOca9Pz+6gUWCPQFFwHB+0/4qPi9/T0HmRM/ICAqUy67KpMeuwq18VHXFMBtsOOrWrSfyUnp/g4VNXZVn2qYcK1l0kqRI5L1u8cgodyHFYBBi+qn29HGAkczBlzndv1/JHYmW2kzMgWf14CxSJg/jwmXrK36zlT1oBpSOT9NPFRVTqQ90yVeC8Dyqt9z1MnRvdYU4djt//kQA5wHeAe0A03+pPnt96D6DwJGDSUayCUeLZEtpCViFYT+QuTiyve2lKyArpu9kNju+5YiiUbbYbVvMG3tWTY4vQzs3eOyXpKVgWKDxJfRuyvq0xtFSadr3H1VfWpqSkhrHKHtCMPgopaRJZHYoIK9HuKvCEUr7URyUsZSCkc4Mn0YcP466O3YD9J003jbbec99Bb/9wUVCOkFBwG0+0r4sPjS/V4HvhNhIDUqVC6kKmUeeQpq8QjX2r9PsOirhbTsya7pbQ98NcRVx2qRcHZlcUoUIwz1P8fCoKyHGoB8i1KoYNJVA8kzaFwbd/x/7nXEWusyrAQm1ySxF5g+jzaX/61jz8L1AxubOWVNPVQzTmg9iSUTC4Dyft9f1M7R1NY24fztHvojA6EHcQemAz7+mvnu9676KgJqDUka5CUqLYYtgSUpFTz+9+Ofysq2h6yZrti969ha/AMj5kYXYsVvEW2gWcU3OQxp3XWyFpJ/gYODFphJvLfqXhy5SfNr9n04fR1q2EfmGx/tnMKYon2RPJEZoeK9jOIaCZ0rJkWFUrRS2kbzMTEYKf4D6M7YB9KD05bbkedg9DD/BAYUCN4F+ACm+0X4uPjo/X4H4xOCIEoqVS6OKjYeOAof8b/Wor8ysO6rsLQ5yhTq2w/jNRJW7mqJcD9lEEqXIob0xMZmoH2HIIC2i7mo5dLjA0s0ylxPd/p/t3ViWm4yJgSs1siw5pc9j2OXUa7MzzH2ZhvkOYtNPVQRTiw9PyXJCkHyU99M1NLR7NZZ4SHuPfo3A6cHaweYAy7+kPnv9736RgKNDW4aASY2LXwtXiXwFPT9q+Ndyp62e6yyrhW+RtnG/HAjQkdTYtVv8WxSWVQ3tQvm3Aeyz5FqgaSDaZjCvETr6BwtSj9sD34bfc5pZkdiG53sL8JRomSRVJFboUK++uKECfQrXkWYUqJSqUavMeUX4/3N567YAdKS07TbtueC9En/EQYUCNMF6ACZ+0D4wPj9/Z4HCBSjIF8qVi52Kgce9gnT8HfWab8VsPSr3LSHynnqShBJNmBWFWuBcAZlr0kbIgD0SsYJoE6HJoDyiyGpatNxBMw0LF2Cd/d/gHUAWvAxoAMy1m2wtpc9j5GXpK420J/2yBstOrFNPVTuTfA89SR+CgLyKN851NfRA9d74UbuXPpKA60HZAeKAx/+hvnw98z6YQKxDZIaHSZBLXEtOiW2FKz9YOMbynK2b6zLrlO+otky/dwjnkePYuVv0GwEWeM2MQtj3JqxiJFWgcaDvZg7vdDrcx2hSopsJ379fIBp80bdGhvsw8EKokyRbJGdoaK+aOPvCUsslUWrUpBSeUZqMZkXnf2X54/Y+tGh09Lb2+el9GP/HQYTCMgF2ACL+zz4yPgT/r8HLRTFIHQqVy5fKtgdtAmI8C7WMb/4r/urCbXVyt/quRCwNq1WO2t4cM5kTUmeIXrzz8Wunx+HLYAujIqp79P/BE41jV20d/N/SHWdWXExGwO51RKwhpc9j8CX966f0A33Kxx1OtdNPFTMTbQ8qyQ0CsPx/d4m1NzRG9ee4Wvue/pdA7IHXQd7Aw/+fPny99v6fQLVDbYaOSZMLWUtFyV9FGT9FOPZyUa2ZKzlrpK+/dmf/Ukk+UfJYvRvrmy1WHE2rQrg2y2xQpFCgeiDEZm0vVzs/R0US9VsPn7efDBpgEZYGpnrV8HEoTWRhJHfoQK/1uNZCqIszUW9Un5SSEYlMU4XV/1i53DY9NGw0/HbAOjI9Hz/KgYSCLwFyQB++zf40Pgp/t8HUhTmIIgqWC5HKqkdcgk98ObV+L7brwKsNrUky0XrKBEWN/pWYWtvcJVk60ggIfTyVcVSn/KGNIBqjPOpddSNBc817V3md+9/EHU5WfMwlQJA1bivV5c+j++XS68I0Xz3jRy9OvtNPFSoTXc8YSTpCYTx0t4U1OHRM9fB4Y/umfpxA7gHVwdtAwD+c/nz9+r6mQL4DdoaVCZXLVot8yRDFBz9yeKXyRu2WKz/rtC+WdoL/rYkVUgEYwNwjWxmWP81KQpd28Cw/JAugQuEZZkuvunshx6HSyBtVX6/fOFoDUbUGRfr7MB+oR2RnZEiomO/ROTDCvgsBEbPUmtSFkbgMAIXEf0s51LY7dG/0w/cJOjq9Jb/NgYQCLEFuQBx+zP42fg//gAIdxQHIZ0qWC4vKnkdMAnx757VwL6/rwmsY7Vyy6vrlhF8N0ZXhmtlcFtkiUijIG7y28T3nsSGPYCojFyq+9QbBlA2TV4XeOt/13TWWHQwDwLI1F6vKJdAjx6Ynq9y0er37xwFOyBOOlSFTTo8FySfCUXxqN4C1ObRS9fj4bTuuPqEA70HUAdfA/H9afn19/r6tQIcDv4acCZiLU4tziQJFNT8feJWyfC1Tqwarw+/tdp4/iIlsEg+YxFwamwWWI01pAnb2lOwt5AcgS+EupmovnbtER/5S2ltbH6ffJBomUVPGZbqgcA5oQeRtpFmosS/suQtC04tOkbgUldS5UWbMLYWy/z35jPY6NHP0y3cSegN9a//QgYPCKUFqQBk+y744fhV/iAInBQoIbEqWC4XKkkd7Qim71bVib6krxGskLXByxLsBRLiN5JXq2tbcCFkJkglIOjxYcSdnpiGRYDljMaqgdWpBtA2rV5IeOZ/nXRxWPUviQFP1AWv+ZZCj06Y86/c0Vj4UB1MO0ROOVRhTf07zSNVCQfxfd7w0+zRY9cG4tnu1vqWA8IHSQdQA+L9YPn39wn70QJADiIbiyZtLUItqiTPE4v8MuIUycW1Q6w1r0+/Etvk/o8lC0l4Yx5wR2zGVxs1IAlZ2uevcpAKgVOEEJoivwLumx9sTLNtgX5/fEBoJUXKGBTqFsD0oPGQ0JGqoiXAIeWXC6QtcUbxUkRSs0VWMGoWhvzC5hXY4tHf00zcbugv9cj/TgYNCJoFmQBX+yr46vhr/kEIwRRJIcUqVy7/KRkdqwha7w7VUb6IrxqsvrURzHjsdBJION5Xz2tQcOZjw0enH2Lx58NDnmuGT4AjjTCrB9Y3B1A3DF94eOB/Y3QNWHYvAwHX06uuzJZEj36YR7BG0sb4sh2TO2hON1Q9TcA7gyMLCcnwU97e0/LRe9cp4v3u9fqpA8cHQQdCA9L9V/n59xn77QJkDkYbpyZ3LTYthSSUE0P85uHTyJu1OaxQr4+/bttR//slZUmxYytwJGx2V6g0mwjW2XuvLpD4gHeEZpqdv4/uJSDdTPttl35efO9nsURFGJPprL+woNuQ65HuoobAj+UBDPktpkYBUy9SgEUQMB4WQPyN5vfX3dHv02vck+hR9eH/WQYMCI4FigBK+yb48/iC/mII5hRpIdgqVy7mKegcaAgP78bUGr5tryKs7bVhzN/s4hKtOClY82tEcKtjX0cpH9zwbsPpnUCGWYBijZqrjdbFB9A3a1+neNl/KXSoV/cufgBf01OunpZIj6+YnLCw0jT5Ex7ZO4tONFQZTYI7OCPBCIvwKt7N0/jRlNdM4iLvE/u7A8wHOgczA8P9Tvn79yn7CQOIDmobwiaCLSktYCRaE/r7m+GSyHC1MKxsr8+/y9u+/2cmv0nqYzhwAGwlVzU0FwhU2RCv6o/ngJ2EvJoYwBzvriBPTURuq348fJ1nPUTAFxLpQr9soMeQBpIyo+jA/eVqDE4u3EYRUxtSTkXKL9IV+/tZ5trX19H/04rcuOh09fr/ZQYKCIMFegA9+yL4/PiY/oMICxWKIewqVi7NKbgcJQjD7n7U471TryusG7axzEbtURMSOXRYFmw4cHBj+0arHlbw9cKQnRWGY4CijQWsFNdTCFA4yl/WeNJ/7nNDV3gu+f/n0vutcpZLj+CY8bAa06L5dB4fPK5OMVT0TEU77iJ3CE3wAN680/7RrNdv4kbvMfvOA9AHMwckA7T9Rfn+9zn7JgOsDo4b3SaMLR0tOyQfE7H7UOFRyEe1J6yIrw/AKdwqANMmGUoiZERw22vTVsEzkgfS2KWup4/XgMOEE5uTwKnvNyHATYtuv34afEtnyEM7F5Ho2L4poLKQIpJ3o0rBbObUDKMuEUchUwZSG0WFL4cVtvsk5rzX09EP1Knc3eiW9REAcAYICHcFagAw+x74Bfmv/qQIMBWqIf8qVS60KYcc4gd47jbUrb04rzWsS7YBza3twBN3Ob9YOWwscDNjl0YsHtDvfMI3neqFboDhjXGsm9fhCNA4J2AFect/snPdVvgtc/9w0qOtRpZPjxKZRrGE0xD61R5lPNBOLlTPTAc7oyItCA/w192r0wXSxdeS4mvvT/vgA9UHKwcWA6X9PPkA+En7QgPQDrIb+CaVLQ8tFSTkEmn7BeERyB21Hqylr1DAhtyXAD8nc0paZE9wtmuCVk4zDgdR2DquZI/HgOmEa5sPwTbwwSEwTtJu0374e/hmU0O2FhDob77mn56QPpK9o6zB2uY9DfguRUcwU/FR6EQ/LzsVcfvw5aDXztEg1MjcAum49SoAfAYGCGsFWgAj+xv4DvnG/sUIVRXLIRIrVC6aKVYcnwcs7u/Tdr0erz+serZSzRTuLxTcOQlZXGwfcPdiMkauHUrvBMLfnMGFeoAijtysIthvCU85hWAyecN/dnN3Vnkt7v750UutGpZUj0SZnLHv0376NR+rPPJOKlSpTMg6WSLjB9Lvrt2b0wvS3te14o/vbfvyA9kHJAcHA5b9M/kD+Fn7XwP0DtYbEyefLQIt7yOpEiD7ueDQx/S0FazCr5LA5NwEAasnzEqRZFpwkWsvVtoyiQbP19CtIo+4gBCFw5uLwcPwSiKgThlv5X7Ue6Vm3UIwFo/nBr6kn4uQWpICpA7CSOemDUwvekc/U9tRtUT5Lu8ULPu95YPXytEx1OfcJ+na9UIAhwYECF8FSwAW+xf4GPnd/uYIehXrISUrUi6AKSQcWwfg7afTQL0Fr0msqrajzXvunRRBOlNZfWwRcLpizUUvHcTujMGHnJeFh4Bjjkitqdj8Cc454mBgebp/OXMQVvksaP6C0fWs75VZj3eZ8rFZ1Oz6lR/wPBRPJlSETIo6DiKZB5Tvht2K0xPS99fZ4rTvi/sEBN0HHAf4Aob9KvkF+Gr7fAMYD/obLSeoLfQsySNtEtf6buCQx8u0Dazgr9PAQt1xARcoJUvIZGRwa2vdVWUyBAZN12at4I6pgDiFG5wHwlHx0yIQT19v936xe1JmaEKrFQ/nnb1in3iQd5JJpHHCt+cPDqAvrUdOU8VRgUSzLqMU5/qJ5WbXxtFC1AbdS+n89VoAkgYCCFMFOwAK+xT4Ifn0/ggJnxULIjgrUC5mKfMbGAeV7WDTCr3srlSs27b0zePuDBWlOp1Zn2wDcHxiaEWwHD/uFMEvnG6FlICkjrWtMNmKCkw6PmGMebB//HKqVXks4/0L0Z6sxJVfj6qZSbLE1Fr79R81PTVPIVRdTEw6xCFPB1fvXd160xrSENj84tjvqfsWBOEHFAfqAnf9IfkI+Hv7mQM8Dx0cSCexLecsoyMxEo76I+BQx6K0Bqz+rxXBoN3eAYMofkv/ZG5wRGuJVfExfwXM1vysn46bgGCFdJyDwt7xWyOAT6VvCX+Me/5l8kEmFY7mNb0hn2aQlZKPpNPCJeh4DvQv4UdbU69RTURsLlcUo/pW5UrXwtFT1CbdcOke9nMAnAb/B0cFKwD9+hD4K/kL/ykJxBUsIkorTi5MKcEb1AZJ7RnT1bzTrl+sC7dGzkvvexUJO+ZZwGz0bz5iAkUxHLntnMDYm0aFoYDmjiKuuNkYC8s6mmG4eaZ/vnJCVfgrXv2V0EismpVmj96Zn7Iv1cf7VSB5PVZPHVQ3TA06eSEGBxrvNd1r0yHSKtgf4/3vxvsnBOUHDAfbAmj9GfkL+Iv7tgNgD0EcYie6LdgsfCP2EUX62N8Qx3q0/6scsFjB/91MAu4o10s1ZXdwHWs2VXwx+gRL1pOsXo6OgImFzpwAw2vy5CPvT+pvGn9ne6lle0GgFA7mzbzgnlSQs5LWpDbDlOjgDkcwFEhpU5hRGUQmLgwUXvoi5S7XvtFl1EXdlelA9osApwb9BzsFGwDx+g34Nfki/0sJ6RVMIl0rTC4xKY8bkAb97NLSn7y6rmusPbeYzrPv6RVtOy5a4Gzlb/9hnESxGzPtJMCCmx+Fr4Apj4+uQNqmC0k79mHkeZx/gHLbVHgr2Pwf0PKrcJVsjxKa9rKa1TX8tSC9PXZPF1QQTM45LiG8Bt3uDt1b0ynSQ9hD4yHw5Ps5BOkHBAfMAln9EfkP+Jz70wOED2UcfCfCLcosVSO6Efv5jd/QxlK0+Ks7sJrBXd65AlopL0xqZYBw9WriVAcxdQTK1SqsHo6BgLKFJ519w/nybCReUC5wKn9Ce1RlBUEbFI7lZryfnkOQ0ZIdpZrDAulJD5owR0h2U4FR5UPfLcATGvrv5BPXu9F21GXduulh9qIAsQb6By4FCwDk+gr4P/k6/2wJDhZrIm8rSS4WKVwbTQay7IvSaryirnesbrfqzhvwWBbRO3daAG3Vb8BhNUQyG67srb8sm/iEvoBsj/2ux9ozDMc7UWIPepF/QXJzVPcqU/ypz52rR5V0j0aaTrMF1qP8FCEBPpZPEVTpS4854yBzBqHu5txM0zHSXdhm40XwAfxKBOwH/Aa9Akr9CPkS+K378AOpD4gclifLLbssLiN9EbL5Qt+Rxiu08qtasN7BvN4nA8UphkyfZYhwzWqNVJIw8ANJ1cGr3o11gNyFgp37w4bz9CTMUHJwOn8ce/9kjkCVEw7l/rtgnjOQ8JJlpf3DcemxD+0weUiDU2lRsEOYLXQT1vm95PfWuNGI1IXd3+mD9roAvAb3ByIF/f/Y+gf4SflS/44JMxaLIoErRi77KCobCAZm7ETSNbyLroOsoLc8z4PwxhY1PL9aH23Fb4FhzkOyGijsNr/WmtGEzoCwj2uvUNvBDEQ8q2I5eoV/AnIKVHYqzvs0z0irH5V8j3uapbNw1hD9cyFEPrVPC1TCS085mCApBmXuv9w90znSd9iK42rwH/xbBPAH9AauAjv9APkV+L/7DQTND6wcsCfTLawsBiNBEWn5995SxgO07Kt6sCHCHN+UAzAq3kzUZZBwpGo4VBwwagPI1Fmrn41qgAeG3Z14xBT0fCU6UbZwSX/1eqlkF0AQE4/kmLsgniOQEJOtpWHE3+kZED8xq0iPU1JRe0NSLSgTkfmK5NzWtdGa1KTdBOql9tIAxgb0BxYF7f/L+gX4VPlp/68JWBarIpMrQy7gKPcaxAUa7P7RAbxzrpCs07ePz+vwNReYPAZbPm20b0BhZ0MyGqPrwL6BmquE3oD0j9qv2NtODcE8BmNjenh/wnGiU/YpSfu+zvSq95SEj7Ca/bPc1n790iGHPtRPBVSaSxA5TSDgBSjumNwv00LSkdit447wPPxsBPMH6wafAi39+PgZ+ND7KwTxD88cySfbLZ0s3yIEER/5rd4Txtyz5quasGXCe98CBJsqNU0IZpdwe2rjU6Yv5QJI1PGqYY1fgDKGOJ72xKH0BCanUfhwWH/OelNkoD+KEg/kMbvhnROQMJP2pcXETuqBEJEx3EibUzlRRkMLLd0STvlY5MHWs9Gs1MTdKerG9ukA0AbxBwkF3f+/+gL4XvmB/9EJfRbLIqQrQC7EKMQagAXO67fRzbtcrp6sBrjjz1Txoxf7PE1bXG2jbwBh/0KyGR3rSb4smoaE7oA5kEmwYNzbDT49X2OMemt/gnE5U3QpxPpJzqCq0JSNj+aaVrRH1+v9MSLKPvNP/lNyS9A4AiCXBeztcdwg00vSq9jR47LwWfx9BPYH4waQAh798Pgd+OH7SAQWEPIc4yfiLY0styLHENX4Yt7Uxbaz4au7sKnC299vBAYrjE08Zp5wUWqNUzAvYALI04qqI41UgF6GlJ50xS/1jCYVUjtxZn+mevxjKD8EEpDjy7qjnQSQUZM/pinFverpEOMxDUmmUyFREUPELJESCvkm5KfWsdG/1OXdTuro9gEB2gbuB/0Ezf+z+gD4afmZ//MJohbqIrUrPC6oKJEaOwWD63HRmbtGrqusObg20L3xEhhePZRbem2Rb79gl0IyGZjq073YmWGEAIF+kLiw6dxpDrs9uGO0el5/QXHPUvMoP/rVzU2qqZSXjx2brrSz11j+jyIMPxFQ9lNJS5A4tx9OBbHtStwS01PSxtj049bwdvyOBPkH2gaBAg/96Pgh+PP7ZgQ6EBYd/CfqLX4sjiKKEIz4F96VxY+z3KvcsO7CO+DdBHEr401wZqRwJ2o3U7ku2gFH0yOq5YxLgIqG8J7zxb31EyeBUn1xc399eqVjsD5+ERHjZrplnfaPcpOIpo3FK+tRETUyPkmxUwhR20J8LEUSxvj0443Wr9HS1AXec+oJ9xgB5AbrB/AEvf+n+v33dPmy/xUKxxYJI8crOC6LKF0a9wQ36yrRZbswrrqsbLiK0CbygBjBPdtbl21+b31gL0KxGBLqXb2FmT2EEoHEkCixct32Djc+EWTcek9//3BlUnIouvlgzfqpgpShj1ObB7Uf2MX+7SJOPy9Q71MhS1A4bB8FBXXtJNwF013S4NgY5Prwk/yeBPwH0gZyAgD94Pgl+AX8hAReEDkdFijxLW0sZiJNEEL4zN1XxWqz2Kv9sDPDm+BLBdwrOU6iZqlw/GngUkMuVQHH0rypqIxCgLeGTZ9yxkr2myfuUr5xgH9Uek1jOD75EJLiALooneiPk5PSpvLFmuu4EYYybkm8U+5QpUI1LPoRg/jD43PWrdHk1CXemOoq9y8B7QbnB+MErv+b+vv3f/nK/zcK7BYpI9grNC5vKCoasgTr6uTQMbsarsisoLje0I/y7xgjPiFctG1rbztgxkExGI3p6LwxmRqEJIEKkZix+92DD7M+aWQDe0F/vXD7UfAnNfnszKepXJSsj4ubYLWL2DP/SyOPP0xQ5lP4ShA4IR+8BDrt/tv30mbS+9g85B7xr/yvBP8HyQZjAvL82fgp+Bf8ogSDEFwdLyj4LV0sPSIQEPj3gt0YxUSz1KsfsXjD++C5BUYsj07VZq5w0GmJUswtzwBI0lapbIw5gOSGqp/xxtj2IihaU/5xjH8revViwD1zEBPim7nrnNuPtZMcp1bGCewgEtcynknGU9VQb0LtK64RQPiS41nWrNH31EXevepL90YB9wbjB9cEnv+P+vn3ivni/1kKERdII+grMC5SKPYZbQSf6p7Q/roErtes1bgy0fjyXRmFPmZc0G1Yb/lfXUGwFwjpc7zemPeDN4FRkQiyhN4QEC8/wWQqezF/e3CRUW8nsPh4zFWpN5S3j8KburX22KD/qSPQP2lQ3lPOSs831h5zBP/s2Nvq0nDSFtlg5ELxzPy/BAEIwAZUAuP80fgt+Cn8wASnEH8dRyj/LUwsFCLSD673N93axB+z0KtBsb7DXOEnBrEs5E4HZ7NwpGkxUlQtSgDI0fCoMIwxgBOHB6Bwx2b3qSjFUz9yl38Aep1iRz3tD5ThN7munM6P2JNmp7vGd+yHEiczzUnQU7tQOEKmK2MR/Pdh40DWqtEL1Wbe4ups91wBAAfgB8oEjv+D+vf3lfn7/3sKNhdnI/krKy41KMEZKARU6ljQy7rvreesCrmH0WHzzBnnPqtc7G1Eb7Vf80AvF4Po/ruMmNWDS4GYkXmyDd+dEKo/GGVQeyF/OHAmUe0mK/gFzASpEpTCj/qbFLZj2QwABiQRQIZQ1VOlSo43ih4qBMTss9vd0nnSMdmE5Gbx6PzPBAQItwZFAtT8yvgy+Dv83gTMEKIdYCgFLjws6yGUD2T37dydxPqyzatksQTEveGVBhstOk84Z7dweGnZUd0sxf9I0Yuo9YsqgEGHZqDwx/T3LykwVH5yon/WeURizjxnDxbh07hynMGP+5OxpyDH5uzuEncz/EnZU6BQAUJeKxcRufcw4ybWqtEe1YbeB+uN93MBCQfcB70Efv94+vX3ofkTAJ0KWxeGIwksJi4YKI0Z4gMI6hPQmbrbrfasP7nc0cvzOhpJP/BcCG4vb3JfiUCuFv7nibs6mLODX4Hgkeqyl98qESZAb2V2exB/9G+6UGsmp/eSy7Oo7pPPjzOcbrbP2XgAYyRRQKJQzFN7Sk03Px7iA4nsjtvQ0oTSTNmo5IrxBf3fBAYIrgY1Asb8wvg3+E78/ATxEMUdeSgLLioswSFWDxr3otxfxNWyy6uHsUrEHuIDB4Utj09pZ7pwS2mBUWUsP//J0CaouosjgHCHxKBwyIL4timbVL1yrH+qeephVTzhDpjgb7g3nLaPH5T8p4bHVe1UE8czK0riU4VQykEWK8wQd/f/4g7WqdEy1afeLOuu94kBEgfYB7AEbv9s+vP3rfksAMAKfxelIxksIS76J1gZnQO86c3PZrrGrQetdLkx0jT0qBqrPzRdIm4aby5fH0AtFnnnFbvpl5GDdIEpklyzIOC3EaBAxWWbe/9+sG9PUOklIvcfy2KoypPbj2ycyLY72uUAwCSRQL5QwlNQSgw39B2ZA07sadvE0o7SZ9nM5K7xIf3vBAgIpQYmArf8u/g7+GD8GgUVEegdkSgRLhksmCEYD9D2WNwixLGyyKuqsZHEf+JxB+8t40+aZ71wHmkoUe0ruv5K0MGngIsdgKCHI6HwyBD5PCoFVfxytn9/eZBh3DtbDhrgC7j8m6uPQ5RIqOvHxO27Exc0WUrrU2pQk0HOKoAQNPfP4vXVqNFF1cjeUevP96ABGwfUB6MEX/9g+vL3uPlFAOIKpBfDIyksGy7cJyMZVwNw6YjPNLqyrRetqrmH0p70FhsMQHhdPW4Eb+letT+rFfTmobqYl3GDiYFyks2zquBEEhtBG2a/e+1+bG/jT2YlnvasyhKop5Ppj6WcI7en2lIBHCXRQNlQuFMmSss2qB1RAxTsRNu40pjSgtnw5NLxPf3+BAoImwYXAqn8tPhA+HP8OQU6EQseqSgXLgcsbiHaDob2Dtzkw42yxqvOsdjE4eLfB1kuOFDKZ79w8GjPUHUrNP7Lz1ynRosYgNGHg6FwyZ75wipvVTpzv39SeTZhYjvVDZzfqLfCm6CPZ5SUqFHIMu4iFGY0h0rzU09QW0GGKjUQ8faf4t3VqNFZ1eneduvw97YBIwfPB5YET/9V+vD3xPleAAULyRfiIzksFi6+J+4YEgMk6ULPA7qfrSmt4bnd0gj1hRttQLxdVm7ubqReSj8qFW/mLbpHl1GDn4G7kkC0NOHREpVBcGbje9t+J292T+QkGvY6ysKnhZP2j9+cfrcU278BeSUQQfRQrVP7SYk2XR0IA9rrINus0qPSntkU5fbxWf0OBQwIkgYIApr8rfhG+Ib8VwVeES4ewSgdLvUrQyGbDjz2xNunw2myxavysR/FQuNNCMMujFD6Z8FwwWh1UPwqrv1Mz/mmDYsTgAKI46HxySz6SCvZVXdzyH8ledtg6DpPDR7fRreIm5aPjJTgqLfIoe6IFLU0tEr6UzNQJEE+KukPr/Zv4sXVqNFu1Qrfm+sR+MwBLAfLB4gEP/9J+u/30Pl3ACcL7hcAJEgsEC6fJ7kYzALY6P3O0bmMrTqtGLoz03L18xvOQP9dcG7Xbl9e3j6oFOrlubn3ljGDtoEGk7K0vuFdEw9CxWYGfMh+4W4KT2EklfXIyXKnYpMFkBmd2beA2ysC1SVPQQ5RolPPSUg2Eh3AAqDr+9qg0q7Sutk45Rrydf0dBQ0IiAb4AYz8pvhL+Jn8dgWDEVEe2SgiLuMrGSFdDvH1ettrw0ayxKsXsmfFpOO8CCwv31ApaMJwkmgbUIMqKP3OzpWm1IoPgDOIQ6Jyyrr6zitCVrRzz3/4eIBgbjrJDKHe5LZPm4yPspQtqR3JEO/uFAQ14UoCVBZQ7ED2KZ4PbfZA4q3VqdGC1SvfwOsx+OIBNAfHB3sEL/8++u733fmQAEoLExgfJFgsCS6AJ4MYhgKN6LjOoLl5rUytT7qK09z1YRwuQUJeiG7Abhlecz4mFGXlRrmolhKDzYFQkyW1SOLqE4hCGWcpfLR+m26dTt8jEfVWySSnQZMTkFSdNLjt25cCMSaOQShRl1OkSQY2xhx4Ambr19qV0rnS1dlc5T3ykf0sBQ8IfwbpAX38n/hQ+Kz8lQWoEXMe8SgnLtAr7iAeDqf1MNsuwyOyw6s8sq/FB+QqCZYvM1FXaMNwYmjATwoqo/xQzjKmnIoLgGWIpKLzykj7UyyqVvBz13/JeCVg9DlDDCTegrYWm4OP2JR6qYPJfu9UFVI1DUsIVPpPs0CuKVIPK/YQ4pXVqdGW1Uzf5etS+PgBPAfCB24EIP8z+u336fmqAGwLOBg9JGcsAy5hJ04YQAJB6HTOb7lnrV6thrrh00b2zxyOQYReoG6obtJdBz6kE+Hk07hZlvSC5YGbk5m10+J2FAJDbWdLfKB+VG4vTlwjjfTlyNWmIJMjkI+dkLha3AQDjCbMQUJRi1N4ScQ1exwwAi3rtNqK0sXS8dmA5WHyrf07BRAIdQbZAW/8mPhW+L/8tAXNEZYeCSksLr0rwyDfDV315trywgCyw6tisvjFaeSYCf8vhlGGaMNwMmhlT5EpHfzRzc+lZIoIgJiIBaN0y9b72CwTVyx03X+beMhfeTm9C6fdILbdmnuP/pTHqerJ7e+5FaA1OksPVN1Pe0BlKQcP6fXh4X7VqtGr1W3fCuxy+A0CRAe9B2EEEP8o+uz39vnEAI8LXBhbJHYs/C1CJxgY+gH15y/OPrlVrXGtvro41LH2PR3uQcZeuG6Pboxdmz0iE1zkYbgKlteC/oHnkw22XeMCFXpDwGdtfIt+DW7CTdkiCfRzyIem/5IzkMud7LjH3HAD5yYJQltRf1NMSYI1LxzoAfTqkdp/0tDSDdql5YXyyP1KBRIIawbKAWH8kvhc+NP80gXxEbgeICkwLqormCCfDRL1nNq2wt6xw6uIskHGzOQHCmgw2FGzaMNwAmgKTxcpl/tUzW2lLYoFgMuIZ6P2y2T8Xi17V2d0439seGxf/jg3Cyrdv7WmmnOPJZUVqlHKXPAfFu01ZUsVVL9PQkAdKbwOp/Wy4WfVq9HA1Y/fL+yS+CMCTAe4B1MEAP8d+uv3AvrdALILgRh5JIQs9S0jJ+EXtAGp5+rNDrlDrYWt97qP1Bv3qx1OQghfz252bkRdLj2gEtjj77e8lbmCF4IzlIG26OOPFfNDE2iNfHZ+xm1UTVYihfMDyDqm35JDkAeeSbk03dwDQidHQnRRclMfST814xugAbvqbdp10tzSKtrJ5ajy4/1ZBRMIYQa7AVP8jPhh+Of88gUWEtseNyk0LpcrbCBgDcf0Utp6wryxxKuusorGL+V1CtEwK1LhaMJw0GeuTp4oEfvWzAul94kDgP+IyaN4zPL84i3iV6J06X88eA9fgzixCq7cX7VummyPTZVjqrjKy/CEFjs2kUsaVKJPCUDUKHEOZvWE4VDVrNHV1bDfVOyz+DgCVAezB0YE8f4S+uv3D/r3ANULphiXJJMs7i0DJ6sXbQFd56bN3rgyrZitL7vn1Ib3GR6uQklf5m5dbvxcwTwdElPjfbdvlZ2CMYKAlPW2c+QbFmtEZWiufGB+fm3lTNMhAvOSx+2lwJJUkEOepbmh3UgEnSeEQoxRZVPzSP00mBtYAYLqS9pq0ujSRtrt5czy//1oBRQIVwarAUX8hfho+Pr8EQY7Ev0eTik5LoMrQCAgDX30CNo+wpuxxavVstPGkuXjCjoxfVINacBwn2dSTiQoi/pYzKmkwYkCgDOJLKT6zIH9Zy5JWNx07n8LeLJeCDgrCjHc/rQ3mmWPdZWxqh/LOfHpFog2vEsgVIRP0D+LKCUOJPVW4TrVrtHq1dHfeezT+E0CWweuBzgE4f4H+ur3HPoRAfgLyhi0JKEs5i3jJnQXJwES52LNrrghraytabs/1fH3hh4NQ4pf/G5DbrRcVDybEc/iC7cilYGCS4LNlGq3/eSnFuNEt2jNfEl+NW13TE8hfvIix6CloZJlkICeAroO3rQE+CfAQqRRWFPFSLo0TBsRAUnqKNpg0vXSY9oS5u/yGv52BRQITQacATf8f/hu+A79MAZgEh8fZSk8Lm8rFCDgDDL0v9kDwnmxxqv8sh3H9eVSC6MxzlI6ab9wbWf1TaknBfrby0ikjIkCgGiJj6R9zQ/+6y6wWBV18n/ad1RejDelCbXbnrQBml6PnZUAq4bLqPFOF9Q25kskVGVPlj9CKNoN4/Qo4STVsNEA1vPfnuzz+GICYwepByoE0f78+er3KforARoM7xjSJK8s3i3CJj0X4ADG5h7Nf7gQrcGtoruX1Vz49B5sQ8pfEm8obmtc5jsYEUvimrbVlGaCZoIbld+3iOUzF1tFCGnsfDJ+7GwITMwg+vGyxlSlg5J3kL2eX7p73iAFUij9QrtRSlOYSHc0ARvJABHqBtpX0gHTf9o25hLzNf6EBRUIQwaMASn8efh0+CL9TwaFEkIffClALlsr6B+gDOfzddnIwVmxyKsks2fHWObACwsyH1NmabxwOmeYTS8nf/ley+ijV4kCgJ6J8qT/zZ3+by8WWU519n+pd/ZdEDcfCTnbP7TLmVmPxpVPq+3LF/KzFyA3EEwpVEdPXD/5J48NovT64A7VstEV1hXgw+wT+XcCagekBx0Ewv7x+er3N/pGAT4MFBnvJL0s1i2iJgYXmQB65trMT7gArdat3Lvv1cf4Yh/LQwpgJ28NbiJceDuVEMfhKbaJlEuCgYJplVW4FOa+F9JFWWkLfRp+omyYS0ggd/FDxgilZZKKkPuevbro3osFrCg4Q9JRPFNqSDQ0tRqCANjp5NlN0g7TnNpa5jbzUP6SBRYIOQZ9ARv8c/h7+Db9bwapEmQfkilDLkcrux9gDJ3zLNmNwTixyqtMs7LHvOYvDHMycFORablwB2c7TbQm+fjhyoejI4kCgNSJVqWCziv/8y97WYZ1+X93d5ddlDaZCL7a4LOWmVOP8JWfq1XMhfIXGGw3OkwtVCdPIj+wJ0QNYfTM4PjUtNEr1jfg6Owy+YwCcQeeBw8Esv7n+er3RPpgAWEMOBkNJcsszi2BJs8WUgAu5pbMILjxrOutFrxI1jL5zx8pRElgO2/xbdhbCjsSEEPhuLU+lDGCnYK4lcu4n+ZKGElGqWkpfQJ+WGwoS8Uf9PDTxb2kSJKdkDmfGrtW3/cFBSl0Q+lRLlM8SPEzaRo7AKDpwtlE0hvTudp/5lnza/6gBRYILgZtAQ38bfiB+Ev9jgbOEoYfqSlGLjIrjh8gDFLz4thSwRixzat0s/3HIOeeDNsywVO8abVw02bdTDkmc/hkyiej74gDgAuKu6UGz7n/dzDhWb51+39EdzhdGDYTCELagbNhmU+PGpbvq73M9PJ8GLg3Y0wwVAhP6D5nJ/kMIfSf4OPUt9FB1ljgDe1S+aECeAeZBwEEo/7c+er3Uvp7AYQMXRkqJdgsxS1fJpcWCwDi5VPM8rfhrAGuUbyh1p75PSCIRIhgUG/VbY5bnDqPD7/gSLXykxeCuoIHlkG5KufWGL9G+WlGfel9Dmy4SkEfcfBkxXKkK5KwkHifeLvD32IGXymvQ/9RH1MOSK0zHhr1/2npodk70ijT1tqj5nzzhf6uBRYIJAZdAf/7Z/iI+F/9rgbzEqgfvylJLh0rYR/fCwfzmdgYwfiw0Kuds0jIhOcMDUMzEVTmabFwn2Z/TL4l7ffoyciivIgFgEKKH6aJz0cA+jBFWvV1/X8Rd9lcnDWNB8fZI7MtmUuPRJY/rCXNYvPgGAM4jEwzVOhOrj4eJ64M4PNy4M7UutFX1nrgMu1y+bUCfweTB/MDk/7S+er3YPqVAacMgRlHJeUsvC0+JmAWxf+X5Q/MxLfSrBeujLz71gn6qiDmRMdgY2+4bUNbLToMDzvg2LSok/6B14JXlre5tudhGTVHSGpjfc99wmtISr0e7u/2xCikD5LFkLef17sx4M4GuCnqQxVSD1PgR2oz0hmu/zHpf9ky0jXT89rI5p/zoP68BRYIGQZOAfH7YviP+HT9zgYYE8kf1SlMLggrNB+fC7zyUNjewNmw06vGs5TI6ed7DaszYVQQaq1wamYgTEIlZ/dsyWmiiYgHgHqKhaYN0NUAfjGqWix2/n/ddnlcHzUHB0zZxbL5mEePb5aQrI3N0fNEGU44tEw2VMhOcz7UJmMMoPNF4LnUvdFu1pzgV+2R+coChQeNB+UDg/7H+er3bvqwAcoMphlkJfIssy0cJigWfv9L5czLlrfErC6uyLxU13X6GCFDRQVhdm+bbfhavTmJDrjfaLRek+aB9YKnli66QujsGatHl2p/fbV9d2vXSTkea++IxN6j85HZkPafNbye4DkHESokRCpSAFOxRyYzhhln//roXtkq0kPTEdvs5sLzuv7JBRYIDwY+AeP7XPiW+In97QY9E+sf6ylOLvIqBh9eC3HyB9ikwLmw16vws+DITejpDRM0sVQ6aqdwNWbBS8ck4fbwyAqiV4gKgLKK6qaR0GMBATIOW2J2/n+pdhhcojSBBtHYaLLGmESPmpbhrPXNQPSoGZk43Ew4VKdOOD6LJhkMYPMY4KXUwNGE1r7ge+2x+d4CjAeHB9cDdP69+ev3fPrLAe4MyhmBJf8sqS36Je8VN///5InLaLe2rEWuA72u1+D6hSGhRUNhiW99baxaTjkGDjTf+LMUk86BFIP4lqW6zeh4GiFI5WqafZp9K2tmSbUd6O4axJWj2JHukDaglLwM4aQHaSpeRD9S8FKBR+IyOhkg/8PoPtki0lHTLtsR5+bz1f7XBRYIBAYvAdb7V/id+J79DQdiEw0gACpQLtwq2B4dCybyvtdqwJuw3KsatCzJsuhYDno0AFVjaqJw/2ViS0skW/Z0yKyhJogOgOuKUKcV0fEBgzJxW5h2/n90drhbJTT7BVfYC7KTmEGPxpYyrV3OrvQLGuM4BE06VIdO/T1BJs4LIPPs35HUxNGb1uHgoO3Q+fICkgeBB8kDZP6z+ez3ivrmAREN7hmdJQstoC3YJbcV7/605EbLO7eorFyuQL0I2Ez78iH+RYBhm29fbWBa3jiCDbHeibPLkreBM4NJlx27WekDG5ZIM2u1fX993mr1SDEdZe6sw0yjvZEEkXag87x64Q8IwSqXRFRS31JSR54y7hjZ/ozoHdka0l/TTNs25wj07/7kBRYI+QUfAcj7Uvil+LP9LQeHEy8gFipSLsYqqh7cCtvxddcwwHyw4KtEtHjJF+nHDuE0T1WLaptwyWUCS88j1fX4x06h9YcSgCSLt6eZ0X8CBjPUW812/n8/dldbqDN1BdzXrrFhmECP85aDrcbOHfVuGi05K007VGVOwj34JYML4PLA333Ux9Gy1gPhxe3v+QYDmAd7B7sDVf6p+ez3mPoBAjQNExq6JRgtli21JX4VqP5o5APLDbebrHSufL1j2Lj7XyJbRr1hrG9AbRNabjj+DC3eG7OCkqCBUoObl5W75emNGwtJgGvPfWN9kWqDSK0c4+0/wwSjo5EakbegUr3n4XoIGSvRRGhSzlIiR1oyoxiT/lXo/dgS0m3Tadta5yv0Cf/xBRUI7gUPAbr7Tfis+Mj9TQesE1AgKypULrAqfB6aCo/xLNf3v16w5qtvtMXJfOk1D0g1nVWzapRwkmWhSlIjT/V9x/GgxIcXgF6LHqge0g4DiDM3XAF3/X8JdvVaKjPvBGLXUrEwmD6PH5fVrS/Pi/XRGnY5Uk08VEROhj2uJTkLoPKU32nUzNHJ1iXh6u0O+hkDnwd0B60DRf6f+e33p/odAlgNNxrWJSQtiy2TJUUVYP4d5MHK4baOrIyuub2+2CT8zCK3RvlhvW8hbcZZ/Td7DKrdrLI6koqBc4Ptlw28ceoYHH9JzWvpfUd9RGoRSCgcYO3SwryiipExkfigsr1V4uUIcSsJRXtSvVLyRhYyVxhM/h/o3dgL0nzTh9t/5070I//+BRUI4wUAAa37SPi0+N39bgfRE3EgQCpVLpkqTh5ZCkTx49a+v0Gw66ubtBPK4emkD68161Xbao1wWmVBStYiyfQCx5SglIcdgJmLhaii0pwDCjSZXDV3+3/TdZNarDJpBOnW9rD+lz2PTZcorpjP+fU0G785eE09VCJOSj1kJe4KYfJo31bU0NHg1kjhD+4u+i0DpAduB58DNv6V+e73tvo4AnsNWxrzJTAtgS1vJQwVGP7R437KtLaBrKWu970Z2ZD8OSMURzVizW8BbXlZjTf3CyfdPrLzkXWBk4NAmIa8/uqjHPNJGWwCfil99mmfR6Qb3uxlwnSicZFIkTqhEr7D4k8JyCtCRY9Sq1LCRtExCxgG/ujnvtgE0orTpduk53H0PP8KBhQI2AXwAJ/7Q/i8+PP9jgf2E5MgVSpWLoIqHx4XCvnwm9aFvyOw8avGtGDKR+oTEBY2OVYCa4VwI2XgSVkiQ/SHxjigZYcjgNSL7ago0yoEjDT7XGh3+H+cdTFaLzLjA2/Wm7DOlz2Pepd6rgHQaPaXGwg6nk09VABODj0aJaMKIfI930PU1NH31mrhM+5M+kEDqgdoB5EDJ/6L+fD3xfpTAp8NgBoPJjstdi1MJdMU0P2F4zzKiLZ1rL6uNL502fz8piNwR3Fi3W/gbCtZGzdzC6Tc0bGskWCBtYOTmP68iustHWdKZWwbfgx9p2ktRx8bXOz5wS6iWJFgkXyhcr4x47oJHyx6RaJSmVKRRowxvxfA/bLnn9j90ZnTw9vI55T0Vv8XBhMIzQXgAJL7PvjE+Aj+rgcbFLQgaipXLmsq8B3VCa7wUtZNvwaw+KvztK7KrOqCEH02hlYoa31w6mR+SdwhvfMMxtufN4cpgBCMVqmt07gEDTVcXZt39X9kdc5ZsDFdA/bVQLCelz2PqZfNrmrQ1vb5G1E6xE09VN1N0jzQJFkK4vES3zDU2dEP143hWO5r+lQDsAdhB4MDF/6B+fH31PpvAsMNpBorJkctay0pJZoUiP064/rJXLZprNiucr7P2Wn9EyTMR6xi7W+/bNxYqjbvCiHcY7FlkUyB14PnmHi9Fuy4HdtKsGwzfu58WGm6Rpsa2uuNweehQJF4kb6h0r6f4yQKdiyxRbRSh1JgRkgxcxd6/X3ngNj30ajT4dvt57b0cP8jBhIIwgXRAIX7OfjM+B7+zwdAFNUgfipXLlMqwB2TCWLwCtYUv+qv/qsftfzKEuvwEOM201ZOa3RwsWQcSV8hN/OSxYCfCIcxgEyMvqky1EYFjjW9Xc138X8sdWtZMjHYAn3V5a9ulz6P15chr9TQRPdcHJk66U08VLpNlTyGJA8Ko/Hn3h3U3tEn16/hfe6K+mcDtQdaB3QDCP54+fP34/qLAuYNyBpGJlItYC0FJWAUQP3u4rjJMbZerPKusb4r2tX9gCQnSOdi+2+ebI5YODZrCp/b9rAfkTiB+oM7mfG9o+xCHk5L+mxKfs98CWlHRhYaWOsiwaGhKZGQkQGiMr8N5I4KzSzoRcZSdFIvRgMxKBc0/UfnYdjw0bjTANwS6Nn0if8wBhEItwXBAHj7NfjU+DT+7wdlFPYgkipYLjsqkR1RCRfwwtXcvs2vBqxMtUvLeOtfEUk3IFd0a2pweGS6SOIgsfIYxSWf24Y4gImMJ6q41NQFDzYdXv537X/zdAdZtDBSAgTVi68/lz+PBph0rz3Rs/e+HOE6Dk47VJdNWTw8JMQJZfG93gvU49E/19Lhou6p+noDugdTB2YD+P1u+fT38vqnAgoO7BpiJl0tVC3gJCYU+Pyj4nfJBbZTrAyv8L6H2kH+7CSCSCFjCnB7bD5YxjXmCRzbirDZkCWBHYSQmWu+L+3MHsBLRW1hfq98uWjTRZEZ1uq2wFyhEpGqkUSik7975PgKIy0fRtdSYVL9Rb4w3Bbu/BLnQtjq0cfTHtw36Pv0ov88BhAIqwWxAGr7Mfjd+Er+EAiKFBchpypYLiMqYR0PCcvvetWlvrGvDax5tZrL3uvOEa83bFeZa2BwPmRYSGQgK/KexMqeroZBgMaMkao+1WIGkDZ9Xi946H+6dKRYNTDMAYvUMa8Ql0GPNpjIr6fRIfgfHSg7Mk46VHNNHDzyI3oJJvGS3vnT6dFX1/Xhxu7H+o0DwAdMB1cD6f1l+fb3AvvDAi4OEBt+JmgtSC28JOwTr/xY4jXJ2rVIrCevL7/k2q7+WSXdSFtjF3BZbO5XVDViCZraHbCUkBOBQYTlmeW+vO1WHzNMjm13fo98aGhfRQwZVepLwBeh/JDDkYii9L/q5GILeS1WRulSTlLMRXgwkBap/N3mJNjl0dfTPdxc6B71u/9IBg4IoAWhAF37LPjl+GD+MQivFDghuypYLgsqMR3MCIDvMtVtvpavFayntenLRew8EhU4uFe9a1VwBGT1R+YfpfEkxHCegYZKgASN+6rE1fAGEDfdXmB443+AdD9Yti9GARPU2K7ilkOPZpgdsBHSj/iBHW87Vk44VE9N3juoIzAJ6PBo3ufT79Fv1xji6+7m+qADxQdFB0kD2v1b+fj3EfvfAlIONBuZJnItPC2XJLITZ/wM4vTIsLU+rEKvb79A2xv/xSU4SZRjJXA2bJ5X4TTeCBfasa9QkAGBZYQ7mmC/Se7gH6RM122Mfm98F2jrRIcY0+nhv9Kg5pDekcyiVcBY5cwLzy2MRvlSOlKaRTMwRBZj/KjmBtjf0efTW9yB6ED11P9TBg0IlAWSAFD7KPju+Hf+UgjUFFkhzipXLvIpAR2JCDTv6tQ2vnuvHqzVtTnMrOyrEno4BFjha0pwyWORR2gfH/GrwxaeVoZUgEONZatK1n4HkDc8X5B43X9GdNpXNy/BAJvTf661lkaPl5hxsHvS/fjiHbY7eU41VCtNoTteI+YIqvA/3tbT9dGH1zviD+8E+7IDyQc+BzoDy/1S+fr3Ifv7AnYOWBu0JnwtMC1yJHcTHvzB4bPIhbU0rF6vr7+d24j/MSaSSc1jMXASbE1XbjRZCJXZRq8MkPCAioSRmtq/1u5pIBZNIG6hfk18xmd3RAIYUul3v46g0ZD4kRCjt8DG5TUMJC7BRgpTJVJnRe0v+BUe/HPm6Nfa0ffTetyl6GP17f9fBgsIiAWCAEP7JPj3+I3+cwj5FHoh4ipWLtop0BxHCOnuotT/vWCvJ6wEtonMEu0aE+A4T1gFbD9wjmMtR+oemfAyw7ydKoZegIKN0KvR1gwIEDiaX7941n8LdHVXuC47ACPTJ66IlkmPyJjGsOXSa/lDHvw7nE4zVAZNYzsTI5wIbPAV3sTT+9Gg117iNO8i+8UDzgc2BywDu/1J+fz3MfsYA5oOfBvPJoctIy1NJDwT1vt24XLIW7UrrHqv77/62/T/nSbsSQZkPnDua/xW+zPVBxPZ2q7Ij9+AsITomlbAY+/zIIdNaG61fit8dGcCRH0X0egNv0ugvJAUklWjGcE05p8MeS72RhlTEVI1RagvrBXY+z/my9fV0QfUmdzK6IX1BQBrBgkIfQVyADb7IPgA+aT+lAgeFZoh9SpWLsApnxwECJ3uWtTIvUWvMKwzttnMee2JE0U5mlgobDJwUmPJRmweE/C5wmOdAIZpgMGNO6xX15oIkDj5X+14z3/QcxBXOC62/6zSz61clk2P+ZgcsU/T2fmkHkI8v04wVOFMJjvJIlIILvDs3bTTAdK514HiWe9A+9cD0wcvBx0DrP1A+f/3Qfs0A74OoBvqJpAtFi0oJAETjfsq4THIMrUirJevMMBX3GAACidGSj5kSXDJa6tWiDNQB5HYb66Fj8+A1oQ/m9HA8O98IfhNr27Jfgl8ImeNQ/gWUOijvgegqJAwkpqje8Gj5ggNzi4rRylT/FECRWIvYRWT+wrmrtfQ0RjUuNzv6Kf1HgB2BgcIcQViACn7HfgJ+br+tQhDFbshCStULqcpbhzAB1LuE9SRvSuvOqxitinN4O33E6o55FhLbCVwFWNlRu0dje9Awgud1YV0gAKOpqze1ygJDzlWYBx5x3+Uc6pWuC0x/zTSd60wllKPK5lxsbrTR/oFH4g84U4sVLxM6Dp+IggI8O/D3aPTCNLR16Tife9e++kD1wcnBw4Dnf03+QH4UftRA+IOxBsFJ5otCS0CJMYSRPvf4PDHCLUarLSvccC13M0AdSegSnVkVHCka1lWFDPLBhDYBa5Dj7+A/YSXm03BffAFImhO9m7cfuZ7z2YYQ3MWz+c6vsWflZBMkt+j3cER53ENIi9gRzhT5lHPRBwvFRVO+9blkdfM0SjU19wU6cn1NgCBBgUIZQVSAB37GfgT+dH+1ghoFdshHCtTLo0pPRx9Bwbuy9NbvRKvRKyStnrNSO5mFA46LlltbBhw2GIARm4dB+/IwbOcrIWAgEKOEq1l2LYJjjmzYEl5vn9Yc0RWOS2r/r3RIK0EllePXpnHsSTUtfplH808A08oVJZMqTo0Ir4Hs++a3ZPTD9Lq18fiou98+/sD2wcgBwADjv0u+QT4YvttAwYP6BsgJ6Mt+yzcI4sS+/qU4LDH37QRrNGvssAT3TsB4Sf5Sq1kX3B+awZWoDJGBo7Xm60Bj7GAJIXvm8nBCvGOIthOPG/ufsN7e2ajQu4VT+fRvYOfgpBpkiWkP8KA59oNdi+UR0ZT0FGbRNYuyRQJ+6PlddfI0TnU99w56ev1TgCMBgMIWQVDABD7Ffgc+ej+9wiNFfshLitRLnMpDBw6B7vthNMlvfiuT6zCtsvNr+7VFHM6eFmObApwm2KaRe8cgu5QwVucg4WNgIOOf63t2EMKDToQYXZ5tX8bc91VuSwm/kfRyazZlVyPkJkdso/UI/vFHxI9JE8kVHFMazrpIXQHdu9y3YLTFtIE2Orixu+a+w0E3wcYB/ECf/0m+Qf4cvuKAyoPDBw6J60t7iy2I08SsvpJ4HDHt7QKrO+v9MBx3agBTShSS+NkaXBXa7NVKzLBBQ3XMa2/jqKATIVInEXCl/EXI0hPgm8Af597KGYtQmgVzuZpvUGfb5CGkmykosLu50MOyi/HR1VTulFnRI8ufRTF+m/lWNfE0UvUFt1e6Q32ZwCXBgAITQUzAAP7Evgm+f/+GAmyFRsiQStPLlkp2hv2Bm/tPNPvvN+uWqzzth3OF+9DFdc6wVmvbPxvXWI1RXAc/O3YwAScWoWagMWO66102dEKjDpsYaJ5rH/dcnZVOCyg/dDQc6yvlWKPxJl0svrUkfslIFc9RU8fVEpMLDqeISsHOe9J3XPTHtId2A7j6u+4+x8E4wcQB+ICcP0d+Qr4g/unA04PLxxVJ7Ut4CyPIxQSafr+3zDHjrQCrA2wNsHP3RUCuSiqSxplc3Awa2BVtzE8BYzWx6x+jpWAdIWhnMLCJfKgI7dPx28Sf3p71GW3QeMUTuYBvQCfXZCkkrOkBcNd6KwOHTD6R2JTpFEzREkuMhSA+jzlPNfA0VzUNd2D6S/2fwCiBv4HQQUjAPf6D/gw+Rf/OgnXFTwiVCtNLj8pqBuyBiPt9dK6vMeuZawkt2/Of++yFTs7ClrQbO1vH2LPRPEbdu1gwK2bMoWogAiPWa782V8LCjvIYc55oX+fcg9VuCsb/VrQHayFlWmP+JnLsmXV/vuFIJs9Zk8aVCRM7TlTIeEG/O4h3WPTJdI32DHjD/DV+zAE5wcIB9MCYf0V+Q34lPvEA3IPUxxvJ74t0SxoI9gRIPqz3/DGZrT7qyywecEu3oICJCkDTFBlfHAJawxVQjG3BArWXqw+joiAnYX6nD/DsvIoJCZQDHAif1V7f2VAQV0UzuWZvMCeTJDCkvqkaMPL6BUPcTAtSHBTjVH/QwIu5hM8+gnlINe90W3UVd2o6VH2lwCsBvsHNQUTAOr6DPg6+S7/Wwn8FVwiZitLLiQpdhtvBtjsrtKFvK6ucaxVt8HO5+8hFp87U1rwbN1v4GFoRHEb8Ozpv1ebC4W3gEqPxq6E2uwLiDsjYvl5ln9hcqdUOCuW/OTPyKtclXCPLJois9DVbPzkIN89hk8UVP1LrjkJIZcGv+763FTTLdJQ2FTjM/Dz+0EE6wcAB8UCUv0M+RD4pfvhA5YPdhyJJ8ctwyxBI5sR1/lo37HGPrT1q0uwvMGN3vACkClbTIVlhHDharhUzDAyBIrV9qv+jXuAx4VVnbzDP/OwJJVQUHAyfy97KmXKQNgTTuUyvH+eO5DhkkGly8M66X0PxDBgSH1TdVHLQ7wtmhP4+dbkBde60X/Udd3N6XL2rgC3BvkHKAUDAN76CfhE+Ub/fQkhFnsieCtILgkpQxsqBozsaNJQvJeufayHtxPPT/CPFgM8m1oQbc1voGECRPIaa+xyvwGb5ITGgI6PNK8M23oMBTx+YiR6i38icj9UtyoQ/G7Pc6szlXiPYZp6szvW2fxEISI+pk8OVNVLbzm+IE4Gg+7S3EXTNdJq2HjjV/AQ/FME7gf4BrYCQ/0E+RT4tvv/A7sPmhyjJ88ttCwaI18Rjfkd33HGF7Tvq2qw/8Hs3l0D+ymyTLpljHC5amNUVzCtAwnVjau/jW+A8YWvnTnEzfM5JQNRlHBCfwh71GRTQFITzuTLu0CeK5AAk4mlL8So6eUPFjGSSIlTXlGWQ3UtThOz+aTk6ta30ZHUld3y6ZT2xgDBBvYHHAX1/9L6BvhP+V7/nwlGFpsiiitFLu0oERvmBUDsIdIbvH+uiqy5t2bPt/D+FmY841ovbb1vYWGaQ3Ia5ev7vqyavoTWgNKPoq+U2wcNgzzZYk56f3/icdZTNiqL+/nOHqsLlYCPlprRs6bWR/2jIWY+xU8IVK5LMDlzIAUGRu6r3DbTPtKE2JvjfPAt/GQE8QfvBqcCNP38+Bf4x/scBN8PvRy9J9ctpSzyIiMRRPnS3jLG8LPpq4qwQ8JL38sDZioKTe5llHCQag5U4S8oA4jUJauAjWSAHIYKnrfEWvTAJXFR13BRf+F6fmTcP80ST+RkuwGeG5Agk9Klk8QX6k0QaDHDSJVTRlFhQy4tAxNw+XHkz9a00aPUtN0X6rX23gDLBvMHDwXl/8X6A/hZ+XX/wAlrFrsimytCLtIo3hqiBfTr2tHnu2iul6zst7nPIPFsF8o8KltNbaxvIGEzQ/IZYOuFvleamYTmgBaQEbAc3JUNAD0yY3d6cn+icW1TtSkG+4TOyqrjlImPy5optBLXtP0BIqg+5E8BVIZL8DgoILsFCu6E3CjTRtKe2L/joPBK/HUE9QfnBpgCJf30+Bv42fs6BAMQ4RzWJ98tlSzLIuYQ+viH3vPFybPjq6qwh8Kr3zkE0SphTSJmmnBmarhTay+iAgjUvqpCjVqASIZmnjXF6PRIJt5RGnFff7p6KGRkP0cSz+P+usKdDJBAkxqm98SF6rUQujH1SKFTLVErQ+cstxIs+T/ktNay0bbU1N086tf29QDVBvAHAwXV/7n6Afhk+Y3/4gmQFtoirSs+LrYoqhpdBanrlNGzu1GupawfuAzQiPHbFy09cVtrbZpv32DLQnIZ2uoOvgKadIT3gFuQgLCl3CIOfT2MY6B6ZX9hcQRTNCmB+g/Od6q8lJKPAZuCtH3XIv5gIus+AlD6U15LsDjdH3IFz+1d3BnTT9K42OPjxPBn/IUE+AffBokCFv3s+B/46vtXBCgQBB3wJ+YthiyjIqkQsfg83rTFo7Pfq8uwy8IL4KYEPCu3TVZmoXA8amJT9S4dAofTVqoEjVCAdIbCnrTFdvXQJktSXHFsf5J60WPsPsERUOOYuoSd/Y9hk2OmW8X06h0RDDIlSaxTFFH2QqAsaxLo+A3kmtaw0cjU9d1h6vj2DAHfBuwH9gTF/636/vdu+ab/BAq1Fvoivis6LpoodxoZBV3rTdF/uzuusqxTuGDQ8fFJGI89t1uJbYhvnmBjQvEYVeqYva6ZT4QJgaGQ8LAt3a8O+T3lY8h6V38gcZpSsyj8+ZvNI6qVlJyPOJvbtOnXj/6+Ii0/IFDzUzVLcDiSHykFk+033AzTWNLT2Abk6PCE/JYE+wfWBnoCCP3k+CP4/Pt1BEwQJx0JKO0tdix6ImwQZ/jy3XbFfLPaq+ywEMNr4BQFpysOTolmp3ARagtTfi6YAQfT8KnHjEaAoIYenzLGBPZXJ7hSnXF5f2l6eWN0PjwR0eIzukad74+Dk62mv8Vj64URXTJWSbdT+1DAQlksIBKl+NzjgNau0dvUFd6G6hr3IwHoBukH6gS1/6H6/Pd5+b7/JgrZFhkjzys2Ln0oQxrUBBHrB9FLuyWuwayGuLTQWvK4GPI9/lumbXVvXGD6QXEY0OkjvVuZLIQbgeeQYLG23T0PdT49ZPB6SH/ecDBSMSh3+SbN0alvlKaPb5s0tVXY/P4cI24/PlDrUwxLMDhHH+AEV+0R3P7SYdLt2CrkDPGh/KcE/QfNBmoC+fzc+Cf4DvyTBHEQSx0iKPUtZSxSIi4QHfin3TjFV7PWqw6xVcPL4IIFESxkTrxmrHDmabVSBy4SAYfSiamKjD2AzoZ7n7HGkfbeJyRT3nGGfz96IWP8PbYQUuLOuQmd4Y+kk/emJMbR6+wRrjKGScFT4lCKQhEs1BFh+KrjZtas0e7UNd6r6jv3OgHyBuUH3QSm/5X6+veE+db/SAr+Fjgj4CsyLmAoEBqPBMXqwdAYuw+u0Ky7uAjRw/ImGVQ+Q1zCbWJvGmCRQfAXSumtvAiZCIQtgS6R0LE/3soP8T6VZBd7OX+ccMZRryfy+LLMfqlKlLGPppuNtcHYaf96I7A/W1DiU+NK7zf7HpcEHO3r2/HSa9II2U7kMPG+/LcEAAjEBlsC6vzV+Cv4IPyxBJUQbh07KPstVSwpIvEP0/dd3fnEMbPSqzCxm8Mr4fAFfCy6Tu5msXC6aV1SkC2NAAjSI6lOjDWA+4bZnzDHH/dlKI9TH3KSfxZ6yWKEPTAQ1OFpuc2c1I/Hk0GnicZA7FMS/zK1SctTyFBTQsoriBEe+HnjTNar0QHVVt7Q6lz3UQH7BuIH0ASW/4n6+PeQ+e//agojF1cj8SstLkQo3BlKBHnqe9Dluvqt36zvuF3RLPOUGbY+iVzebU5v118oQW8Xxeg4vLWY5oNBgXWRQLLJ3lcQbT/tZD17KX9ZcFtRLidu+D/MLakllLyP3pvntS3Z1v/XI/E/eFDZU7lKrzewHk8E4ezF2+PSdNIj2XLkVPHa/McEAgi7BkwC3PzN+DD4MvzPBLoQkR1UKAIuRCwAIrMPifcS3bvEDLPPq1Kx4cOM4V4G5iwPTyBntXCOaQVSGS0HAIjRvagSjC6AKoc2oLDHrffsKPtTXnKdf+t5cGILPaoPVeEFuZCcyI/qk4yn7sav7LoSTzPlSdVTrVAdQoIrPRHb90jjM9aq0RTVdt716n33aAEEB94HwwSG/3369veb+QYAjApIF3YjASwpLiYopxkFBC7qNtCyuuWt76wkubLRlvMDGhg/zlz6bTlvlF++QO4WQOjDu2OYxINVgbyRsbJS3+QQ6D9EZWN7GX8WcPBQrCbp98vL26gAlMiPFpxBtpnZQgA1JDFAlFDQU5BKbjdlHgYEpuyg29fSftI+2ZbkePH3/NcEBQiyBj0CzfzG+DT4RfztBN4QtB1sKAguMyzWIXUPP/fI3H7E57LMq3WxJ8Tt4cwGUC1kT1FnuHBiaa1RoSyC/wnRWKjXiyeAWYeVoDDIO/hzKWZUnnKnf8B5F2KSPCQP1+ChuFWcvI8NlNenU8ce7SETnzMTSt5Tk1DmQTor8RCY9xjjGtap0SjVl94a6573fgENB9oHtgR2/3L69Pen+R8ArwptF5UjESwjLgkocxnAA+Lp8M+AutGt/6xauQfS//NxGno/El0VbiVvUF9UQG0Wu+dPuxGYooNpgQWSI7Pb33ERY0CaZYl7CH/Sb4VQKiZl91jLiqjck9WPT5ybtgXarwCSJHFAsFDHU2VKLTcaHr0DbOx728rSidJZ2brknPET/ecEBwipBi4Cvvy/+Dn4V/wLBQMR1x2FKA4uIiytITcP9fZ93EDEw7LJq5ixbcRO4joHui25T4JnvHA0aVVRKSz9/orQ86ediyCAiIf0oLDIyfj5KdBU3XKxf5V5vWEZPJ4OWeA9uBqcsI8xlCKouMeM7YgT7zNCSuZTeFCvQfIqphBV9+fiAdap0TvVt94/67/3lQEWB9YHqQRn/2b68/ey+TgA0QqSF7QjISweLusnPhl6A5bpqs9NurytD62PuVzSafTfGts/Vl0wbg9vDF/qP+wVNufbusCXgYN/gU2SlLNl4P4R3kDwZa179n6ObxlQpyXg9uXKOqi5k+KPiJz1tnHaHAHuJLFAy1C9UztK7DbOHXUDMexW277Sk9J12d7kwPEv/fcECQigBh4CsPy3+D74avwqBScR+h2dKBQuECyDIfkOq/Yz3APEn7LHq7yxtMSw4qgHJC4NULJnvnAHaftQsSt3/gvQj6djixqAuIdToTDJV/l/KjpVG3O7f2h5Y2GfOxgO29/at9+bpY9VlG6oHsj77e4TPzRwSu9TXFB3QaoqWhAT97fi6dWo0U/V2N5k6+D3qwEfB9IHnARX/1v68fe++VEA8wq3F9MjMSwYLs0nCRk1A0rpZc8buqmtIK3GubLS0/ROGzxAml1Kbvlux15/P2oVseZnunCXYYOUgZeSB7Tv4IoSWEFGZtF75H5Jb61PJSVc9nPK6qeWk++PwpxQt97aiAFLJfFA5lCyUxBKqjaDHSwD9+sy27LSntKQ2QLl5PFL/QYFCwiXBg8Cofyw+EP4fPxIBUwRHR61KBou/itYIbsOYfbp28bDe7LGq+Cx+8QR4xYIji5iUOJnwHDYaKJQOCvx/YzPKqcpixWA6YezobDJ5fkFK6RVWHPDfzx5CWElO5INXd93t6Wbm496lLqohMhq7lUUjjSdSvdTQVBAQWIqDxDQ9ofi0dWo0WPV+d6J6wD4wQEnB80HjwRH/0/68PfK+WoAFgvcF/EjQSwTLq4n1BjvAv7oIM/quZWtMa38uQjTPfW8G51A3l1jbuNugl4UP+kULObzuR+XQYOrgeCSebR54RcT0kGbZvV70n4Eb0BPoyTX9QHKmqdzk/2P/Jyrt0rb9QGnJTBBAVGoU+VJaTY3HeQCvesN26bSqdKs2SblCPJn/RYFDQiNBgACk/yp+Ej4j/xnBXERPx7NKB8u7CsuIXwOF/af24nDWLLEqwWyQ8Vz44QI+C61UBFownCpaEhQwCpr/Q3Px6bwihGAGogTojHKc/qLKw1WlnPMfw55rmCrOgwN4N4Vt2ubkY+flAap6sjY7rsU3DTKSv5TJVAIQRoqww+O9lfiudWo0XjVGt+u6yH41wEwB8kHggQ3/0T67vfW+YQAOAsAGA8kUCwMLpAnnhipArLo2864uYKtQ60zul7Tp/UqHP5AIV58bstuPF6pPmcUqOWAudCWIoPCgSuT7LQD4qQTTELvZhh8vn6+btNOICRT9Y/JS6dSkwyQN50HuLfbYQIDJm5BG1GcU7pJJzbsHJwCg+vp2pvStNLH2UrlK/KD/SUFDgiEBvEBhfyj+E74o/yFBZURYh7lKCQu2isDIT0OzPVV20zDNLLEqymyi8XV4/MIYS8JUUBow3B6aO5PRyrl/I/OY6a4ig2ATIhzorLKAfsRLHZW0nPTf+F4UmAxOoYMYt6ztjKbiI/FlFOpUMlH7yEVKzX3SgVUCFDPQNIpeA9M9ijiodWp0YzVO9/T60H47QE4B8QHdQQo/zj67ffj+Z0AWwslGC4kXywGLnEnaRhjAmfols6HuXCtVa1rurXTEfaYHF5BY16UbrRu9l09PuUTI+UNuYCWA4PZgXaTX7WN4jAUxUJDZzp8qn54bmZOnSPP9B3J/KYwkxuQcZ1iuCTczgJeJq1BNVGRU45J5TWgHFQCSuvG2o/Sv9Lj2W7lT/Kf/TQFEAh6BuEBdvyc+FP4tvykBboRhR79KCkuxyvYIP4NgvUL2xDDErLDq0+y08U45GEJyi9cUW9ow3BKaJNPzilg/BDOAKaAigmAfojUojTLj/uWLN9WDnTaf7J491+2OQAM5d1Rtvqaf4/rlKCpt8m274cVeTUkSwxU60+XQIkpLQ8K9vnhitWq0aHVXd/462L4AwJAB8AHZwQY/y367Pfv+bcAfgtKGEwkbiz/LVInMxgdAhvoUc5XuV6taK2iugzUfPYGHb5BpV6sbpxur13RPWMTnuSauDKW5YLxgcGT07UY47wUPkOXZ1x8ln4xbvlNGiNL9KzIrqYPkyuQrZ2+uJDcOgO6JutBTlGFU2JJozVVHAwCEOui2oTSytL/2ZLlc/K6/UMFEQhwBtIBaPyV+Fn4yfzDBd8Rpx4UKS4utCutIL8NN/XB2tTC77HDq3WyHMaa5M8JNDCvUZ1ow3AaaDhPVCna+5LNnqVJigaAsYg2o7XLHfwbLUdXSnTgf4N4ml88OXoLad3wtcGad48Sle6pHcol8OwVxzVQSxJUzk9eQEEp4Q7I9crhctWr0bbVft8d7IL4GAJIB7sHWgQI/yL67Pf8+dAAoAtvGGokfSz5LTIn/RfXAc/nDc4muUyte63aumPU5vZ0HR5C517EboNuaF1kPeESGuQouOOVyIIKgg2UR7ai40kVt0PqZ318gX7qbYtNlyLH8zvIYKbvkjuQ6Z0auf3cpgMVJyhCZ1F5UzZJYTUJHMQB1+p/2nrS1tIc2rfllvLW/VIFEghmBsIBWvyP+F/43fziBQQSyh4sKTIuoSuCIIAN7fR32pjCzbHDq5uyZcb95D4KnTABUspownDpZ9xO2ihU+xXNPKUSigSA5YiYozfMq/ygLa5XhHTmf1R4Pl/BOPQK7NyPtYqab485lTyqhMqT8FIWFDZ7SxhUsU8mQPgolg6H9ZvhXNWs0cvVn99C7KL4LgJQB7YHTAT5/hf66/cJ+uoAwwuTGIgkjCzxLRMnxheQAYPnyM32uDqtjq0Tu7vUUffiHX5CKF/bbmpuIF34PF8SleO2t5aVq4IkglmUu7Yt5NUVL0Q8aJ58a36ibR1NFCJD88rHE6bQkkuQJZ53uWrdEgRwJ2VCgFFsUwlJHjW+G3wBnupc2m/S4tI42tvluvLx/WAFEwhcBrMBTPyI+GT48PwBBigS7B5DKTcujStWIEANovQt2lzCq7HEq8GyrsZg5awKBjFUUvdowXC4Z4BOYSjO+pfM2qTciQOAGYn6o7nMOv0lLhZYv3TrfyR44F5FOG4Kb9wutVOaaI9hlYqq68oC8bcWYTamSx1Uk0/sP68oSw5F9W3hRdWt0eDVwd9n7MP4QwJYB7EHPwTp/gz66vcW+gQB5gu4GKYkmizqLfMmkBdKATfnhM3GuCmtoq1MuxPVvPdPHt1CaV/xblBu2FyLPNwREeNEt0iVj4I+gqaUMLe45GEWp0SOaL58VX5Zba5MkSHA8lrHxqWwkl2QYp7UudfdfgTKJ6JCmFFfU9xI2zRyGzUBZeo52mXS7tJU2v/l3fIM/m8FFAhSBqMBPvyC+Gv4BP0gBk0SDh9aKToueSsqIAANV/Tj2SHCirHFq+iy+MbD5RsLbjGlUiRpwHCGZyRO5idI+hrMeaSmiQKAToldpDvNyP2pLnxY+HTwf/N3g17KN+gJ89vOtByaYo+JldmqUstx8RwXrjbRSyJUdU+zP2coAA4E9T/hL9Wv0fXV4t+M7OP4WAJfB6wHMQTZ/gH66vcj+h4BCQzdGMMkqCziLdImWRcDAezmQM2WuBmttq2Fu2vVJvi9Hj1Dql8HbzZukFwdPFkRjeLStvuUc4JYgvSUpbdD5e0WH0XgaN18Pn4RbT9MDiE88urGeqWSkm6Qn54xukTe6gQlKN9CsFFRU69ImTQmG+0ALeoX2lvS+9Jx2iTmAfMn/n0FFQhIBpQBMPx8+HH4GP1ABnISMB9wKT4uZSv+H8AMDfSa2eXBabHHqxCzQscn5okL1zH3UlBpvXBTZ8dNbCfC+ZzLGKRxiQGAg4nApL7NVv4tL+NYMnX0f8J3JV5ON2IJd9tvtOaZW4+ylSirusvf8YEX+jb7SyZUVk95Px4otQ3D9BHhGdWx0QvWBOCx7AP5bQJmB6YHJATK/vf56vcw+jkBLAwBGeEktizaLbImIhe9AKDm/MxnuAity62/u8PVkfgrH5xD6l8cbxtuRlyvO9cQCeJhtq+UWIJzgkKVGrjO5XkXlkUxafx8Jn7HbNBLiiC58XrGLqV0koGQ3J6OurLeVgV/KBtDx1FDU4FIVjTbGqYA9en12VLSB9OO2kjmJPNC/osFFQg+BoQBIvx2+Hf4LP1fBpcSUx+HKUIuUSvRH4AMwvNQ2arBSLHJqzizjceK5vgLPzJIU3tpu3AgZ2pN8SY8+R/Lt6M9iQKAuYkkpUHO5P6xL0lZanX3f5B3x13SNtwI+9oPtLGZVo/blXerIcxO8uUXRjclTCtUN08/P9Unag2C9OPgA9Wz0SDWJuDV7CL5ggJuB6EHFgS6/uz56vc9+lMBTwwmGf4kxCzSLZEm6xZ2AFTmuMw4uPis4K35uxzW/fiZH/pDKWAxb/9t/VtBO1QQheHwtWOUPoKPgpCVkLhZ5gQYDUaBaRp9Dn59bGBLByA18QvG46RWkpOQGp/ruh/fwQXZKFZD3lE1U1NIEzSPGl4AvOnT2UjSFNOr2m3mR/Nd/pkFFgg0BnUBFPxw+H74Qf1+BrwSdR+dKUUuPCulH0AMd/MH2XDBKLHMq2Cz18fu5mYMpzKZU6Zpt3DtZgxNdia2+KPKV6MJiQOA74mIpcTOcv81MK5ZonX6f153aF1WNlYIgNqws3yZUY8Flsericy98koYkjdPTC5UGE8FP4wnHw1B9LXg7tS20TbWR+D67EL5lgJ1B5sHCASq/uH56vdL+m0BcgxKGRsl0SzJLXAmsxYvAAjmdMwJuOms9q00vHXWaPkGIFlEaWBGb+Nts1vTOtEPAeGAtRiUJIKsgt+VBrnl5pAYhEbRaTh99X0zbPBKgx+y8JzFmKQ5kqeQWZ9Ju4zfLQYyKZJD9FEmUyVIzzNDGhcAhemx2T/SIdPI2pHma/N4/qcFFggpBmUBBvxq+IX4Vf2eBuESlx+0KUguJyt4HwAMLPO+2DXBCLHOq4izIshS59UMDzPpU9Fps3C5Zq5M+yUw+CbK+KLViASAJortpUfPAAA=\" type=\"audio/wav\" />\n",
       "                    Your browser does not support the audio element.\n",
       "                </audio>\n",
       "              "
      ],
      "text/plain": [
       "<IPython.lib.display.Audio object>"
      ]
     },
     "execution_count": 97,
     "metadata": {},
     "output_type": "execute_result"
    }
   ],
   "source": [
    "from IPython.lib.display import Audio\n",
    "\n",
    "framerate = 4410\n",
    "play_time_seconds = 3\n",
    "\n",
    "t = np.linspace(0, play_time_seconds, framerate*play_time_seconds)\n",
    "audio_data = np.sin(2*np.pi*300*t) + np.sin(2*np.pi*240*t)\n",
    "Audio(audio_data, rate=framerate, autoplay=True)"
   ]
  },
  {
   "cell_type": "code",
   "execution_count": 98,
   "metadata": {},
   "outputs": [
    {
     "data": {
      "text/plain": [
       "<matplotlib.colorbar.Colorbar at 0x22ed8331988>"
      ]
     },
     "execution_count": 98,
     "metadata": {},
     "output_type": "execute_result"
    },
    {
     "data": {
      "image/png": "[encoded data removed]",
      "text/plain": [
       "<Figure size 432x288 with 2 Axes>"
      ]
     },
     "metadata": {
      "needs_background": "light"
     },
     "output_type": "display_data"
    }
   ],
   "source": [
    "# extract scores from grid_search\n",
    "scores = grid.cv_results_['mean_test_score'].reshape(-1, 2).T\n",
    "# visualize heat map\n",
    "heatmap = mglearn.tools.heatmap(\n",
    "    scores, xlabel=\"n_estimators\", ylabel=\"ngram_range\", cmap=\"viridis\", fmt=\"%.3f\",\n",
    "    xticklabels=param_grid['randomforestclassifier__n_estimators'],\n",
    "    yticklabels=param_grid['tfidfvectorizer__ngram_range'])\n",
    "plt.colorbar(heatmap)"
   ]
  },
  {
   "cell_type": "markdown",
   "metadata": {},
   "source": [
    "#### Had to use feature_importances_ for Random Forest Classifier\n",
    "https://towardsdatascience.com/present-the-feature-importance-of-the-random-forest-classifier-99bb042be4cc"
   ]
  },
  {
   "cell_type": "code",
   "execution_count": 99,
   "metadata": {},
   "outputs": [
    {
     "data": {
      "image/png": "[encoded data removed]",
      "text/plain": [
       "<Figure size 1080x360 with 1 Axes>"
      ]
     },
     "metadata": {
      "needs_background": "light"
     },
     "output_type": "display_data"
    }
   ],
   "source": [
    "# extract feature names and feature_importances\n",
    "vect = grid.best_estimator_.named_steps['tfidfvectorizer']\n",
    "feature_names = np.array(vect.get_feature_names())\n",
    "feature_importances = grid.best_estimator_.named_steps['randomforestclassifier'].feature_importances_\n",
    "mglearn.tools.visualize_coefficients(feature_importances, feature_names, n_top_features=40)\n"
   ]
  },
  {
   "cell_type": "code",
   "execution_count": 69,
   "metadata": {},
   "outputs": [
    {
     "data": {
      "text/plain": [
       "array([9.10682045e-06, 5.62131447e-04, 3.01885125e-05, ...,\n",
       "       1.08366804e-04, 5.58253380e-05, 8.71436261e-05])"
      ]
     },
     "execution_count": 69,
     "metadata": {},
     "output_type": "execute_result"
    }
   ],
   "source": [
    "feature_importances"
   ]
  },
  {
   "cell_type": "code",
   "execution_count": 103,
   "metadata": {},
   "outputs": [
    {
     "name": "stdout",
     "output_type": "stream",
     "text": [
      "[[2510   25]\n",
      " [   7 5672]]\n",
      "F-Measure: 0.997\n"
     ]
    }
   ],
   "source": [
    "y_pred = grid.best_estimator_.predict(X_train)\n",
    "print(confusion_matrix(y_train, y_pred))\n",
    "score_train = f1_score(y_train, y_pred, average = 'binary')\n",
    "print('F-Measure: %.3f' % score_train)"
   ]
  },
  {
   "cell_type": "code",
   "execution_count": 104,
   "metadata": {},
   "outputs": [
    {
     "name": "stdout",
     "output_type": "stream",
     "text": [
      "[[ 564  653]\n",
      " [ 331 2499]]\n",
      "F-Measure: 0.836\n"
     ]
    }
   ],
   "source": [
    "y_test_pred = grid.best_estimator_.predict(X_test)\n",
    "print(confusion_matrix(y_test, y_test_pred))\n",
    "score_test = f1_score(y_test, y_test_pred, average = 'binary')\n",
    "print('F-Measure: %.3f' % score_test)"
   ]
  },
  {
   "cell_type": "code",
   "execution_count": 105,
   "metadata": {},
   "outputs": [
    {
     "name": "stdout",
     "output_type": "stream",
     "text": [
      "              precision    recall  f1-score   support\n",
      "\n",
      "           0       0.63      0.46      0.53      1217\n",
      "           1       0.79      0.88      0.84      2830\n",
      "\n",
      "    accuracy                           0.76      4047\n",
      "   macro avg       0.71      0.67      0.68      4047\n",
      "weighted avg       0.74      0.76      0.74      4047\n",
      "\n"
     ]
    }
   ],
   "source": [
    "actual = y_test.tolist() \n",
    "predicted = y_test_pred \n",
    "print (classification_report(actual, predicted) )"
   ]
  },
  {
   "cell_type": "markdown",
   "metadata": {},
   "source": [
    "\n",
    "- n_estimators: In general the more trees the less likely the algorithm is to overfit. So try increasing this. The lower this number, the closer the model is to a decision tree, with a restricted feature set.\n",
    "    \n",
    "- max_features: try reducing this number (try 30-50% of the number of features). This determines how many features each tree is randomly assigned. The smaller, the less likely to overfit, but too small will start to introduce under fitting.\n",
    "\n",
    "- max_depth: Experiment with this. This will reduce the complexity of the learned models, lowering over fitting risk. Try starting small, say 5-10, and increasing you get the best result.\n",
    "\n",
    "- min_samples_leaf: Try setting this to values greater than one. This has a similar effect to the max_depth parameter, it means the branch will stop splitting once the leaves have that number of samples each.\n"
   ]
  },
  {
   "cell_type": "code",
   "execution_count": 80,
   "metadata": {},
   "outputs": [
    {
     "name": "stdout",
     "output_type": "stream",
     "text": [
      "Best cross-validation score: 0.78\n",
      "Best parameters:\n",
      "{'randomforestclassifier__max_features': 100, 'randomforestclassifier__n_estimators': 800, 'tfidfvectorizer__ngram_range': (1, 2)}\n"
     ]
    }
   ],
   "source": [
    "pipe = make_pipeline(TfidfVectorizer(min_df=5), RandomForestClassifier())\n",
    "# running the grid-search takes a long time because of the\n",
    "# relatively large grid and the inclusion of trigrams\n",
    "param_grid = {\"tfidfvectorizer__ngram_range\": [(1, 2)],\n",
    "              \"randomforestclassifier__n_estimators\": [800],\n",
    "              \"randomforestclassifier__max_features\": [10, 50, 100],\n",
    "              }\n",
    "\n",
    "grid = GridSearchCV(pipe, param_grid, cv=5)\n",
    "grid.fit(X_train, y_train)\n",
    "print(\"Best cross-validation score: {:.2f}\".format(grid.best_score_))\n",
    "print(\"Best parameters:\\n{}\".format(grid.best_params_))"
   ]
  },
  {
   "cell_type": "code",
   "execution_count": 81,
   "metadata": {},
   "outputs": [
    {
     "name": "stdout",
     "output_type": "stream",
     "text": [
      "[[2779   55]\n",
      " [  21 6169]]\n",
      "F-Measure: 0.994\n"
     ]
    }
   ],
   "source": [
    "y_pred = grid.best_estimator_.predict(X_train)\n",
    "print(confusion_matrix(y_train, y_pred))\n",
    "score_train = f1_score(y_train, y_pred, average = 'binary')\n",
    "print('F-Measure: %.3f' % score_train)"
   ]
  },
  {
   "cell_type": "code",
   "execution_count": 82,
   "metadata": {},
   "outputs": [
    {
     "name": "stdout",
     "output_type": "stream",
     "text": [
      "[[ 551  815]\n",
      " [ 147 2932]]\n",
      "F-Measure: 0.859\n"
     ]
    }
   ],
   "source": [
    "y_test_pred = grid.best_estimator_.predict(X_test)\n",
    "print(confusion_matrix(y_test, y_test_pred))\n",
    "score_test = f1_score(y_test, y_test_pred, average = 'binary')\n",
    "print('F-Measure: %.3f' % score_test)"
   ]
  },
  {
   "cell_type": "code",
   "execution_count": 83,
   "metadata": {},
   "outputs": [
    {
     "name": "stdout",
     "output_type": "stream",
     "text": [
      "              precision    recall  f1-score   support\n",
      "\n",
      "           0       0.79      0.40      0.53      1366\n",
      "           1       0.78      0.95      0.86      3079\n",
      "\n",
      "    accuracy                           0.78      4445\n",
      "   macro avg       0.79      0.68      0.70      4445\n",
      "weighted avg       0.78      0.78      0.76      4445\n",
      "\n"
     ]
    }
   ],
   "source": [
    "actual = y_test.tolist() \n",
    "predicted = y_test_pred \n",
    "print (classification_report(actual, predicted) )"
   ]
  },
  {
   "cell_type": "markdown",
   "metadata": {},
   "source": [
    "### XGBoost"
   ]
  },
  {
   "cell_type": "code",
   "execution_count": 106,
   "metadata": {},
   "outputs": [
    {
     "name": "stdout",
     "output_type": "stream",
     "text": [
      "Best cross-validation score: 0.75\n",
      "Best parameters:\n",
      "{'tfidfvectorizer__ngram_range': (1, 1), 'xgbclassifier__n_estimators': 1400}\n"
     ]
    }
   ],
   "source": [
    "pipe = make_pipeline(TfidfVectorizer(min_df=5), XGBClassifier())\n",
    "# running the grid-search takes a long time because of the\n",
    "# relatively large grid and the inclusion of trigrams\n",
    "param_grid = {\"tfidfvectorizer__ngram_range\": [(1,1), (1, 2)],\n",
    "              \"xgbclassifier__n_estimators\": [1000, 1200, 1400]\n",
    "              }\n",
    "\n",
    "grid = GridSearchCV(pipe, param_grid, cv=5)\n",
    "grid.fit(X_train, y_train)\n",
    "print(\"Best cross-validation score: {:.2f}\".format(grid.best_score_))\n",
    "print(\"Best parameters:\\n{}\".format(grid.best_params_))"
   ]
  },
  {
   "cell_type": "code",
   "execution_count": 107,
   "metadata": {},
   "outputs": [
    {
     "data": {
      "text/html": [
       "\n",
       "                <audio  controls=\"controls\" autoplay=\"autoplay\">\n",
       "                    <source src=\"data:audio/wav;base64,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\" type=\"audio/wav\" />\n",
       "                    Your browser does not support the audio element.\n",
       "                </audio>\n",
       "              "
      ],
      "text/plain": [
       "<IPython.lib.display.Audio object>"
      ]
     },
     "execution_count": 107,
     "metadata": {},
     "output_type": "execute_result"
    }
   ],
   "source": [
    "\n",
    "framerate = 4410\n",
    "play_time_seconds = 3\n",
    "\n",
    "t = np.linspace(0, play_time_seconds, framerate*play_time_seconds)\n",
    "audio_data = np.sin(2*np.pi*300*t) + np.sin(2*np.pi*240*t)\n",
    "Audio(audio_data, rate=framerate, autoplay=True)"
   ]
  },
  {
   "cell_type": "code",
   "execution_count": 108,
   "metadata": {},
   "outputs": [
    {
     "name": "stdout",
     "output_type": "stream",
     "text": [
      "[[1573  962]\n",
      " [  87 5592]]\n",
      "F-Measure: 0.914\n"
     ]
    }
   ],
   "source": [
    "y_pred = grid.best_estimator_.predict(X_train)\n",
    "print(confusion_matrix(y_train, y_pred))\n",
    "score_train = f1_score(y_train, y_pred, average = 'binary')\n",
    "print('F-Measure: %.3f' % score_train)"
   ]
  },
  {
   "cell_type": "code",
   "execution_count": 109,
   "metadata": {},
   "outputs": [
    {
     "name": "stdout",
     "output_type": "stream",
     "text": [
      "[[ 442  775]\n",
      " [ 210 2620]]\n",
      "F-Measure: 0.842\n"
     ]
    }
   ],
   "source": [
    "y_test_pred = grid.best_estimator_.predict(X_test)\n",
    "print(confusion_matrix(y_test, y_test_pred))\n",
    "score_test = f1_score(y_test, y_test_pred, average = 'binary')\n",
    "print('F-Measure: %.3f' % score_test)"
   ]
  },
  {
   "cell_type": "code",
   "execution_count": 110,
   "metadata": {},
   "outputs": [
    {
     "name": "stdout",
     "output_type": "stream",
     "text": [
      "              precision    recall  f1-score   support\n",
      "\n",
      "           0       0.68      0.36      0.47      1217\n",
      "           1       0.77      0.93      0.84      2830\n",
      "\n",
      "    accuracy                           0.76      4047\n",
      "   macro avg       0.72      0.64      0.66      4047\n",
      "weighted avg       0.74      0.76      0.73      4047\n",
      "\n"
     ]
    }
   ],
   "source": [
    "actual = y_test.tolist() \n",
    "predicted = y_test_pred \n",
    "print (classification_report(actual, predicted) )"
   ]
  },
  {
   "cell_type": "code",
   "execution_count": 111,
   "metadata": {},
   "outputs": [
    {
     "name": "stdout",
     "output_type": "stream",
     "text": [
      "Best cross-validation score: 0.75\n",
      "Best parameters:\n",
      "{'tfidfvectorizer__ngram_range': (1, 1), 'xgbclassifier__max_depth': 5, 'xgbclassifier__n_estimators': 1400, 'xgbclassifier__scale_pos_weight': 1}\n"
     ]
    }
   ],
   "source": [
    "pipe = make_pipeline(TfidfVectorizer(min_df=5), XGBClassifier())\n",
    "# running the grid-search takes a long time because of the\n",
    "# relatively large grid and the inclusion of trigrams\n",
    "param_grid = {\"tfidfvectorizer__ngram_range\": [(1,1)],\n",
    "              \"xgbclassifier__n_estimators\": [1400, 1600],\n",
    "              \"xgbclassifier__max_depth\": [1, 5],\n",
    "              \"xgbclassifier__scale_pos_weight\": [1, 5]\n",
    "              }\n",
    "\n",
    "grid = GridSearchCV(pipe, param_grid, cv=5)\n",
    "grid.fit(X_train, y_train)\n",
    "print(\"Best cross-validation score: {:.2f}\".format(grid.best_score_))\n",
    "print(\"Best parameters:\\n{}\".format(grid.best_params_))"
   ]
  },
  {
   "cell_type": "code",
   "execution_count": 112,
   "metadata": {},
   "outputs": [
    {
     "data": {
      "text/html": [
       "\n",
       "                <audio  controls=\"controls\" autoplay=\"autoplay\">\n",
       "                    <source src=\"data:audio/wav;base64,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\" type=\"audio/wav\" />\n",
       "                    Your browser does not support the audio element.\n",
       "                </audio>\n",
       "              "
      ],
      "text/plain": [
       "<IPython.lib.display.Audio object>"
      ]
     },
     "execution_count": 112,
     "metadata": {},
     "output_type": "execute_result"
    }
   ],
   "source": [
    "\n",
    "framerate = 4410\n",
    "play_time_seconds = 3\n",
    "\n",
    "t = np.linspace(0, play_time_seconds, framerate*play_time_seconds)\n",
    "audio_data = np.sin(2*np.pi*300*t) + np.sin(2*np.pi*240*t)\n",
    "Audio(audio_data, rate=framerate, autoplay=True)"
   ]
  },
  {
   "cell_type": "code",
   "execution_count": 113,
   "metadata": {},
   "outputs": [
    {
     "name": "stdout",
     "output_type": "stream",
     "text": [
      "[[1941  594]\n",
      " [  45 5634]]\n",
      "F-Measure: 0.946\n"
     ]
    }
   ],
   "source": [
    "y_pred = grid.best_estimator_.predict(X_train)\n",
    "print(confusion_matrix(y_train, y_pred))\n",
    "score_train = f1_score(y_train, y_pred, average = 'binary')\n",
    "print('F-Measure: %.3f' % score_train)"
   ]
  },
  {
   "cell_type": "code",
   "execution_count": 114,
   "metadata": {},
   "outputs": [
    {
     "name": "stdout",
     "output_type": "stream",
     "text": [
      "[[ 502  715]\n",
      " [ 269 2561]]\n",
      "F-Measure: 0.839\n"
     ]
    }
   ],
   "source": [
    "y_test_pred = grid.best_estimator_.predict(X_test)\n",
    "print(confusion_matrix(y_test, y_test_pred))\n",
    "score_test = f1_score(y_test, y_test_pred, average = 'binary')\n",
    "print('F-Measure: %.3f' % score_test)"
   ]
  },
  {
   "cell_type": "code",
   "execution_count": 115,
   "metadata": {},
   "outputs": [
    {
     "name": "stdout",
     "output_type": "stream",
     "text": [
      "              precision    recall  f1-score   support\n",
      "\n",
      "           0       0.65      0.41      0.51      1217\n",
      "           1       0.78      0.90      0.84      2830\n",
      "\n",
      "    accuracy                           0.76      4047\n",
      "   macro avg       0.72      0.66      0.67      4047\n",
      "weighted avg       0.74      0.76      0.74      4047\n",
      "\n"
     ]
    }
   ],
   "source": [
    "actual = y_test.tolist() \n",
    "predicted = y_test_pred \n",
    "print (classification_report(actual, predicted) )"
   ]
  },
  {
   "cell_type": "code",
   "execution_count": 116,
   "metadata": {},
   "outputs": [
    {
     "name": "stdout",
     "output_type": "stream",
     "text": [
      "Best cross-validation score: 0.75\n",
      "Best parameters:\n",
      "{'tfidfvectorizer__ngram_range': (1, 1), 'xgbclassifier__max_depth': 5, 'xgbclassifier__n_estimators': 1400, 'xgbclassifier__scale_pos_weight': 1}\n"
     ]
    }
   ],
   "source": [
    "pipe = make_pipeline(TfidfVectorizer(min_df=5), XGBClassifier())\n",
    "# running the grid-search takes a long time because of the\n",
    "# relatively large grid and the inclusion of trigrams\n",
    "param_grid = {\"tfidfvectorizer__ngram_range\": [(1,1)],\n",
    "              \"xgbclassifier__n_estimators\": [1400, 1600],\n",
    "              \"xgbclassifier__max_depth\": [5, 10],\n",
    "              \"xgbclassifier__scale_pos_weight\": [1, 2]\n",
    "              }\n",
    "\n",
    "grid = GridSearchCV(pipe, param_grid, cv=5)\n",
    "grid.fit(X_train, y_train)\n",
    "print(\"Best cross-validation score: {:.2f}\".format(grid.best_score_))\n",
    "print(\"Best parameters:\\n{}\".format(grid.best_params_))"
   ]
  },
  {
   "cell_type": "code",
   "execution_count": 117,
   "metadata": {},
   "outputs": [
    {
     "data": {
      "text/html": [
       "\n",
       "                <audio  controls=\"controls\" autoplay=\"autoplay\">\n",
       "                    <source src=\"data:audio/wav;base64,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\" type=\"audio/wav\" />\n",
       "                    Your browser does not support the audio element.\n",
       "                </audio>\n",
       "              "
      ],
      "text/plain": [
       "<IPython.lib.display.Audio object>"
      ]
     },
     "execution_count": 117,
     "metadata": {},
     "output_type": "execute_result"
    }
   ],
   "source": [
    "\n",
    "framerate = 4410\n",
    "play_time_seconds = 3\n",
    "\n",
    "t = np.linspace(0, play_time_seconds, framerate*play_time_seconds)\n",
    "audio_data = np.sin(2*np.pi*300*t) + np.sin(2*np.pi*240*t)\n",
    "Audio(audio_data, rate=framerate, autoplay=True)"
   ]
  },
  {
   "cell_type": "code",
   "execution_count": 118,
   "metadata": {},
   "outputs": [
    {
     "name": "stdout",
     "output_type": "stream",
     "text": [
      "[[1941  594]\n",
      " [  45 5634]]\n",
      "F-Measure: 0.946\n"
     ]
    }
   ],
   "source": [
    "y_pred = grid.best_estimator_.predict(X_train)\n",
    "print(confusion_matrix(y_train, y_pred))\n",
    "score_train = f1_score(y_train, y_pred, average = 'binary')\n",
    "print('F-Measure: %.3f' % score_train)"
   ]
  },
  {
   "cell_type": "code",
   "execution_count": 119,
   "metadata": {},
   "outputs": [
    {
     "name": "stdout",
     "output_type": "stream",
     "text": [
      "[[ 502  715]\n",
      " [ 269 2561]]\n",
      "F-Measure: 0.839\n"
     ]
    }
   ],
   "source": [
    "y_test_pred = grid.best_estimator_.predict(X_test)\n",
    "print(confusion_matrix(y_test, y_test_pred))\n",
    "score_test = f1_score(y_test, y_test_pred, average = 'binary')\n",
    "print('F-Measure: %.3f' % score_test)"
   ]
  },
  {
   "cell_type": "code",
   "execution_count": null,
   "metadata": {},
   "outputs": [],
   "source": []
  }
 ],
 "metadata": {
  "kernelspec": {
   "display_name": "Python 3",
   "language": "python",
   "name": "python3"
  },
  "language_info": {
   "codemirror_mode": {
    "name": "ipython",
    "version": 3
   },
   "file_extension": ".py",
   "mimetype": "text/x-python",
   "name": "python",
   "nbconvert_exporter": "python",
   "pygments_lexer": "ipython3",
   "version": "3.7.6"
  }
 },
 "nbformat": 4,
 "nbformat_minor": 4
}
