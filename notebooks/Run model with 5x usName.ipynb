{
 "cells": [
  {
   "cell_type": "code",
   "execution_count": 1,
   "metadata": {},
   "outputs": [],
   "source": [
    "import numpy as np\n",
    "import pandas as pd\n",
    "import matplotlib.pyplot as plt\n",
    "\n",
    "import re\n",
    "import string\n",
    "\n",
    "import nltk\n",
    "from nltk.tokenize import TreebankWordTokenizer, word_tokenize\n",
    "from nltk.stem import PorterStemmer\n",
    "from nltk.tag import pos_tag\n",
    "from nltk.corpus import stopwords\n",
    "\n",
    "from sklearn.model_selection import train_test_split\n",
    "from sklearn.feature_extraction.text import CountVectorizer\n",
    "\n",
    "from sklearn.model_selection import cross_val_score\n",
    "\n",
    "from sklearn.linear_model import LogisticRegression\n",
    "from sklearn.ensemble import RandomForestClassifier\n",
    "from xgboost import XGBClassifier\n",
    "\n",
    "from sklearn.model_selection import GridSearchCV\n",
    "\n",
    "from sklearn.feature_extraction.text import ENGLISH_STOP_WORDS\n",
    "\n",
    "from sklearn.feature_extraction.text import TfidfVectorizer\n",
    "from sklearn.pipeline import make_pipeline\n",
    "\n",
    "from sklearn.metrics import f1_score\n",
    "from sklearn.metrics import confusion_matrix \n",
    "from sklearn.metrics import accuracy_score \n",
    "from sklearn.metrics import classification_report \n",
    "\n",
    "import mglearn\n",
    "\n",
    "from IPython.lib.display import Audio\n"
   ]
  },
  {
   "cell_type": "code",
   "execution_count": 2,
   "metadata": {},
   "outputs": [],
   "source": [
    "df = pd.read_csv('data/tweet_data.csv')"
   ]
  },
  {
   "cell_type": "code",
   "execution_count": 6,
   "metadata": {},
   "outputs": [],
   "source": [
    "def clean_text(some_text):\n",
    "    \"\"\"\n",
    "    Cleans text for NLP analysis\n",
    "    Input:\n",
    "    Output: \n",
    "    \"\"\"\n",
    "    some_text = some_text.lower()\n",
    "    \n",
    "    # links\n",
    "    some_text = re.sub(r\"http\\S+\",\"\", some_text)\n",
    "    \n",
    "    # hashtags\n",
    "    some_text = re.sub(r\"#[A-Za-z0-9_]+\",\"\", some_text)\n",
    "    \n",
    "    # At's\n",
    "    some_text = re.sub(r\"@[A-Za-z0-9_]+\",\"\", some_text)\n",
    "    \n",
    "    # Numbers\n",
    "    some_text = re.sub(r\"[0-9]+\", \"\", some_text)\n",
    "    \n",
    "    # Punctuation\n",
    "    some_text = re.sub(r\"[()!?.,]\"), \" \", some_text\n",
    "    \n",
    "#     return "
   ]
  },
  {
   "cell_type": "code",
   "execution_count": 7,
   "metadata": {},
   "outputs": [
    {
     "data": {
      "text/html": [
       "<div>\n",
       "<style scoped>\n",
       "    .dataframe tbody tr th:only-of-type {\n",
       "        vertical-align: middle;\n",
       "    }\n",
       "\n",
       "    .dataframe tbody tr th {\n",
       "        vertical-align: top;\n",
       "    }\n",
       "\n",
       "    .dataframe thead th {\n",
       "        text-align: right;\n",
       "    }\n",
       "</style>\n",
       "<table border=\"1\" class=\"dataframe\">\n",
       "  <thead>\n",
       "    <tr style=\"text-align: right;\">\n",
       "      <th></th>\n",
       "      <th>tweetID</th>\n",
       "      <th>crDate</th>\n",
       "      <th>edInput</th>\n",
       "      <th>editor</th>\n",
       "      <th>engages</th>\n",
       "      <th>isApproved</th>\n",
       "      <th>isEdNeed</th>\n",
       "      <th>isRT</th>\n",
       "      <th>likes</th>\n",
       "      <th>photoUrl</th>\n",
       "      <th>retweets</th>\n",
       "      <th>rtUsID</th>\n",
       "      <th>text</th>\n",
       "      <th>topicName</th>\n",
       "      <th>usFlwrs</th>\n",
       "      <th>usID</th>\n",
       "      <th>usName</th>\n",
       "      <th>videoUrl</th>\n",
       "    </tr>\n",
       "  </thead>\n",
       "  <tbody>\n",
       "    <tr>\n",
       "      <th>0</th>\n",
       "      <td>1070867471245164544</td>\n",
       "      <td>2018-12-07 02:27:55</td>\n",
       "      <td>-1</td>\n",
       "      <td>-1</td>\n",
       "      <td>98</td>\n",
       "      <td>False</td>\n",
       "      <td>True</td>\n",
       "      <td>False</td>\n",
       "      <td>64</td>\n",
       "      <td>https://pbs.twimg.com/media/Dtx8SiIWkAImVsb.jpg</td>\n",
       "      <td>34</td>\n",
       "      <td>-1</td>\n",
       "      <td>The immediate impulse for an alliance of the E...</td>\n",
       "      <td>Business</td>\n",
       "      <td>23464532</td>\n",
       "      <td>5988062</td>\n",
       "      <td>The Economist</td>\n",
       "      <td>NaN</td>\n",
       "    </tr>\n",
       "    <tr>\n",
       "      <th>1</th>\n",
       "      <td>1070868017888837633</td>\n",
       "      <td>2018-12-07 02:30:05</td>\n",
       "      <td>-1</td>\n",
       "      <td>-1</td>\n",
       "      <td>13</td>\n",
       "      <td>False</td>\n",
       "      <td>True</td>\n",
       "      <td>False</td>\n",
       "      <td>10</td>\n",
       "      <td>https://pbs.twimg.com/media/Dtx8yTyW4AEciqP.jpg</td>\n",
       "      <td>3</td>\n",
       "      <td>-1</td>\n",
       "      <td>America's economy is flashing some warning sig...</td>\n",
       "      <td>Business</td>\n",
       "      <td>1732809</td>\n",
       "      <td>16184358</td>\n",
       "      <td>CNN Business</td>\n",
       "      <td>NaN</td>\n",
       "    </tr>\n",
       "    <tr>\n",
       "      <th>2</th>\n",
       "      <td>1070868012864028673</td>\n",
       "      <td>2018-12-07 02:30:04</td>\n",
       "      <td>-1</td>\n",
       "      <td>-1</td>\n",
       "      <td>12</td>\n",
       "      <td>False</td>\n",
       "      <td>True</td>\n",
       "      <td>False</td>\n",
       "      <td>8</td>\n",
       "      <td>NaN</td>\n",
       "      <td>4</td>\n",
       "      <td>-1</td>\n",
       "      <td>Lyft files for what is expected to be one of t...</td>\n",
       "      <td>Business</td>\n",
       "      <td>2253989</td>\n",
       "      <td>25053299</td>\n",
       "      <td>FORTUNE</td>\n",
       "      <td>NaN</td>\n",
       "    </tr>\n",
       "    <tr>\n",
       "      <th>3</th>\n",
       "      <td>1070867995239555075</td>\n",
       "      <td>2018-12-07 02:30:00</td>\n",
       "      <td>-1</td>\n",
       "      <td>-1</td>\n",
       "      <td>5</td>\n",
       "      <td>False</td>\n",
       "      <td>True</td>\n",
       "      <td>False</td>\n",
       "      <td>4</td>\n",
       "      <td>NaN</td>\n",
       "      <td>1</td>\n",
       "      <td>-1</td>\n",
       "      <td>Exporters still waiting to get Rs 6,000 crore ...</td>\n",
       "      <td>Business</td>\n",
       "      <td>1704056</td>\n",
       "      <td>43855487</td>\n",
       "      <td>Business Standard</td>\n",
       "      <td>NaN</td>\n",
       "    </tr>\n",
       "    <tr>\n",
       "      <th>4</th>\n",
       "      <td>1070867995205885952</td>\n",
       "      <td>2018-12-07 02:30:00</td>\n",
       "      <td>-1</td>\n",
       "      <td>-1</td>\n",
       "      <td>5</td>\n",
       "      <td>False</td>\n",
       "      <td>True</td>\n",
       "      <td>False</td>\n",
       "      <td>2</td>\n",
       "      <td>NaN</td>\n",
       "      <td>3</td>\n",
       "      <td>-1</td>\n",
       "      <td>Ride-hailing firm Lyft races to leave Uber beh...</td>\n",
       "      <td>Business</td>\n",
       "      <td>1997662</td>\n",
       "      <td>15110357</td>\n",
       "      <td>Reuters Business</td>\n",
       "      <td>https://video.twimg.com/amplify_video/10708116...</td>\n",
       "    </tr>\n",
       "  </tbody>\n",
       "</table>\n",
       "</div>"
      ],
      "text/plain": [
       "               tweetID               crDate  edInput  editor  engages  \\\n",
       "0  1070867471245164544  2018-12-07 02:27:55       -1      -1       98   \n",
       "1  1070868017888837633  2018-12-07 02:30:05       -1      -1       13   \n",
       "2  1070868012864028673  2018-12-07 02:30:04       -1      -1       12   \n",
       "3  1070867995239555075  2018-12-07 02:30:00       -1      -1        5   \n",
       "4  1070867995205885952  2018-12-07 02:30:00       -1      -1        5   \n",
       "\n",
       "   isApproved  isEdNeed   isRT  likes  \\\n",
       "0       False      True  False     64   \n",
       "1       False      True  False     10   \n",
       "2       False      True  False      8   \n",
       "3       False      True  False      4   \n",
       "4       False      True  False      2   \n",
       "\n",
       "                                          photoUrl  retweets  rtUsID  \\\n",
       "0  https://pbs.twimg.com/media/Dtx8SiIWkAImVsb.jpg        34      -1   \n",
       "1  https://pbs.twimg.com/media/Dtx8yTyW4AEciqP.jpg         3      -1   \n",
       "2                                              NaN         4      -1   \n",
       "3                                              NaN         1      -1   \n",
       "4                                              NaN         3      -1   \n",
       "\n",
       "                                                text topicName   usFlwrs  \\\n",
       "0  The immediate impulse for an alliance of the E...  Business  23464532   \n",
       "1  America's economy is flashing some warning sig...  Business   1732809   \n",
       "2  Lyft files for what is expected to be one of t...  Business   2253989   \n",
       "3  Exporters still waiting to get Rs 6,000 crore ...  Business   1704056   \n",
       "4  Ride-hailing firm Lyft races to leave Uber beh...  Business   1997662   \n",
       "\n",
       "       usID             usName  \\\n",
       "0   5988062      The Economist   \n",
       "1  16184358       CNN Business   \n",
       "2  25053299            FORTUNE   \n",
       "3  43855487  Business Standard   \n",
       "4  15110357   Reuters Business   \n",
       "\n",
       "                                            videoUrl  \n",
       "0                                                NaN  \n",
       "1                                                NaN  \n",
       "2                                                NaN  \n",
       "3                                                NaN  \n",
       "4  https://video.twimg.com/amplify_video/10708116...  "
      ]
     },
     "execution_count": 7,
     "metadata": {},
     "output_type": "execute_result"
    }
   ],
   "source": [
    "df.head()"
   ]
  },
  {
   "cell_type": "code",
   "execution_count": 8,
   "metadata": {},
   "outputs": [
    {
     "data": {
      "text/plain": [
       "\"The immediate impulse for an alliance of the EU's northern states is Brexit https://t.co/nlhUD36hay https://t.co/shwMWpjjuK\""
      ]
     },
     "execution_count": 8,
     "metadata": {},
     "output_type": "execute_result"
    }
   ],
   "source": [
    "df['text'][0]"
   ]
  },
  {
   "cell_type": "code",
   "execution_count": 9,
   "metadata": {},
   "outputs": [],
   "source": [
    "df['text_user'] = df['text']  + 5*(\" \"+ df[\"usName\"])"
   ]
  },
  {
   "cell_type": "code",
   "execution_count": 13,
   "metadata": {},
   "outputs": [
    {
     "data": {
      "text/plain": [
       "'Lyft files for what is expected to be one of the hottest IPOs in 2019 https://t.co/qEjyniazlD FORTUNE FORTUNE FORTUNE FORTUNE FORTUNE'"
      ]
     },
     "execution_count": 13,
     "metadata": {},
     "output_type": "execute_result"
    }
   ],
   "source": [
    "df['text_user'][2]"
   ]
  },
  {
   "cell_type": "markdown",
   "metadata": {},
   "source": [
    "#### How to save a model\n",
    "\n",
    "https://machinelearningmastery.com/save-load-machine-learning-models-python-scikit-learn/\n",
    "\n",
    "```\n",
    "import pickle\n",
    "\n",
    "X_train, X_test, Y_train, Y_test = model_selection.train_test_split(X, Y, test_size=test_size, random_state=seed)\n",
    "# Fit the model on training set\n",
    "model = LogisticRegression()\n",
    "model.fit(X_train, Y_train)\n",
    "# save the model to disk\n",
    "filename = 'finalized_model.sav'\n",
    "pickle.dump(model, open(filename, 'wb'))\n",
    "\n",
    "# some time later...\n",
    "\n",
    "# load the model from disk\n",
    "loaded_model = pickle.load(open(filename, 'rb'))\n",
    "result = loaded_model.score(X_test, Y_test)\n",
    "print(result)\n",
    "```"
   ]
  },
  {
   "cell_type": "code",
   "execution_count": 14,
   "metadata": {},
   "outputs": [],
   "source": [
    "df_business = df[df['topicName']=='Business']"
   ]
  },
  {
   "cell_type": "code",
   "execution_count": 15,
   "metadata": {},
   "outputs": [
    {
     "data": {
      "text/html": [
       "<div>\n",
       "<style scoped>\n",
       "    .dataframe tbody tr th:only-of-type {\n",
       "        vertical-align: middle;\n",
       "    }\n",
       "\n",
       "    .dataframe tbody tr th {\n",
       "        vertical-align: top;\n",
       "    }\n",
       "\n",
       "    .dataframe thead th {\n",
       "        text-align: right;\n",
       "    }\n",
       "</style>\n",
       "<table border=\"1\" class=\"dataframe\">\n",
       "  <thead>\n",
       "    <tr style=\"text-align: right;\">\n",
       "      <th></th>\n",
       "      <th>tweetID</th>\n",
       "      <th>crDate</th>\n",
       "      <th>edInput</th>\n",
       "      <th>editor</th>\n",
       "      <th>engages</th>\n",
       "      <th>isApproved</th>\n",
       "      <th>isEdNeed</th>\n",
       "      <th>isRT</th>\n",
       "      <th>likes</th>\n",
       "      <th>photoUrl</th>\n",
       "      <th>retweets</th>\n",
       "      <th>rtUsID</th>\n",
       "      <th>text</th>\n",
       "      <th>topicName</th>\n",
       "      <th>usFlwrs</th>\n",
       "      <th>usID</th>\n",
       "      <th>usName</th>\n",
       "      <th>videoUrl</th>\n",
       "      <th>text_user</th>\n",
       "    </tr>\n",
       "  </thead>\n",
       "  <tbody>\n",
       "    <tr>\n",
       "      <th>0</th>\n",
       "      <td>1070867471245164544</td>\n",
       "      <td>2018-12-07 02:27:55</td>\n",
       "      <td>-1</td>\n",
       "      <td>-1</td>\n",
       "      <td>98</td>\n",
       "      <td>False</td>\n",
       "      <td>True</td>\n",
       "      <td>False</td>\n",
       "      <td>64</td>\n",
       "      <td>https://pbs.twimg.com/media/Dtx8SiIWkAImVsb.jpg</td>\n",
       "      <td>34</td>\n",
       "      <td>-1</td>\n",
       "      <td>The immediate impulse for an alliance of the E...</td>\n",
       "      <td>Business</td>\n",
       "      <td>23464532</td>\n",
       "      <td>5988062</td>\n",
       "      <td>The Economist</td>\n",
       "      <td>NaN</td>\n",
       "      <td>The immediate impulse for an alliance of the E...</td>\n",
       "    </tr>\n",
       "    <tr>\n",
       "      <th>1</th>\n",
       "      <td>1070868017888837633</td>\n",
       "      <td>2018-12-07 02:30:05</td>\n",
       "      <td>-1</td>\n",
       "      <td>-1</td>\n",
       "      <td>13</td>\n",
       "      <td>False</td>\n",
       "      <td>True</td>\n",
       "      <td>False</td>\n",
       "      <td>10</td>\n",
       "      <td>https://pbs.twimg.com/media/Dtx8yTyW4AEciqP.jpg</td>\n",
       "      <td>3</td>\n",
       "      <td>-1</td>\n",
       "      <td>America's economy is flashing some warning sig...</td>\n",
       "      <td>Business</td>\n",
       "      <td>1732809</td>\n",
       "      <td>16184358</td>\n",
       "      <td>CNN Business</td>\n",
       "      <td>NaN</td>\n",
       "      <td>America's economy is flashing some warning sig...</td>\n",
       "    </tr>\n",
       "    <tr>\n",
       "      <th>2</th>\n",
       "      <td>1070868012864028673</td>\n",
       "      <td>2018-12-07 02:30:04</td>\n",
       "      <td>-1</td>\n",
       "      <td>-1</td>\n",
       "      <td>12</td>\n",
       "      <td>False</td>\n",
       "      <td>True</td>\n",
       "      <td>False</td>\n",
       "      <td>8</td>\n",
       "      <td>NaN</td>\n",
       "      <td>4</td>\n",
       "      <td>-1</td>\n",
       "      <td>Lyft files for what is expected to be one of t...</td>\n",
       "      <td>Business</td>\n",
       "      <td>2253989</td>\n",
       "      <td>25053299</td>\n",
       "      <td>FORTUNE</td>\n",
       "      <td>NaN</td>\n",
       "      <td>Lyft files for what is expected to be one of t...</td>\n",
       "    </tr>\n",
       "    <tr>\n",
       "      <th>3</th>\n",
       "      <td>1070867995239555075</td>\n",
       "      <td>2018-12-07 02:30:00</td>\n",
       "      <td>-1</td>\n",
       "      <td>-1</td>\n",
       "      <td>5</td>\n",
       "      <td>False</td>\n",
       "      <td>True</td>\n",
       "      <td>False</td>\n",
       "      <td>4</td>\n",
       "      <td>NaN</td>\n",
       "      <td>1</td>\n",
       "      <td>-1</td>\n",
       "      <td>Exporters still waiting to get Rs 6,000 crore ...</td>\n",
       "      <td>Business</td>\n",
       "      <td>1704056</td>\n",
       "      <td>43855487</td>\n",
       "      <td>Business Standard</td>\n",
       "      <td>NaN</td>\n",
       "      <td>Exporters still waiting to get Rs 6,000 crore ...</td>\n",
       "    </tr>\n",
       "    <tr>\n",
       "      <th>4</th>\n",
       "      <td>1070867995205885952</td>\n",
       "      <td>2018-12-07 02:30:00</td>\n",
       "      <td>-1</td>\n",
       "      <td>-1</td>\n",
       "      <td>5</td>\n",
       "      <td>False</td>\n",
       "      <td>True</td>\n",
       "      <td>False</td>\n",
       "      <td>2</td>\n",
       "      <td>NaN</td>\n",
       "      <td>3</td>\n",
       "      <td>-1</td>\n",
       "      <td>Ride-hailing firm Lyft races to leave Uber beh...</td>\n",
       "      <td>Business</td>\n",
       "      <td>1997662</td>\n",
       "      <td>15110357</td>\n",
       "      <td>Reuters Business</td>\n",
       "      <td>https://video.twimg.com/amplify_video/10708116...</td>\n",
       "      <td>Ride-hailing firm Lyft races to leave Uber beh...</td>\n",
       "    </tr>\n",
       "  </tbody>\n",
       "</table>\n",
       "</div>"
      ],
      "text/plain": [
       "               tweetID               crDate  edInput  editor  engages  \\\n",
       "0  1070867471245164544  2018-12-07 02:27:55       -1      -1       98   \n",
       "1  1070868017888837633  2018-12-07 02:30:05       -1      -1       13   \n",
       "2  1070868012864028673  2018-12-07 02:30:04       -1      -1       12   \n",
       "3  1070867995239555075  2018-12-07 02:30:00       -1      -1        5   \n",
       "4  1070867995205885952  2018-12-07 02:30:00       -1      -1        5   \n",
       "\n",
       "   isApproved  isEdNeed   isRT  likes  \\\n",
       "0       False      True  False     64   \n",
       "1       False      True  False     10   \n",
       "2       False      True  False      8   \n",
       "3       False      True  False      4   \n",
       "4       False      True  False      2   \n",
       "\n",
       "                                          photoUrl  retweets  rtUsID  \\\n",
       "0  https://pbs.twimg.com/media/Dtx8SiIWkAImVsb.jpg        34      -1   \n",
       "1  https://pbs.twimg.com/media/Dtx8yTyW4AEciqP.jpg         3      -1   \n",
       "2                                              NaN         4      -1   \n",
       "3                                              NaN         1      -1   \n",
       "4                                              NaN         3      -1   \n",
       "\n",
       "                                                text topicName   usFlwrs  \\\n",
       "0  The immediate impulse for an alliance of the E...  Business  23464532   \n",
       "1  America's economy is flashing some warning sig...  Business   1732809   \n",
       "2  Lyft files for what is expected to be one of t...  Business   2253989   \n",
       "3  Exporters still waiting to get Rs 6,000 crore ...  Business   1704056   \n",
       "4  Ride-hailing firm Lyft races to leave Uber beh...  Business   1997662   \n",
       "\n",
       "       usID             usName  \\\n",
       "0   5988062      The Economist   \n",
       "1  16184358       CNN Business   \n",
       "2  25053299            FORTUNE   \n",
       "3  43855487  Business Standard   \n",
       "4  15110357   Reuters Business   \n",
       "\n",
       "                                            videoUrl  \\\n",
       "0                                                NaN   \n",
       "1                                                NaN   \n",
       "2                                                NaN   \n",
       "3                                                NaN   \n",
       "4  https://video.twimg.com/amplify_video/10708116...   \n",
       "\n",
       "                                           text_user  \n",
       "0  The immediate impulse for an alliance of the E...  \n",
       "1  America's economy is flashing some warning sig...  \n",
       "2  Lyft files for what is expected to be one of t...  \n",
       "3  Exporters still waiting to get Rs 6,000 crore ...  \n",
       "4  Ride-hailing firm Lyft races to leave Uber beh...  "
      ]
     },
     "execution_count": 15,
     "metadata": {},
     "output_type": "execute_result"
    }
   ],
   "source": [
    "df_business.head()"
   ]
  },
  {
   "cell_type": "code",
   "execution_count": 16,
   "metadata": {},
   "outputs": [
    {
     "name": "stdout",
     "output_type": "stream",
     "text": [
      "<class 'pandas.core.frame.DataFrame'>\n",
      "Int64Index: 164602 entries, 0 to 785869\n",
      "Data columns (total 19 columns):\n",
      "tweetID       164602 non-null int64\n",
      "crDate        164602 non-null object\n",
      "edInput       164602 non-null int64\n",
      "editor        164602 non-null int64\n",
      "engages       164602 non-null int64\n",
      "isApproved    164602 non-null bool\n",
      "isEdNeed      164602 non-null bool\n",
      "isRT          164602 non-null bool\n",
      "likes         164602 non-null int64\n",
      "photoUrl      20134 non-null object\n",
      "retweets      164602 non-null int64\n",
      "rtUsID        164602 non-null int64\n",
      "text          164602 non-null object\n",
      "topicName     164602 non-null object\n",
      "usFlwrs       164602 non-null int64\n",
      "usID          164602 non-null int64\n",
      "usName        164602 non-null object\n",
      "videoUrl      25446 non-null object\n",
      "text_user     164602 non-null object\n",
      "dtypes: bool(3), int64(9), object(7)\n",
      "memory usage: 21.8+ MB\n"
     ]
    }
   ],
   "source": [
    "df_business.info()"
   ]
  },
  {
   "cell_type": "code",
   "execution_count": 17,
   "metadata": {},
   "outputs": [],
   "source": [
    "df_business = df_business.drop(['photoUrl', 'videoUrl'], axis = 1)"
   ]
  },
  {
   "cell_type": "code",
   "execution_count": 18,
   "metadata": {},
   "outputs": [
    {
     "data": {
      "text/plain": [
       "-1    123309\n",
       " 1     17836\n",
       " 2     12188\n",
       " 4     10721\n",
       " 3       548\n",
       "Name: edInput, dtype: int64"
      ]
     },
     "execution_count": 18,
     "metadata": {},
     "output_type": "execute_result"
    }
   ],
   "source": [
    "df_business['edInput'].value_counts()"
   ]
  },
  {
   "cell_type": "code",
   "execution_count": 19,
   "metadata": {},
   "outputs": [],
   "source": [
    "# https://www.statology.org/pandas-drop-rows-with-value/\n",
    "df_business = df_business[df_business['edInput'].isin([-1, 3, 4])==False]"
   ]
  },
  {
   "cell_type": "code",
   "execution_count": 20,
   "metadata": {},
   "outputs": [
    {
     "data": {
      "text/plain": [
       "1    17836\n",
       "2    12188\n",
       "Name: edInput, dtype: int64"
      ]
     },
     "execution_count": 20,
     "metadata": {},
     "output_type": "execute_result"
    }
   ],
   "source": [
    "df_business['edInput'].value_counts()"
   ]
  },
  {
   "cell_type": "code",
   "execution_count": 21,
   "metadata": {},
   "outputs": [],
   "source": [
    "df_business['label'] = df_business['edInput'].apply(\n",
    "    lambda label: 1 if label == 1 else 0)"
   ]
  },
  {
   "cell_type": "code",
   "execution_count": 22,
   "metadata": {},
   "outputs": [
    {
     "data": {
      "text/html": [
       "<div>\n",
       "<style scoped>\n",
       "    .dataframe tbody tr th:only-of-type {\n",
       "        vertical-align: middle;\n",
       "    }\n",
       "\n",
       "    .dataframe tbody tr th {\n",
       "        vertical-align: top;\n",
       "    }\n",
       "\n",
       "    .dataframe thead th {\n",
       "        text-align: right;\n",
       "    }\n",
       "</style>\n",
       "<table border=\"1\" class=\"dataframe\">\n",
       "  <thead>\n",
       "    <tr style=\"text-align: right;\">\n",
       "      <th></th>\n",
       "      <th>tweetID</th>\n",
       "      <th>crDate</th>\n",
       "      <th>edInput</th>\n",
       "      <th>editor</th>\n",
       "      <th>engages</th>\n",
       "      <th>isApproved</th>\n",
       "      <th>isEdNeed</th>\n",
       "      <th>isRT</th>\n",
       "      <th>likes</th>\n",
       "      <th>retweets</th>\n",
       "      <th>rtUsID</th>\n",
       "      <th>text</th>\n",
       "      <th>topicName</th>\n",
       "      <th>usFlwrs</th>\n",
       "      <th>usID</th>\n",
       "      <th>usName</th>\n",
       "      <th>text_user</th>\n",
       "      <th>label</th>\n",
       "    </tr>\n",
       "  </thead>\n",
       "  <tbody>\n",
       "    <tr>\n",
       "      <th>12252</th>\n",
       "      <td>1072758722315862021</td>\n",
       "      <td>2018-12-12 07:43:04</td>\n",
       "      <td>2</td>\n",
       "      <td>5001</td>\n",
       "      <td>9618</td>\n",
       "      <td>False</td>\n",
       "      <td>True</td>\n",
       "      <td>True</td>\n",
       "      <td>5771</td>\n",
       "      <td>3847</td>\n",
       "      <td>621523</td>\n",
       "      <td>UK Prime Minister Theresa May will face a vote...</td>\n",
       "      <td>Business</td>\n",
       "      <td>38564612</td>\n",
       "      <td>5402612</td>\n",
       "      <td>BBC Breaking News</td>\n",
       "      <td>UK Prime Minister Theresa May will face a vote...</td>\n",
       "      <td>0</td>\n",
       "    </tr>\n",
       "    <tr>\n",
       "      <th>14042</th>\n",
       "      <td>1072959907958276096</td>\n",
       "      <td>2018-12-12 21:02:31</td>\n",
       "      <td>2</td>\n",
       "      <td>5001</td>\n",
       "      <td>10388</td>\n",
       "      <td>False</td>\n",
       "      <td>True</td>\n",
       "      <td>True</td>\n",
       "      <td>6977</td>\n",
       "      <td>3411</td>\n",
       "      <td>621523</td>\n",
       "      <td>UK PM Theresa May wins confidence vote with 20...</td>\n",
       "      <td>Business</td>\n",
       "      <td>38567131</td>\n",
       "      <td>5402612</td>\n",
       "      <td>BBC Breaking News</td>\n",
       "      <td>UK PM Theresa May wins confidence vote with 20...</td>\n",
       "      <td>0</td>\n",
       "    </tr>\n",
       "    <tr>\n",
       "      <th>16954</th>\n",
       "      <td>1073329348755767303</td>\n",
       "      <td>2018-12-13 21:30:32</td>\n",
       "      <td>2</td>\n",
       "      <td>5001</td>\n",
       "      <td>6734</td>\n",
       "      <td>False</td>\n",
       "      <td>True</td>\n",
       "      <td>True</td>\n",
       "      <td>4467</td>\n",
       "      <td>2267</td>\n",
       "      <td>3108351</td>\n",
       "      <td>The probe of the inaugural fund partly arises ...</td>\n",
       "      <td>Business</td>\n",
       "      <td>57108</td>\n",
       "      <td>705706292</td>\n",
       "      <td>Rebecca Ballhaus</td>\n",
       "      <td>The probe of the inaugural fund partly arises ...</td>\n",
       "      <td>0</td>\n",
       "    </tr>\n",
       "    <tr>\n",
       "      <th>18004</th>\n",
       "      <td>1073499538659393536</td>\n",
       "      <td>2018-12-14 08:46:49</td>\n",
       "      <td>1</td>\n",
       "      <td>5001</td>\n",
       "      <td>6914</td>\n",
       "      <td>True</td>\n",
       "      <td>True</td>\n",
       "      <td>True</td>\n",
       "      <td>5402</td>\n",
       "      <td>1512</td>\n",
       "      <td>621523</td>\n",
       "      <td>The week Brexit hit the brick wall :  Commons ...</td>\n",
       "      <td>Business</td>\n",
       "      <td>879928</td>\n",
       "      <td>25984418</td>\n",
       "      <td>Nick Robinson</td>\n",
       "      <td>The week Brexit hit the brick wall :  Commons ...</td>\n",
       "      <td>1</td>\n",
       "    </tr>\n",
       "    <tr>\n",
       "      <th>18396</th>\n",
       "      <td>1073542862573371392</td>\n",
       "      <td>2018-12-14 11:38:58</td>\n",
       "      <td>2</td>\n",
       "      <td>5001</td>\n",
       "      <td>6269</td>\n",
       "      <td>False</td>\n",
       "      <td>True</td>\n",
       "      <td>True</td>\n",
       "      <td>4610</td>\n",
       "      <td>1659</td>\n",
       "      <td>621523</td>\n",
       "      <td>Have watched these kinds of pictures looking f...</td>\n",
       "      <td>Business</td>\n",
       "      <td>888862</td>\n",
       "      <td>61183568</td>\n",
       "      <td>Laura Kuenssberg</td>\n",
       "      <td>Have watched these kinds of pictures looking f...</td>\n",
       "      <td>0</td>\n",
       "    </tr>\n",
       "  </tbody>\n",
       "</table>\n",
       "</div>"
      ],
      "text/plain": [
       "                   tweetID               crDate  edInput  editor  engages  \\\n",
       "12252  1072758722315862021  2018-12-12 07:43:04        2    5001     9618   \n",
       "14042  1072959907958276096  2018-12-12 21:02:31        2    5001    10388   \n",
       "16954  1073329348755767303  2018-12-13 21:30:32        2    5001     6734   \n",
       "18004  1073499538659393536  2018-12-14 08:46:49        1    5001     6914   \n",
       "18396  1073542862573371392  2018-12-14 11:38:58        2    5001     6269   \n",
       "\n",
       "       isApproved  isEdNeed  isRT  likes  retweets   rtUsID  \\\n",
       "12252       False      True  True   5771      3847   621523   \n",
       "14042       False      True  True   6977      3411   621523   \n",
       "16954       False      True  True   4467      2267  3108351   \n",
       "18004        True      True  True   5402      1512   621523   \n",
       "18396       False      True  True   4610      1659   621523   \n",
       "\n",
       "                                                    text topicName   usFlwrs  \\\n",
       "12252  UK Prime Minister Theresa May will face a vote...  Business  38564612   \n",
       "14042  UK PM Theresa May wins confidence vote with 20...  Business  38567131   \n",
       "16954  The probe of the inaugural fund partly arises ...  Business     57108   \n",
       "18004  The week Brexit hit the brick wall :  Commons ...  Business    879928   \n",
       "18396  Have watched these kinds of pictures looking f...  Business    888862   \n",
       "\n",
       "            usID             usName  \\\n",
       "12252    5402612  BBC Breaking News   \n",
       "14042    5402612  BBC Breaking News   \n",
       "16954  705706292   Rebecca Ballhaus   \n",
       "18004   25984418      Nick Robinson   \n",
       "18396   61183568   Laura Kuenssberg   \n",
       "\n",
       "                                               text_user  label  \n",
       "12252  UK Prime Minister Theresa May will face a vote...      0  \n",
       "14042  UK PM Theresa May wins confidence vote with 20...      0  \n",
       "16954  The probe of the inaugural fund partly arises ...      0  \n",
       "18004  The week Brexit hit the brick wall :  Commons ...      1  \n",
       "18396  Have watched these kinds of pictures looking f...      0  "
      ]
     },
     "execution_count": 22,
     "metadata": {},
     "output_type": "execute_result"
    }
   ],
   "source": [
    "df_business.head()"
   ]
  },
  {
   "cell_type": "code",
   "execution_count": 23,
   "metadata": {},
   "outputs": [
    {
     "data": {
      "text/plain": [
       "1    17836\n",
       "0    12188\n",
       "Name: label, dtype: int64"
      ]
     },
     "execution_count": 23,
     "metadata": {},
     "output_type": "execute_result"
    }
   ],
   "source": [
    "df_business['label'].value_counts()"
   ]
  },
  {
   "cell_type": "code",
   "execution_count": 24,
   "metadata": {},
   "outputs": [],
   "source": [
    "df_business_label = df_business[['text', 'label', 'engages', 'likes', 'retweets', 'usFlwrs', 'usName']]"
   ]
  },
  {
   "cell_type": "code",
   "execution_count": 25,
   "metadata": {},
   "outputs": [
    {
     "data": {
      "text/html": [
       "<div>\n",
       "<style scoped>\n",
       "    .dataframe tbody tr th:only-of-type {\n",
       "        vertical-align: middle;\n",
       "    }\n",
       "\n",
       "    .dataframe tbody tr th {\n",
       "        vertical-align: top;\n",
       "    }\n",
       "\n",
       "    .dataframe thead th {\n",
       "        text-align: right;\n",
       "    }\n",
       "</style>\n",
       "<table border=\"1\" class=\"dataframe\">\n",
       "  <thead>\n",
       "    <tr style=\"text-align: right;\">\n",
       "      <th></th>\n",
       "      <th>text</th>\n",
       "      <th>label</th>\n",
       "      <th>engages</th>\n",
       "      <th>likes</th>\n",
       "      <th>retweets</th>\n",
       "      <th>usFlwrs</th>\n",
       "      <th>usName</th>\n",
       "    </tr>\n",
       "  </thead>\n",
       "  <tbody>\n",
       "    <tr>\n",
       "      <th>12252</th>\n",
       "      <td>UK Prime Minister Theresa May will face a vote...</td>\n",
       "      <td>0</td>\n",
       "      <td>9618</td>\n",
       "      <td>5771</td>\n",
       "      <td>3847</td>\n",
       "      <td>38564612</td>\n",
       "      <td>BBC Breaking News</td>\n",
       "    </tr>\n",
       "    <tr>\n",
       "      <th>14042</th>\n",
       "      <td>UK PM Theresa May wins confidence vote with 20...</td>\n",
       "      <td>0</td>\n",
       "      <td>10388</td>\n",
       "      <td>6977</td>\n",
       "      <td>3411</td>\n",
       "      <td>38567131</td>\n",
       "      <td>BBC Breaking News</td>\n",
       "    </tr>\n",
       "    <tr>\n",
       "      <th>16954</th>\n",
       "      <td>The probe of the inaugural fund partly arises ...</td>\n",
       "      <td>0</td>\n",
       "      <td>6734</td>\n",
       "      <td>4467</td>\n",
       "      <td>2267</td>\n",
       "      <td>57108</td>\n",
       "      <td>Rebecca Ballhaus</td>\n",
       "    </tr>\n",
       "    <tr>\n",
       "      <th>18004</th>\n",
       "      <td>The week Brexit hit the brick wall :  Commons ...</td>\n",
       "      <td>1</td>\n",
       "      <td>6914</td>\n",
       "      <td>5402</td>\n",
       "      <td>1512</td>\n",
       "      <td>879928</td>\n",
       "      <td>Nick Robinson</td>\n",
       "    </tr>\n",
       "    <tr>\n",
       "      <th>18396</th>\n",
       "      <td>Have watched these kinds of pictures looking f...</td>\n",
       "      <td>0</td>\n",
       "      <td>6269</td>\n",
       "      <td>4610</td>\n",
       "      <td>1659</td>\n",
       "      <td>888862</td>\n",
       "      <td>Laura Kuenssberg</td>\n",
       "    </tr>\n",
       "  </tbody>\n",
       "</table>\n",
       "</div>"
      ],
      "text/plain": [
       "                                                    text  label  engages  \\\n",
       "12252  UK Prime Minister Theresa May will face a vote...      0     9618   \n",
       "14042  UK PM Theresa May wins confidence vote with 20...      0    10388   \n",
       "16954  The probe of the inaugural fund partly arises ...      0     6734   \n",
       "18004  The week Brexit hit the brick wall :  Commons ...      1     6914   \n",
       "18396  Have watched these kinds of pictures looking f...      0     6269   \n",
       "\n",
       "       likes  retweets   usFlwrs             usName  \n",
       "12252   5771      3847  38564612  BBC Breaking News  \n",
       "14042   6977      3411  38567131  BBC Breaking News  \n",
       "16954   4467      2267     57108   Rebecca Ballhaus  \n",
       "18004   5402      1512    879928      Nick Robinson  \n",
       "18396   4610      1659    888862   Laura Kuenssberg  "
      ]
     },
     "execution_count": 25,
     "metadata": {},
     "output_type": "execute_result"
    }
   ],
   "source": [
    "df_business_label.head()"
   ]
  },
  {
   "cell_type": "code",
   "execution_count": 26,
   "metadata": {},
   "outputs": [
    {
     "data": {
      "text/plain": [
       "<matplotlib.axes._subplots.AxesSubplot at 0x1651bef2dc8>"
      ]
     },
     "execution_count": 26,
     "metadata": {},
     "output_type": "execute_result"
    },
    {
     "data": {
      "image/png": "[encoded data removed]",
      "text/plain": [
       "<Figure size 432x288 with 1 Axes>"
      ]
     },
     "metadata": {
      "needs_background": "light"
     },
     "output_type": "display_data"
    }
   ],
   "source": [
    "df_business_label['label'].value_counts().plot(kind='bar')"
   ]
  },
  {
   "cell_type": "code",
   "execution_count": 27,
   "metadata": {},
   "outputs": [],
   "source": [
    "# nltk.download('words')\n",
    "words = set(nltk.corpus.words.words())"
   ]
  },
  {
   "cell_type": "code",
   "execution_count": 28,
   "metadata": {},
   "outputs": [],
   "source": [
    "def preprocess_text(my_text):\n",
    "    \"\"\"\n",
    "    Take in column (pandas series) of text and return 'cleaned' text\n",
    "    \n",
    "    Input: column of text\n",
    "    Output: column of cleaned text\n",
    "    \"\"\"\n",
    "    new_text = []\n",
    "    \n",
    "    alphanumeric = lambda x: re.sub('\\w*\\d\\w*', ' ', x)\n",
    "    punc_lower = lambda x: re.sub('[%s]' % re.escape(string.punctuation), ' ', x.lower())\n",
    "    \n",
    "    alpha_lower = my_text.map(alphanumeric).map(punc_lower)\n",
    "    \n",
    "    for item in alpha_lower:\n",
    "        new_text.append(\" \".join(w for w in nltk.wordpunct_tokenize(item) if w.lower() in words or not w.isalpha()))\n",
    "        \n",
    "    return new_text"
   ]
  },
  {
   "cell_type": "code",
   "execution_count": 29,
   "metadata": {},
   "outputs": [
    {
     "name": "stderr",
     "output_type": "stream",
     "text": [
      "e:\\Users\\user\\anaconda3\\envs\\metis\\lib\\site-packages\\ipykernel_launcher.py:1: SettingWithCopyWarning: \n",
      "A value is trying to be set on a copy of a slice from a DataFrame.\n",
      "Try using .loc[row_indexer,col_indexer] = value instead\n",
      "\n",
      "See the caveats in the documentation: http://pandas.pydata.org/pandas-docs/stable/user_guide/indexing.html#returning-a-view-versus-a-copy\n",
      "  \"\"\"Entry point for launching an IPython kernel.\n"
     ]
    }
   ],
   "source": [
    "df_business_label['clean_text'] = preprocess_text(df_business_label['text'])"
   ]
  },
  {
   "cell_type": "code",
   "execution_count": 30,
   "metadata": {},
   "outputs": [
    {
     "data": {
      "text/html": [
       "<div>\n",
       "<style scoped>\n",
       "    .dataframe tbody tr th:only-of-type {\n",
       "        vertical-align: middle;\n",
       "    }\n",
       "\n",
       "    .dataframe tbody tr th {\n",
       "        vertical-align: top;\n",
       "    }\n",
       "\n",
       "    .dataframe thead th {\n",
       "        text-align: right;\n",
       "    }\n",
       "</style>\n",
       "<table border=\"1\" class=\"dataframe\">\n",
       "  <thead>\n",
       "    <tr style=\"text-align: right;\">\n",
       "      <th></th>\n",
       "      <th>text</th>\n",
       "      <th>label</th>\n",
       "      <th>engages</th>\n",
       "      <th>likes</th>\n",
       "      <th>retweets</th>\n",
       "      <th>usFlwrs</th>\n",
       "      <th>usName</th>\n",
       "      <th>clean_text</th>\n",
       "    </tr>\n",
       "  </thead>\n",
       "  <tbody>\n",
       "    <tr>\n",
       "      <th>12252</th>\n",
       "      <td>UK Prime Minister Theresa May will face a vote...</td>\n",
       "      <td>0</td>\n",
       "      <td>9618</td>\n",
       "      <td>5771</td>\n",
       "      <td>3847</td>\n",
       "      <td>38564612</td>\n",
       "      <td>BBC Breaking News</td>\n",
       "      <td>prime minister may will face a vote of no conf...</td>\n",
       "    </tr>\n",
       "    <tr>\n",
       "      <th>14042</th>\n",
       "      <td>UK PM Theresa May wins confidence vote with 20...</td>\n",
       "      <td>0</td>\n",
       "      <td>10388</td>\n",
       "      <td>6977</td>\n",
       "      <td>3411</td>\n",
       "      <td>38567131</td>\n",
       "      <td>BBC Breaking News</td>\n",
       "      <td>may confidence vote with out of tory supportin...</td>\n",
       "    </tr>\n",
       "    <tr>\n",
       "      <th>16954</th>\n",
       "      <td>The probe of the inaugural fund partly arises ...</td>\n",
       "      <td>0</td>\n",
       "      <td>6734</td>\n",
       "      <td>4467</td>\n",
       "      <td>2267</td>\n",
       "      <td>57108</td>\n",
       "      <td>Rebecca Ballhaus</td>\n",
       "      <td>the probe of the inaugural fund partly out of ...</td>\n",
       "    </tr>\n",
       "    <tr>\n",
       "      <th>18004</th>\n",
       "      <td>The week Brexit hit the brick wall :  Commons ...</td>\n",
       "      <td>1</td>\n",
       "      <td>6914</td>\n",
       "      <td>5402</td>\n",
       "      <td>1512</td>\n",
       "      <td>879928</td>\n",
       "      <td>Nick Robinson</td>\n",
       "      <td>the week hit the brick wall commons won ’ t ac...</td>\n",
       "    </tr>\n",
       "    <tr>\n",
       "      <th>18396</th>\n",
       "      <td>Have watched these kinds of pictures looking f...</td>\n",
       "      <td>0</td>\n",
       "      <td>6269</td>\n",
       "      <td>4610</td>\n",
       "      <td>1659</td>\n",
       "      <td>888862</td>\n",
       "      <td>Laura Kuenssberg</td>\n",
       "      <td>have watched these of looking for body languag...</td>\n",
       "    </tr>\n",
       "    <tr>\n",
       "      <th>...</th>\n",
       "      <td>...</td>\n",
       "      <td>...</td>\n",
       "      <td>...</td>\n",
       "      <td>...</td>\n",
       "      <td>...</td>\n",
       "      <td>...</td>\n",
       "      <td>...</td>\n",
       "      <td>...</td>\n",
       "    </tr>\n",
       "    <tr>\n",
       "      <th>785779</th>\n",
       "      <td>This bouquet of roses is completely edible htt...</td>\n",
       "      <td>0</td>\n",
       "      <td>431</td>\n",
       "      <td>321</td>\n",
       "      <td>110</td>\n",
       "      <td>214469</td>\n",
       "      <td>FOOD INSIDER</td>\n",
       "      <td>this bouquet of is completely edible t</td>\n",
       "    </tr>\n",
       "    <tr>\n",
       "      <th>785809</th>\n",
       "      <td>This fancy McDonald's has a handwashing statio...</td>\n",
       "      <td>0</td>\n",
       "      <td>699</td>\n",
       "      <td>504</td>\n",
       "      <td>195</td>\n",
       "      <td>214487</td>\n",
       "      <td>FOOD INSIDER</td>\n",
       "      <td>this fancy s a station and real silverware 🍴 t</td>\n",
       "    </tr>\n",
       "    <tr>\n",
       "      <th>785813</th>\n",
       "      <td>🚨 Spoilers ahead 🚨\\nFinished #StrangerThings? ...</td>\n",
       "      <td>0</td>\n",
       "      <td>135</td>\n",
       "      <td>101</td>\n",
       "      <td>34</td>\n",
       "      <td>16441</td>\n",
       "      <td>Kim Renfro</td>\n",
       "      <td>🚨 ahead 🚨 finished great let s dive into some ...</td>\n",
       "    </tr>\n",
       "    <tr>\n",
       "      <th>785829</th>\n",
       "      <td>These cakes are topped with yogurt 🎂 https://t...</td>\n",
       "      <td>0</td>\n",
       "      <td>1892</td>\n",
       "      <td>1412</td>\n",
       "      <td>480</td>\n",
       "      <td>214530</td>\n",
       "      <td>FOOD INSIDER</td>\n",
       "      <td>these are topped with 🎂 t</td>\n",
       "    </tr>\n",
       "    <tr>\n",
       "      <th>785854</th>\n",
       "      <td>Are you team Shake Shack or team In-N-Out? htt...</td>\n",
       "      <td>0</td>\n",
       "      <td>79</td>\n",
       "      <td>64</td>\n",
       "      <td>15</td>\n",
       "      <td>214552</td>\n",
       "      <td>FOOD INSIDER</td>\n",
       "      <td>are you team shake shack or team in n out t</td>\n",
       "    </tr>\n",
       "  </tbody>\n",
       "</table>\n",
       "<p>30024 rows × 8 columns</p>\n",
       "</div>"
      ],
      "text/plain": [
       "                                                     text  label  engages  \\\n",
       "12252   UK Prime Minister Theresa May will face a vote...      0     9618   \n",
       "14042   UK PM Theresa May wins confidence vote with 20...      0    10388   \n",
       "16954   The probe of the inaugural fund partly arises ...      0     6734   \n",
       "18004   The week Brexit hit the brick wall :  Commons ...      1     6914   \n",
       "18396   Have watched these kinds of pictures looking f...      0     6269   \n",
       "...                                                   ...    ...      ...   \n",
       "785779  This bouquet of roses is completely edible htt...      0      431   \n",
       "785809  This fancy McDonald's has a handwashing statio...      0      699   \n",
       "785813  🚨 Spoilers ahead 🚨\\nFinished #StrangerThings? ...      0      135   \n",
       "785829  These cakes are topped with yogurt 🎂 https://t...      0     1892   \n",
       "785854  Are you team Shake Shack or team In-N-Out? htt...      0       79   \n",
       "\n",
       "        likes  retweets   usFlwrs             usName  \\\n",
       "12252    5771      3847  38564612  BBC Breaking News   \n",
       "14042    6977      3411  38567131  BBC Breaking News   \n",
       "16954    4467      2267     57108   Rebecca Ballhaus   \n",
       "18004    5402      1512    879928      Nick Robinson   \n",
       "18396    4610      1659    888862   Laura Kuenssberg   \n",
       "...       ...       ...       ...                ...   \n",
       "785779    321       110    214469       FOOD INSIDER   \n",
       "785809    504       195    214487       FOOD INSIDER   \n",
       "785813    101        34     16441         Kim Renfro   \n",
       "785829   1412       480    214530       FOOD INSIDER   \n",
       "785854     64        15    214552       FOOD INSIDER   \n",
       "\n",
       "                                               clean_text  \n",
       "12252   prime minister may will face a vote of no conf...  \n",
       "14042   may confidence vote with out of tory supportin...  \n",
       "16954   the probe of the inaugural fund partly out of ...  \n",
       "18004   the week hit the brick wall commons won ’ t ac...  \n",
       "18396   have watched these of looking for body languag...  \n",
       "...                                                   ...  \n",
       "785779             this bouquet of is completely edible t  \n",
       "785809     this fancy s a station and real silverware 🍴 t  \n",
       "785813  🚨 ahead 🚨 finished great let s dive into some ...  \n",
       "785829                          these are topped with 🎂 t  \n",
       "785854        are you team shake shack or team in n out t  \n",
       "\n",
       "[30024 rows x 8 columns]"
      ]
     },
     "execution_count": 30,
     "metadata": {},
     "output_type": "execute_result"
    }
   ],
   "source": [
    "df_business_label"
   ]
  },
  {
   "cell_type": "code",
   "execution_count": 31,
   "metadata": {},
   "outputs": [],
   "source": [
    "more_words = ['rt', 'rts', 'retweet']\n",
    "s_words = set().union(stopwords.words('english'), more_words)"
   ]
  },
  {
   "cell_type": "code",
   "execution_count": 32,
   "metadata": {},
   "outputs": [
    {
     "name": "stderr",
     "output_type": "stream",
     "text": [
      "e:\\Users\\user\\anaconda3\\envs\\metis\\lib\\site-packages\\ipykernel_launcher.py:6: SettingWithCopyWarning: \n",
      "A value is trying to be set on a copy of a slice from a DataFrame.\n",
      "Try using .loc[row_indexer,col_indexer] = value instead\n",
      "\n",
      "See the caveats in the documentation: http://pandas.pydata.org/pandas-docs/stable/user_guide/indexing.html#returning-a-view-versus-a-copy\n",
      "  \n"
     ]
    }
   ],
   "source": [
    "df_business_label['processed_text'] = df_business_label['text'].str.lower()\\\n",
    "          .str.replace('(@[a-z0-9]+)\\w+',' ')\\\n",
    "          .str.replace('(http\\S+)', ' ')\\\n",
    "          .str.replace('([^0-9a-z \\t])',' ')\\\n",
    "          .str.replace(' +',' ')\\\n",
    "          .apply(lambda x: [i for i in x.split() if not i in s_words])"
   ]
  },
  {
   "cell_type": "code",
   "execution_count": 33,
   "metadata": {},
   "outputs": [
    {
     "name": "stderr",
     "output_type": "stream",
     "text": [
      "e:\\Users\\user\\anaconda3\\envs\\metis\\lib\\site-packages\\ipykernel_launcher.py:1: SettingWithCopyWarning: \n",
      "A value is trying to be set on a copy of a slice from a DataFrame.\n",
      "Try using .loc[row_indexer,col_indexer] = value instead\n",
      "\n",
      "See the caveats in the documentation: http://pandas.pydata.org/pandas-docs/stable/user_guide/indexing.html#returning-a-view-versus-a-copy\n",
      "  \"\"\"Entry point for launching an IPython kernel.\n"
     ]
    }
   ],
   "source": [
    "df_business_label['processed_text'] = df_business_label['processed_text'].apply(\" \".join)"
   ]
  },
  {
   "cell_type": "code",
   "execution_count": 34,
   "metadata": {},
   "outputs": [
    {
     "data": {
      "text/plain": [
       "12252     uk prime minister theresa may face vote confid...\n",
       "14042     uk pm theresa may wins confidence vote 200 317...\n",
       "16954     probe inaugural fund partly arises materials s...\n",
       "18004     week brexit hit brick wall commons accept may ...\n",
       "18396     watched kinds pictures looking body language b...\n",
       "                                ...                        \n",
       "785779                      bouquet roses completely edible\n",
       "785809    fancy mcdonald handwashing station real silver...\n",
       "785813    spoilers ahead finished strangerthings great l...\n",
       "785829                                  cakes topped yogurt\n",
       "785854                              team shake shack team n\n",
       "Name: processed_text, Length: 30024, dtype: object"
      ]
     },
     "execution_count": 34,
     "metadata": {},
     "output_type": "execute_result"
    }
   ],
   "source": [
    "df_business_label['processed_text']"
   ]
  },
  {
   "cell_type": "code",
   "execution_count": 36,
   "metadata": {},
   "outputs": [
    {
     "data": {
      "text/plain": [
       "False    27854\n",
       "True      2170\n",
       "Name: processed_text, dtype: int64"
      ]
     },
     "execution_count": 36,
     "metadata": {},
     "output_type": "execute_result"
    }
   ],
   "source": [
    "df_business_label['processed_text'].duplicated().value_counts()"
   ]
  },
  {
   "cell_type": "code",
   "execution_count": 37,
   "metadata": {},
   "outputs": [],
   "source": [
    "bool_series = df_business_label['processed_text'].duplicated()"
   ]
  },
  {
   "cell_type": "code",
   "execution_count": 38,
   "metadata": {},
   "outputs": [],
   "source": [
    "df_processed = df_business_label[~bool_series]"
   ]
  },
  {
   "cell_type": "code",
   "execution_count": 39,
   "metadata": {},
   "outputs": [
    {
     "name": "stdout",
     "output_type": "stream",
     "text": [
      "<class 'pandas.core.frame.DataFrame'>\n",
      "Int64Index: 27854 entries, 12252 to 785854\n",
      "Data columns (total 9 columns):\n",
      "text              27854 non-null object\n",
      "label             27854 non-null int64\n",
      "engages           27854 non-null int64\n",
      "likes             27854 non-null int64\n",
      "retweets          27854 non-null int64\n",
      "usFlwrs           27854 non-null int64\n",
      "usName            27854 non-null object\n",
      "clean_text        27854 non-null object\n",
      "processed_text    27854 non-null object\n",
      "dtypes: int64(5), object(4)\n",
      "memory usage: 2.1+ MB\n"
     ]
    }
   ],
   "source": [
    "df_processed.info()"
   ]
  },
  {
   "cell_type": "code",
   "execution_count": 40,
   "metadata": {},
   "outputs": [
    {
     "data": {
      "text/plain": [
       "<matplotlib.axes._subplots.AxesSubplot at 0x16555526b88>"
      ]
     },
     "execution_count": 40,
     "metadata": {},
     "output_type": "execute_result"
    },
    {
     "data": {
      "image/png": "[encoded data removed]",
      "text/plain": [
       "<Figure size 432x288 with 1 Axes>"
      ]
     },
     "metadata": {
      "needs_background": "light"
     },
     "output_type": "display_data"
    }
   ],
   "source": [
    "df_processed['label'].value_counts().plot(kind='bar')"
   ]
  },
  {
   "cell_type": "code",
   "execution_count": 41,
   "metadata": {},
   "outputs": [
    {
     "data": {
      "text/html": [
       "<div>\n",
       "<style scoped>\n",
       "    .dataframe tbody tr th:only-of-type {\n",
       "        vertical-align: middle;\n",
       "    }\n",
       "\n",
       "    .dataframe tbody tr th {\n",
       "        vertical-align: top;\n",
       "    }\n",
       "\n",
       "    .dataframe thead th {\n",
       "        text-align: right;\n",
       "    }\n",
       "</style>\n",
       "<table border=\"1\" class=\"dataframe\">\n",
       "  <thead>\n",
       "    <tr style=\"text-align: right;\">\n",
       "      <th></th>\n",
       "      <th>text</th>\n",
       "      <th>label</th>\n",
       "      <th>engages</th>\n",
       "      <th>likes</th>\n",
       "      <th>retweets</th>\n",
       "      <th>usFlwrs</th>\n",
       "      <th>usName</th>\n",
       "      <th>clean_text</th>\n",
       "      <th>processed_text</th>\n",
       "    </tr>\n",
       "  </thead>\n",
       "  <tbody>\n",
       "    <tr>\n",
       "      <th>12252</th>\n",
       "      <td>UK Prime Minister Theresa May will face a vote...</td>\n",
       "      <td>0</td>\n",
       "      <td>9618</td>\n",
       "      <td>5771</td>\n",
       "      <td>3847</td>\n",
       "      <td>38564612</td>\n",
       "      <td>BBC Breaking News</td>\n",
       "      <td>prime minister may will face a vote of no conf...</td>\n",
       "      <td>uk prime minister theresa may face vote confid...</td>\n",
       "    </tr>\n",
       "    <tr>\n",
       "      <th>14042</th>\n",
       "      <td>UK PM Theresa May wins confidence vote with 20...</td>\n",
       "      <td>0</td>\n",
       "      <td>10388</td>\n",
       "      <td>6977</td>\n",
       "      <td>3411</td>\n",
       "      <td>38567131</td>\n",
       "      <td>BBC Breaking News</td>\n",
       "      <td>may confidence vote with out of tory supportin...</td>\n",
       "      <td>uk pm theresa may wins confidence vote 200 317...</td>\n",
       "    </tr>\n",
       "    <tr>\n",
       "      <th>16954</th>\n",
       "      <td>The probe of the inaugural fund partly arises ...</td>\n",
       "      <td>0</td>\n",
       "      <td>6734</td>\n",
       "      <td>4467</td>\n",
       "      <td>2267</td>\n",
       "      <td>57108</td>\n",
       "      <td>Rebecca Ballhaus</td>\n",
       "      <td>the probe of the inaugural fund partly out of ...</td>\n",
       "      <td>probe inaugural fund partly arises materials s...</td>\n",
       "    </tr>\n",
       "    <tr>\n",
       "      <th>18004</th>\n",
       "      <td>The week Brexit hit the brick wall :  Commons ...</td>\n",
       "      <td>1</td>\n",
       "      <td>6914</td>\n",
       "      <td>5402</td>\n",
       "      <td>1512</td>\n",
       "      <td>879928</td>\n",
       "      <td>Nick Robinson</td>\n",
       "      <td>the week hit the brick wall commons won ’ t ac...</td>\n",
       "      <td>week brexit hit brick wall commons accept may ...</td>\n",
       "    </tr>\n",
       "    <tr>\n",
       "      <th>18396</th>\n",
       "      <td>Have watched these kinds of pictures looking f...</td>\n",
       "      <td>0</td>\n",
       "      <td>6269</td>\n",
       "      <td>4610</td>\n",
       "      <td>1659</td>\n",
       "      <td>888862</td>\n",
       "      <td>Laura Kuenssberg</td>\n",
       "      <td>have watched these of looking for body languag...</td>\n",
       "      <td>watched kinds pictures looking body language b...</td>\n",
       "    </tr>\n",
       "  </tbody>\n",
       "</table>\n",
       "</div>"
      ],
      "text/plain": [
       "                                                    text  label  engages  \\\n",
       "12252  UK Prime Minister Theresa May will face a vote...      0     9618   \n",
       "14042  UK PM Theresa May wins confidence vote with 20...      0    10388   \n",
       "16954  The probe of the inaugural fund partly arises ...      0     6734   \n",
       "18004  The week Brexit hit the brick wall :  Commons ...      1     6914   \n",
       "18396  Have watched these kinds of pictures looking f...      0     6269   \n",
       "\n",
       "       likes  retweets   usFlwrs             usName  \\\n",
       "12252   5771      3847  38564612  BBC Breaking News   \n",
       "14042   6977      3411  38567131  BBC Breaking News   \n",
       "16954   4467      2267     57108   Rebecca Ballhaus   \n",
       "18004   5402      1512    879928      Nick Robinson   \n",
       "18396   4610      1659    888862   Laura Kuenssberg   \n",
       "\n",
       "                                              clean_text  \\\n",
       "12252  prime minister may will face a vote of no conf...   \n",
       "14042  may confidence vote with out of tory supportin...   \n",
       "16954  the probe of the inaugural fund partly out of ...   \n",
       "18004  the week hit the brick wall commons won ’ t ac...   \n",
       "18396  have watched these of looking for body languag...   \n",
       "\n",
       "                                          processed_text  \n",
       "12252  uk prime minister theresa may face vote confid...  \n",
       "14042  uk pm theresa may wins confidence vote 200 317...  \n",
       "16954  probe inaugural fund partly arises materials s...  \n",
       "18004  week brexit hit brick wall commons accept may ...  \n",
       "18396  watched kinds pictures looking body language b...  "
      ]
     },
     "execution_count": 41,
     "metadata": {},
     "output_type": "execute_result"
    }
   ],
   "source": [
    "df_processed.head()"
   ]
  },
  {
   "cell_type": "code",
   "execution_count": 42,
   "metadata": {},
   "outputs": [
    {
     "name": "stderr",
     "output_type": "stream",
     "text": [
      "e:\\Users\\user\\anaconda3\\envs\\metis\\lib\\site-packages\\ipykernel_launcher.py:1: SettingWithCopyWarning: \n",
      "A value is trying to be set on a copy of a slice from a DataFrame.\n",
      "Try using .loc[row_indexer,col_indexer] = value instead\n",
      "\n",
      "See the caveats in the documentation: http://pandas.pydata.org/pandas-docs/stable/user_guide/indexing.html#returning-a-view-versus-a-copy\n",
      "  \"\"\"Entry point for launching an IPython kernel.\n"
     ]
    }
   ],
   "source": [
    "df_processed['text_user'] = df_processed['clean_text']  + 5*(\" \"+ df[\"usName\"])"
   ]
  },
  {
   "cell_type": "code",
   "execution_count": 45,
   "metadata": {},
   "outputs": [
    {
     "data": {
      "text/plain": [
       "'prime minister may will face a vote of no confidence in her leadership later on t BBC Breaking News BBC Breaking News BBC Breaking News BBC Breaking News BBC Breaking News'"
      ]
     },
     "execution_count": 45,
     "metadata": {},
     "output_type": "execute_result"
    }
   ],
   "source": [
    "df_processed['text_user'][12252]"
   ]
  },
  {
   "cell_type": "code",
   "execution_count": 51,
   "metadata": {},
   "outputs": [],
   "source": [
    "df_processed = df_processed.reset_index(drop=True)"
   ]
  },
  {
   "cell_type": "code",
   "execution_count": 52,
   "metadata": {},
   "outputs": [
    {
     "data": {
      "text/html": [
       "<div>\n",
       "<style scoped>\n",
       "    .dataframe tbody tr th:only-of-type {\n",
       "        vertical-align: middle;\n",
       "    }\n",
       "\n",
       "    .dataframe tbody tr th {\n",
       "        vertical-align: top;\n",
       "    }\n",
       "\n",
       "    .dataframe thead th {\n",
       "        text-align: right;\n",
       "    }\n",
       "</style>\n",
       "<table border=\"1\" class=\"dataframe\">\n",
       "  <thead>\n",
       "    <tr style=\"text-align: right;\">\n",
       "      <th></th>\n",
       "      <th>text</th>\n",
       "      <th>label</th>\n",
       "      <th>engages</th>\n",
       "      <th>likes</th>\n",
       "      <th>retweets</th>\n",
       "      <th>usFlwrs</th>\n",
       "      <th>usName</th>\n",
       "      <th>clean_text</th>\n",
       "      <th>processed_text</th>\n",
       "      <th>text_user</th>\n",
       "    </tr>\n",
       "  </thead>\n",
       "  <tbody>\n",
       "    <tr>\n",
       "      <th>0</th>\n",
       "      <td>UK Prime Minister Theresa May will face a vote...</td>\n",
       "      <td>0</td>\n",
       "      <td>9618</td>\n",
       "      <td>5771</td>\n",
       "      <td>3847</td>\n",
       "      <td>38564612</td>\n",
       "      <td>BBC Breaking News</td>\n",
       "      <td>prime minister may will face a vote of no conf...</td>\n",
       "      <td>uk prime minister theresa may face vote confid...</td>\n",
       "      <td>prime minister may will face a vote of no conf...</td>\n",
       "    </tr>\n",
       "    <tr>\n",
       "      <th>1</th>\n",
       "      <td>UK PM Theresa May wins confidence vote with 20...</td>\n",
       "      <td>0</td>\n",
       "      <td>10388</td>\n",
       "      <td>6977</td>\n",
       "      <td>3411</td>\n",
       "      <td>38567131</td>\n",
       "      <td>BBC Breaking News</td>\n",
       "      <td>may confidence vote with out of tory supportin...</td>\n",
       "      <td>uk pm theresa may wins confidence vote 200 317...</td>\n",
       "      <td>may confidence vote with out of tory supportin...</td>\n",
       "    </tr>\n",
       "    <tr>\n",
       "      <th>2</th>\n",
       "      <td>The probe of the inaugural fund partly arises ...</td>\n",
       "      <td>0</td>\n",
       "      <td>6734</td>\n",
       "      <td>4467</td>\n",
       "      <td>2267</td>\n",
       "      <td>57108</td>\n",
       "      <td>Rebecca Ballhaus</td>\n",
       "      <td>the probe of the inaugural fund partly out of ...</td>\n",
       "      <td>probe inaugural fund partly arises materials s...</td>\n",
       "      <td>the probe of the inaugural fund partly out of ...</td>\n",
       "    </tr>\n",
       "    <tr>\n",
       "      <th>3</th>\n",
       "      <td>The week Brexit hit the brick wall :  Commons ...</td>\n",
       "      <td>1</td>\n",
       "      <td>6914</td>\n",
       "      <td>5402</td>\n",
       "      <td>1512</td>\n",
       "      <td>879928</td>\n",
       "      <td>Nick Robinson</td>\n",
       "      <td>the week hit the brick wall commons won ’ t ac...</td>\n",
       "      <td>week brexit hit brick wall commons accept may ...</td>\n",
       "      <td>the week hit the brick wall commons won ’ t ac...</td>\n",
       "    </tr>\n",
       "    <tr>\n",
       "      <th>4</th>\n",
       "      <td>Have watched these kinds of pictures looking f...</td>\n",
       "      <td>0</td>\n",
       "      <td>6269</td>\n",
       "      <td>4610</td>\n",
       "      <td>1659</td>\n",
       "      <td>888862</td>\n",
       "      <td>Laura Kuenssberg</td>\n",
       "      <td>have watched these of looking for body languag...</td>\n",
       "      <td>watched kinds pictures looking body language b...</td>\n",
       "      <td>have watched these of looking for body languag...</td>\n",
       "    </tr>\n",
       "  </tbody>\n",
       "</table>\n",
       "</div>"
      ],
      "text/plain": [
       "                                                text  label  engages  likes  \\\n",
       "0  UK Prime Minister Theresa May will face a vote...      0     9618   5771   \n",
       "1  UK PM Theresa May wins confidence vote with 20...      0    10388   6977   \n",
       "2  The probe of the inaugural fund partly arises ...      0     6734   4467   \n",
       "3  The week Brexit hit the brick wall :  Commons ...      1     6914   5402   \n",
       "4  Have watched these kinds of pictures looking f...      0     6269   4610   \n",
       "\n",
       "   retweets   usFlwrs             usName  \\\n",
       "0      3847  38564612  BBC Breaking News   \n",
       "1      3411  38567131  BBC Breaking News   \n",
       "2      2267     57108   Rebecca Ballhaus   \n",
       "3      1512    879928      Nick Robinson   \n",
       "4      1659    888862   Laura Kuenssberg   \n",
       "\n",
       "                                          clean_text  \\\n",
       "0  prime minister may will face a vote of no conf...   \n",
       "1  may confidence vote with out of tory supportin...   \n",
       "2  the probe of the inaugural fund partly out of ...   \n",
       "3  the week hit the brick wall commons won ’ t ac...   \n",
       "4  have watched these of looking for body languag...   \n",
       "\n",
       "                                      processed_text  \\\n",
       "0  uk prime minister theresa may face vote confid...   \n",
       "1  uk pm theresa may wins confidence vote 200 317...   \n",
       "2  probe inaugural fund partly arises materials s...   \n",
       "3  week brexit hit brick wall commons accept may ...   \n",
       "4  watched kinds pictures looking body language b...   \n",
       "\n",
       "                                           text_user  \n",
       "0  prime minister may will face a vote of no conf...  \n",
       "1  may confidence vote with out of tory supportin...  \n",
       "2  the probe of the inaugural fund partly out of ...  \n",
       "3  the week hit the brick wall commons won ’ t ac...  \n",
       "4  have watched these of looking for body languag...  "
      ]
     },
     "execution_count": 52,
     "metadata": {},
     "output_type": "execute_result"
    }
   ],
   "source": [
    "df_processed.head()"
   ]
  },
  {
   "cell_type": "code",
   "execution_count": 53,
   "metadata": {},
   "outputs": [],
   "source": [
    "X = df_processed['text_user'].to_numpy()\n",
    "y = df_processed['label'].to_numpy()"
   ]
  },
  {
   "cell_type": "code",
   "execution_count": 54,
   "metadata": {},
   "outputs": [
    {
     "data": {
      "text/plain": [
       "(27854,)"
      ]
     },
     "execution_count": 54,
     "metadata": {},
     "output_type": "execute_result"
    }
   ],
   "source": [
    "X.shape"
   ]
  },
  {
   "cell_type": "code",
   "execution_count": 55,
   "metadata": {},
   "outputs": [
    {
     "data": {
      "text/plain": [
       "array(['prime minister may will face a vote of no confidence in her leadership later on t BBC Breaking News BBC Breaking News BBC Breaking News BBC Breaking News BBC Breaking News',\n",
       "       'may confidence vote with out of tory supporting her to stay on as leader t t BBC Breaking News BBC Breaking News BBC Breaking News BBC Breaking News BBC Breaking News',\n",
       "       'the probe of the inaugural fund partly out of in the raid a conversation between an ex adviser in which she expressed concern about the fund s spending t Rebecca Ballhaus Rebecca Ballhaus Rebecca Ballhaus Rebecca Ballhaus Rebecca Ballhaus',\n",
       "       'the week hit the brick wall commons won ’ t accept may ’ s deal won ’ t change leader eu won ’ t change may ’ s deal nothing plan b anyone Nick Robinson Nick Robinson Nick Robinson Nick Robinson Nick Robinson',\n",
       "       'have watched these of looking for body language of times have never seen anything as tense and angry as this t Laura Kuenssberg Laura Kuenssberg Laura Kuenssberg Laura Kuenssberg Laura Kuenssberg'],\n",
       "      dtype=object)"
      ]
     },
     "execution_count": 55,
     "metadata": {},
     "output_type": "execute_result"
    }
   ],
   "source": [
    "X[:5]"
   ]
  },
  {
   "cell_type": "code",
   "execution_count": 56,
   "metadata": {},
   "outputs": [
    {
     "data": {
      "text/plain": [
       "(27854,)"
      ]
     },
     "execution_count": 56,
     "metadata": {},
     "output_type": "execute_result"
    }
   ],
   "source": [
    "y.shape"
   ]
  },
  {
   "cell_type": "code",
   "execution_count": 57,
   "metadata": {},
   "outputs": [
    {
     "data": {
      "text/plain": [
       "array([0, 0, 0, 1, 0], dtype=int64)"
      ]
     },
     "execution_count": 57,
     "metadata": {},
     "output_type": "execute_result"
    }
   ],
   "source": [
    "y[:5]"
   ]
  },
  {
   "cell_type": "code",
   "execution_count": 58,
   "metadata": {},
   "outputs": [],
   "source": [
    "X_train, X_test, y_train, y_test = train_test_split(\n",
    "    X, y, test_size=0.33, random_state=42)"
   ]
  },
  {
   "cell_type": "code",
   "execution_count": 59,
   "metadata": {},
   "outputs": [
    {
     "data": {
      "text/plain": [
       "array(['a privately funded space probe while to land on the moon t Bloomberg Bloomberg Bloomberg Bloomberg Bloomberg',\n",
       "       'you can actually learn a lot from the on your hair t Business Insider Business Insider Business Insider Business Insider Business Insider',\n",
       "       'musk will make as many as this year the lower end of the range t Bloomberg Bloomberg Bloomberg Bloomberg Bloomberg',\n",
       "       ...,\n",
       "       'have we peak t economics technology t World Economic Forum World Economic Forum World Economic Forum World Economic Forum World Economic Forum',\n",
       "       'alcohol and coffee can dehydrate you on long t Business Insider Business Insider Business Insider Business Insider Business Insider',\n",
       "       'the last word at the by saying he to “ restore the soul of our nation ” he he also to unite the country and bring back the dignity of the middle class t t Bloomberg Bloomberg Bloomberg Bloomberg Bloomberg'],\n",
       "      dtype=object)"
      ]
     },
     "execution_count": 59,
     "metadata": {},
     "output_type": "execute_result"
    }
   ],
   "source": [
    "X_train"
   ]
  },
  {
   "cell_type": "code",
   "execution_count": 60,
   "metadata": {},
   "outputs": [
    {
     "data": {
      "text/plain": [
       "(18662,)"
      ]
     },
     "execution_count": 60,
     "metadata": {},
     "output_type": "execute_result"
    }
   ],
   "source": [
    "X_train.shape"
   ]
  },
  {
   "cell_type": "code",
   "execution_count": 61,
   "metadata": {},
   "outputs": [
    {
     "data": {
      "text/plain": [
       "array([1, 0, 1, 0, 0, 1, 1, 1, 0, 0, 0, 0, 0, 0, 1, 0, 1, 1, 1, 1, 1, 1,\n",
       "       0, 0, 1, 0, 1, 0, 1, 1, 0, 0, 1, 0, 0, 1, 1, 0, 0, 1, 0, 1, 0, 0,\n",
       "       1, 0, 1, 0, 0, 1, 1, 1, 0, 0, 1, 0, 1, 1, 1, 0, 0, 1, 1, 1, 1, 0,\n",
       "       1, 1, 0, 0, 1, 1, 0, 0, 1, 0, 1, 0, 0, 0, 0, 1, 0, 1, 0, 0, 1, 1,\n",
       "       0, 1, 1, 1, 0, 1, 0, 0, 0, 0, 1, 0], dtype=int64)"
      ]
     },
     "execution_count": 61,
     "metadata": {},
     "output_type": "execute_result"
    }
   ],
   "source": [
    "y_train[:100]"
   ]
  },
  {
   "cell_type": "code",
   "execution_count": 62,
   "metadata": {},
   "outputs": [
    {
     "name": "stdout",
     "output_type": "stream",
     "text": [
      "Samples per class (training): [ 7497 11165]\n"
     ]
    }
   ],
   "source": [
    "print(\"Samples per class (training): {}\".format(np.bincount(y_train)))"
   ]
  },
  {
   "cell_type": "code",
   "execution_count": 63,
   "metadata": {},
   "outputs": [
    {
     "name": "stdout",
     "output_type": "stream",
     "text": [
      "Number of documents in test data: 9192\n",
      "Samples per class (test): [3630 5562]\n"
     ]
    }
   ],
   "source": [
    "print(\"Number of documents in test data: {}\".format(len(X_test)))\n",
    "print(\"Samples per class (test): {}\".format(np.bincount(y_test)))"
   ]
  },
  {
   "cell_type": "code",
   "execution_count": 64,
   "metadata": {},
   "outputs": [
    {
     "data": {
      "text/plain": [
       "<matplotlib.axes._subplots.AxesSubplot at 0x16548f42e88>"
      ]
     },
     "execution_count": 64,
     "metadata": {},
     "output_type": "execute_result"
    },
    {
     "data": {
      "image/png": "[encoded data removed]",
      "text/plain": [
       "<Figure size 432x288 with 1 Axes>"
      ]
     },
     "metadata": {
      "needs_background": "light"
     },
     "output_type": "display_data"
    }
   ],
   "source": [
    "df_processed['label'].value_counts().plot(kind='bar')"
   ]
  },
  {
   "cell_type": "code",
   "execution_count": 65,
   "metadata": {},
   "outputs": [],
   "source": [
    "vect = CountVectorizer().fit(X_train)"
   ]
  },
  {
   "cell_type": "code",
   "execution_count": 66,
   "metadata": {},
   "outputs": [
    {
     "name": "stdout",
     "output_type": "stream",
     "text": [
      "Number of features: 10331\n",
      "First 20 features:\n",
      "['aaron', 'abandon', 'abandoned', 'abbey', 'abbreviation', 'abc', 'abdication', 'abduction', 'abelson', 'abigail', 'ability', 'ablan', 'able', 'abnormal', 'abnormally', 'aboard', 'abolish', 'abolition', 'aborted', 'abortion']\n",
      "Features 20010 to 20030:\n",
      "[]\n",
      "Every 2000th feature:\n",
      "['aaron', 'convoy', 'goose', 'needs', 'selling', 'warn']\n"
     ]
    }
   ],
   "source": [
    "feature_names = vect.get_feature_names()\n",
    "print(\"Number of features: {}\".format(len(feature_names)))\n",
    "print(\"First 20 features:\\n{}\".format(feature_names[:20]))\n",
    "print(\"Features 20010 to 20030:\\n{}\".format(feature_names[20010:20030]))\n",
    "print(\"Every 2000th feature:\\n{}\".format(feature_names[::2000]))"
   ]
  },
  {
   "cell_type": "code",
   "execution_count": 67,
   "metadata": {},
   "outputs": [
    {
     "name": "stdout",
     "output_type": "stream",
     "text": [
      "X_train:\n",
      "<18662x10331 sparse matrix of type '<class 'numpy.int64'>'\n",
      "\twith 250518 stored elements in Compressed Sparse Row format>\n"
     ]
    }
   ],
   "source": [
    "X_train_vect = vect.transform(X_train)\n",
    "print(\"X_train:\\n{}\".format(repr(X_train_vect)))"
   ]
  },
  {
   "cell_type": "code",
   "execution_count": 68,
   "metadata": {},
   "outputs": [
    {
     "name": "stdout",
     "output_type": "stream",
     "text": [
      "Mean cross-validation accuracy: 0.78\n"
     ]
    }
   ],
   "source": [
    "scores = cross_val_score(LogisticRegression(max_iter=5000), X_train_vect, y_train, cv=5)\n",
    "print(\"Mean cross-validation accuracy: {:.2f}\".format(np.mean(scores)))"
   ]
  },
  {
   "cell_type": "code",
   "execution_count": 69,
   "metadata": {},
   "outputs": [
    {
     "name": "stdout",
     "output_type": "stream",
     "text": [
      "Best cross-validation score: 0.78\n",
      "Best parameters:  {'C': 0.1}\n"
     ]
    }
   ],
   "source": [
    "param_grid = {'C': [0.001, 0.01, 0.1, 1, 10]}\n",
    "grid = GridSearchCV(LogisticRegression(max_iter=5000), param_grid, cv=5)\n",
    "grid.fit(X_train_vect, y_train)\n",
    "print(\"Best cross-validation score: {:.2f}\".format(grid.best_score_))\n",
    "print(\"Best parameters: \", grid.best_params_)"
   ]
  },
  {
   "cell_type": "code",
   "execution_count": 70,
   "metadata": {},
   "outputs": [
    {
     "name": "stdout",
     "output_type": "stream",
     "text": [
      "Test score: 0.79\n"
     ]
    }
   ],
   "source": [
    "X_test_vect = vect.transform(X_test)\n",
    "print(\"Test score: {:.2f}\".format(grid.score(X_test_vect, y_test)))"
   ]
  },
  {
   "cell_type": "markdown",
   "metadata": {},
   "source": [
    "#### Count Vectorizer: min_df=5"
   ]
  },
  {
   "cell_type": "code",
   "execution_count": 71,
   "metadata": {},
   "outputs": [
    {
     "name": "stdout",
     "output_type": "stream",
     "text": [
      "X_train with min_df: <18662x3948 sparse matrix of type '<class 'numpy.int64'>'\n",
      "\twith 239019 stored elements in Compressed Sparse Row format>\n"
     ]
    }
   ],
   "source": [
    "vect_min5 = CountVectorizer(min_df=5).fit(X_train)\n",
    "X_train_vect_min5 = vect_min5.transform(X_train)\n",
    "print(\"X_train with min_df: {}\".format(repr(X_train_vect_min5)))"
   ]
  },
  {
   "cell_type": "code",
   "execution_count": 72,
   "metadata": {},
   "outputs": [
    {
     "name": "stdout",
     "output_type": "stream",
     "text": [
      "First 50 features:\n",
      "['abandon', 'abandoned', 'abigail', 'ability', 'able', 'aboard', 'abortion', 'about', 'above', 'abramowicz', 'abroad', 'abruptly', 'absolute', 'absolutely', 'absorb', 'abu', 'abuse', 'academy', 'accept', 'acceptance', 'access', 'accident', 'accidentally', 'accomplish', 'accord', 'according', 'account', 'accountability', 'accountable', 'accounting', 'accused', 'achieve', 'acknowledge', 'acquire', 'acquisition', 'acre', 'across', 'act', 'acting', 'action', 'active', 'actively', 'activist', 'activity', 'actor', 'actress', 'actual', 'actually', 'ad', 'adam']\n",
      "Features 20010 to 20030:\n",
      "[]\n",
      "Every 700th feature:\n",
      "['abandon', 'commit', 'fleet', 'manila', 'regional', 'them']\n"
     ]
    }
   ],
   "source": [
    "feature_names_min5 = vect_min5.get_feature_names()\n",
    "\n",
    "print(\"First 50 features:\\n{}\".format(feature_names_min5[:50]))\n",
    "print(\"Features 20010 to 20030:\\n{}\".format(feature_names_min5[20010:20030]))\n",
    "print(\"Every 700th feature:\\n{}\".format(feature_names_min5[::700]))"
   ]
  },
  {
   "cell_type": "code",
   "execution_count": 73,
   "metadata": {},
   "outputs": [
    {
     "name": "stdout",
     "output_type": "stream",
     "text": [
      "Best cross-validation score: 0.78\n"
     ]
    }
   ],
   "source": [
    "grid = GridSearchCV(LogisticRegression(max_iter=5000), param_grid, cv=5)\n",
    "grid.fit(X_train_vect_min5, y_train)\n",
    "print(\"Best cross-validation score: {:.2f}\".format(grid.best_score_))"
   ]
  },
  {
   "cell_type": "markdown",
   "metadata": {},
   "source": [
    "### TF-IDF Vectorizer"
   ]
  },
  {
   "cell_type": "code",
   "execution_count": 74,
   "metadata": {},
   "outputs": [
    {
     "name": "stdout",
     "output_type": "stream",
     "text": [
      "Best cross-validation score: 0.78\n"
     ]
    }
   ],
   "source": [
    "pipe = make_pipeline(TfidfVectorizer(min_df=5, norm=None),\n",
    "                     LogisticRegression(max_iter=5000))\n",
    "param_grid = {'logisticregression__C': [0.001, 0.01, 0.1, 1, 10]}\n",
    "\n",
    "grid = GridSearchCV(pipe, param_grid, cv=5)\n",
    "grid.fit(X_train, y_train)\n",
    "print(\"Best cross-validation score: {:.2f}\".format(grid.best_score_))"
   ]
  },
  {
   "cell_type": "code",
   "execution_count": 75,
   "metadata": {},
   "outputs": [
    {
     "name": "stdout",
     "output_type": "stream",
     "text": [
      "Features with lowest tfidf:\n",
      "['via' 'according' 'even' 'know' 'industry' 'through' 'while' 'second'\n",
      " 'ever' 'record' 'north' 'without' 'real' 'stock' 'find' 'during' 'bill'\n",
      " 'key' 'major' 'central']\n",
      "Features with highest tfidf: \n",
      "['li' 'frier' 'anne' 'dan' 'davis' 'steve' 'linette' 'cars' 'lopez'\n",
      " 'caroline' 'griffin' 'pursuits' 'bryan' 'alex' 'rogers' 'riley' 'sarah'\n",
      " 'brian' 'forum' 'royal']\n"
     ]
    }
   ],
   "source": [
    "vectorizer = grid.best_estimator_.named_steps[\"tfidfvectorizer\"]\n",
    "# transform the training dataset:\n",
    "X_train_vect = vectorizer.transform(X_train)\n",
    "# find maximum value for each of the features over dataset:\n",
    "max_value = X_train_vect.max(axis=0).toarray().ravel()\n",
    "sorted_by_tfidf = max_value.argsort()\n",
    "# get feature names\n",
    "feature_names = np.array(vectorizer.get_feature_names())\n",
    "\n",
    "print(\"Features with lowest tfidf:\\n{}\".format(\n",
    "      feature_names[sorted_by_tfidf[:20]]))\n",
    "\n",
    "print(\"Features with highest tfidf: \\n{}\".format(\n",
    "      feature_names[sorted_by_tfidf[-20:]]))"
   ]
  },
  {
   "cell_type": "code",
   "execution_count": 76,
   "metadata": {},
   "outputs": [
    {
     "name": "stdout",
     "output_type": "stream",
     "text": [
      "Features with lowest idf:\n",
      "['the' 'bloomberg' 'to' 'insider' 'business' 'of' 'in' 'and' 'is' 'for'\n",
      " 'on' 'it' 'are' 'that' 'you' 'with' 'this' 'inc' 'at' 'from' 'trump' 'be'\n",
      " 'as' 'your' 'how' 'more' 'here' 'an' 'review' 'by' 'harvard' 'new' 'its'\n",
      " 'will' 'can' 'have' 'after' 'about' 'what' 'biz' 'but' 'china' 'his'\n",
      " 'than' 'their' 'just' 'world' 'these' 'one' 'he' 'people' 'if' 'they'\n",
      " 'up' 'via' 'why' 'was' 'over' 'not' 'out' 'year' 'million' 'most' 'may'\n",
      " 'billion' 'first' 'who' 'when' 'could' 'all' 'into' 'do' 'time' 'make'\n",
      " 'we' 'president' 'get' 'company' 'like' 're' 'trade' 'some' 'now' 'so'\n",
      " 'no' 'top' 'or' 'next' 'reuters' 'there' 'work' 'don' 'best' 'said' 'us'\n",
      " 'two' 'food' 'biggest' 'them' 'been']\n"
     ]
    }
   ],
   "source": [
    "sorted_by_idf = np.argsort(vectorizer.idf_)\n",
    "print(\"Features with lowest idf:\\n{}\".format(\n",
    "       feature_names[sorted_by_idf[:100]]))"
   ]
  },
  {
   "cell_type": "code",
   "execution_count": 77,
   "metadata": {},
   "outputs": [
    {
     "data": {
      "image/png": "[encoded data removed]",
      "text/plain": [
       "<Figure size 1080x360 with 1 Axes>"
      ]
     },
     "metadata": {
      "needs_background": "light"
     },
     "output_type": "display_data"
    }
   ],
   "source": [
    "mglearn.tools.visualize_coefficients(\n",
    "    grid.best_estimator_.named_steps[\"logisticregression\"].coef_,\n",
    "    feature_names, n_top_features=40)"
   ]
  },
  {
   "cell_type": "code",
   "execution_count": 78,
   "metadata": {},
   "outputs": [
    {
     "name": "stdout",
     "output_type": "stream",
     "text": [
      "Best cross-validation score: 0.78\n",
      "Best parameters:\n",
      "{'logisticregression__C': 1, 'tfidfvectorizer__ngram_range': (1, 1)}\n"
     ]
    }
   ],
   "source": [
    "pipe = make_pipeline(TfidfVectorizer(min_df=5), LogisticRegression(max_iter=5000))\n",
    "# running the grid-search takes a long time because of the\n",
    "# relatively large grid and the inclusion of trigrams\n",
    "# param_grid = {'logisticregression__C': [0.001, 0.01, 0.1, 1, 10, 100],\n",
    "#               \"tfidfvectorizer__ngram_range\": [(1, 1), (1, 2), (1, 3)]}\n",
    "\n",
    "param_grid = {'logisticregression__C': [0.1, 1, 10],\n",
    "              \"tfidfvectorizer__ngram_range\": [(1, 1), (1, 2)]}\n",
    "\n",
    "grid = GridSearchCV(pipe, param_grid, cv=5)\n",
    "grid.fit(X_train, y_train)\n",
    "print(\"Best cross-validation score: {:.2f}\".format(grid.best_score_))\n",
    "print(\"Best parameters:\\n{}\".format(grid.best_params_))"
   ]
  },
  {
   "cell_type": "code",
   "execution_count": 79,
   "metadata": {},
   "outputs": [
    {
     "data": {
      "text/plain": [
       "<matplotlib.colorbar.Colorbar at 0x16549385688>"
      ]
     },
     "execution_count": 79,
     "metadata": {},
     "output_type": "execute_result"
    },
    {
     "data": {
      "image/png": "[encoded data removed]",
      "text/plain": [
       "<Figure size 432x288 with 2 Axes>"
      ]
     },
     "metadata": {
      "needs_background": "light"
     },
     "output_type": "display_data"
    }
   ],
   "source": [
    "# extract scores from grid_search\n",
    "scores = grid.cv_results_['mean_test_score'].reshape(-1, 2).T\n",
    "# visualize heat map\n",
    "heatmap = mglearn.tools.heatmap(\n",
    "    scores, xlabel=\"C\", ylabel=\"ngram_range\", cmap=\"viridis\", fmt=\"%.3f\",\n",
    "    xticklabels=param_grid['logisticregression__C'],\n",
    "    yticklabels=param_grid['tfidfvectorizer__ngram_range'])\n",
    "plt.colorbar(heatmap)"
   ]
  },
  {
   "cell_type": "code",
   "execution_count": 80,
   "metadata": {},
   "outputs": [
    {
     "data": {
      "text/plain": [
       "(-22.0, 22.0)"
      ]
     },
     "execution_count": 80,
     "metadata": {},
     "output_type": "execute_result"
    },
    {
     "data": {
      "image/png": "[encoded data removed]",
      "text/plain": [
       "<Figure size 1080x360 with 1 Axes>"
      ]
     },
     "metadata": {
      "needs_background": "light"
     },
     "output_type": "display_data"
    }
   ],
   "source": [
    "# extract feature names and coefficients\n",
    "vect = grid.best_estimator_.named_steps['tfidfvectorizer']\n",
    "feature_names = np.array(vect.get_feature_names())\n",
    "coef = grid.best_estimator_.named_steps['logisticregression'].coef_\n",
    "mglearn.tools.visualize_coefficients(coef, feature_names, n_top_features=40)\n",
    "plt.ylim(-22, 22)"
   ]
  },
  {
   "cell_type": "code",
   "execution_count": 82,
   "metadata": {},
   "outputs": [
    {
     "name": "stdout",
     "output_type": "stream",
     "text": [
      "[[5807 1690]\n",
      " [1430 9735]]\n",
      "F-Measure: 0.862\n"
     ]
    }
   ],
   "source": [
    "y_pred = grid.best_estimator_.predict(X_train)\n",
    "print(confusion_matrix(y_train, y_pred))\n",
    "score_train = f1_score(y_train, y_pred, average = 'binary')\n",
    "print('F-Measure: %.3f' % score_train)"
   ]
  },
  {
   "cell_type": "code",
   "execution_count": 83,
   "metadata": {},
   "outputs": [
    {
     "name": "stdout",
     "output_type": "stream",
     "text": [
      "[[2614 1016]\n",
      " [ 900 4662]]\n",
      "F-Measure: 0.830\n"
     ]
    }
   ],
   "source": [
    "y_test_pred = grid.best_estimator_.predict(X_test)\n",
    "print(confusion_matrix(y_test, y_test_pred))\n",
    "score_test = f1_score(y_test, y_test_pred, average = 'binary')\n",
    "print('F-Measure: %.3f' % score_test)"
   ]
  },
  {
   "cell_type": "code",
   "execution_count": 84,
   "metadata": {},
   "outputs": [
    {
     "name": "stdout",
     "output_type": "stream",
     "text": [
      "              precision    recall  f1-score   support\n",
      "\n",
      "           0       0.74      0.72      0.73      3630\n",
      "           1       0.82      0.84      0.83      5562\n",
      "\n",
      "    accuracy                           0.79      9192\n",
      "   macro avg       0.78      0.78      0.78      9192\n",
      "weighted avg       0.79      0.79      0.79      9192\n",
      "\n"
     ]
    }
   ],
   "source": [
    "actual = y_test.tolist() \n",
    "predicted = y_test_pred \n",
    "print (classification_report(actual, predicted) )"
   ]
  },
  {
   "cell_type": "code",
   "execution_count": null,
   "metadata": {},
   "outputs": [],
   "source": []
  }
 ],
 "metadata": {
  "kernelspec": {
   "display_name": "Python 3",
   "language": "python",
   "name": "python3"
  },
  "language_info": {
   "codemirror_mode": {
    "name": "ipython",
    "version": 3
   },
   "file_extension": ".py",
   "mimetype": "text/x-python",
   "name": "python",
   "nbconvert_exporter": "python",
   "pygments_lexer": "ipython3",
   "version": "3.7.6"
  }
 },
 "nbformat": 4,
 "nbformat_minor": 4
}
