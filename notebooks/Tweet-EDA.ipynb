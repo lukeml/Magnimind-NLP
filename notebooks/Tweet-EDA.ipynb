{
 "cells": [
  {
   "cell_type": "code",
   "execution_count": 67,
   "metadata": {},
   "outputs": [],
   "source": [
    "import numpy as np\n",
    "import pandas as pd\n",
    "import matplotlib.pyplot as plt\n",
    "\n",
    "from sklearn.model_selection import train_test_split\n",
    "from sklearn.feature_extraction.text import CountVectorizer\n",
    "\n",
    "from sklearn.model_selection import cross_val_score\n",
    "from sklearn.linear_model import LogisticRegression\n",
    "\n",
    "from sklearn.model_selection import GridSearchCV"
   ]
  },
  {
   "cell_type": "code",
   "execution_count": 3,
   "metadata": {},
   "outputs": [],
   "source": [
    "df = pd.read_csv('data/tweet_data.csv')"
   ]
  },
  {
   "cell_type": "code",
   "execution_count": 4,
   "metadata": {},
   "outputs": [
    {
     "data": {
      "text/html": [
       "<div>\n",
       "<style scoped>\n",
       "    .dataframe tbody tr th:only-of-type {\n",
       "        vertical-align: middle;\n",
       "    }\n",
       "\n",
       "    .dataframe tbody tr th {\n",
       "        vertical-align: top;\n",
       "    }\n",
       "\n",
       "    .dataframe thead th {\n",
       "        text-align: right;\n",
       "    }\n",
       "</style>\n",
       "<table border=\"1\" class=\"dataframe\">\n",
       "  <thead>\n",
       "    <tr style=\"text-align: right;\">\n",
       "      <th></th>\n",
       "      <th>tweetID</th>\n",
       "      <th>crDate</th>\n",
       "      <th>edInput</th>\n",
       "      <th>editor</th>\n",
       "      <th>engages</th>\n",
       "      <th>isApproved</th>\n",
       "      <th>isEdNeed</th>\n",
       "      <th>isRT</th>\n",
       "      <th>likes</th>\n",
       "      <th>photoUrl</th>\n",
       "      <th>retweets</th>\n",
       "      <th>rtUsID</th>\n",
       "      <th>text</th>\n",
       "      <th>topicName</th>\n",
       "      <th>usFlwrs</th>\n",
       "      <th>usID</th>\n",
       "      <th>usName</th>\n",
       "      <th>videoUrl</th>\n",
       "    </tr>\n",
       "  </thead>\n",
       "  <tbody>\n",
       "    <tr>\n",
       "      <th>0</th>\n",
       "      <td>1070867471245164544</td>\n",
       "      <td>2018-12-07 02:27:55</td>\n",
       "      <td>-1</td>\n",
       "      <td>-1</td>\n",
       "      <td>98</td>\n",
       "      <td>False</td>\n",
       "      <td>True</td>\n",
       "      <td>False</td>\n",
       "      <td>64</td>\n",
       "      <td>https://pbs.twimg.com/media/Dtx8SiIWkAImVsb.jpg</td>\n",
       "      <td>34</td>\n",
       "      <td>-1</td>\n",
       "      <td>The immediate impulse for an alliance of the E...</td>\n",
       "      <td>Business</td>\n",
       "      <td>23464532</td>\n",
       "      <td>5988062</td>\n",
       "      <td>The Economist</td>\n",
       "      <td>NaN</td>\n",
       "    </tr>\n",
       "    <tr>\n",
       "      <th>1</th>\n",
       "      <td>1070868017888837633</td>\n",
       "      <td>2018-12-07 02:30:05</td>\n",
       "      <td>-1</td>\n",
       "      <td>-1</td>\n",
       "      <td>13</td>\n",
       "      <td>False</td>\n",
       "      <td>True</td>\n",
       "      <td>False</td>\n",
       "      <td>10</td>\n",
       "      <td>https://pbs.twimg.com/media/Dtx8yTyW4AEciqP.jpg</td>\n",
       "      <td>3</td>\n",
       "      <td>-1</td>\n",
       "      <td>America's economy is flashing some warning sig...</td>\n",
       "      <td>Business</td>\n",
       "      <td>1732809</td>\n",
       "      <td>16184358</td>\n",
       "      <td>CNN Business</td>\n",
       "      <td>NaN</td>\n",
       "    </tr>\n",
       "    <tr>\n",
       "      <th>2</th>\n",
       "      <td>1070868012864028673</td>\n",
       "      <td>2018-12-07 02:30:04</td>\n",
       "      <td>-1</td>\n",
       "      <td>-1</td>\n",
       "      <td>12</td>\n",
       "      <td>False</td>\n",
       "      <td>True</td>\n",
       "      <td>False</td>\n",
       "      <td>8</td>\n",
       "      <td>NaN</td>\n",
       "      <td>4</td>\n",
       "      <td>-1</td>\n",
       "      <td>Lyft files for what is expected to be one of t...</td>\n",
       "      <td>Business</td>\n",
       "      <td>2253989</td>\n",
       "      <td>25053299</td>\n",
       "      <td>FORTUNE</td>\n",
       "      <td>NaN</td>\n",
       "    </tr>\n",
       "    <tr>\n",
       "      <th>3</th>\n",
       "      <td>1070867995239555075</td>\n",
       "      <td>2018-12-07 02:30:00</td>\n",
       "      <td>-1</td>\n",
       "      <td>-1</td>\n",
       "      <td>5</td>\n",
       "      <td>False</td>\n",
       "      <td>True</td>\n",
       "      <td>False</td>\n",
       "      <td>4</td>\n",
       "      <td>NaN</td>\n",
       "      <td>1</td>\n",
       "      <td>-1</td>\n",
       "      <td>Exporters still waiting to get Rs 6,000 crore ...</td>\n",
       "      <td>Business</td>\n",
       "      <td>1704056</td>\n",
       "      <td>43855487</td>\n",
       "      <td>Business Standard</td>\n",
       "      <td>NaN</td>\n",
       "    </tr>\n",
       "    <tr>\n",
       "      <th>4</th>\n",
       "      <td>1070867995205885952</td>\n",
       "      <td>2018-12-07 02:30:00</td>\n",
       "      <td>-1</td>\n",
       "      <td>-1</td>\n",
       "      <td>5</td>\n",
       "      <td>False</td>\n",
       "      <td>True</td>\n",
       "      <td>False</td>\n",
       "      <td>2</td>\n",
       "      <td>NaN</td>\n",
       "      <td>3</td>\n",
       "      <td>-1</td>\n",
       "      <td>Ride-hailing firm Lyft races to leave Uber beh...</td>\n",
       "      <td>Business</td>\n",
       "      <td>1997662</td>\n",
       "      <td>15110357</td>\n",
       "      <td>Reuters Business</td>\n",
       "      <td>https://video.twimg.com/amplify_video/10708116...</td>\n",
       "    </tr>\n",
       "  </tbody>\n",
       "</table>\n",
       "</div>"
      ],
      "text/plain": [
       "               tweetID               crDate  edInput  editor  engages  \\\n",
       "0  1070867471245164544  2018-12-07 02:27:55       -1      -1       98   \n",
       "1  1070868017888837633  2018-12-07 02:30:05       -1      -1       13   \n",
       "2  1070868012864028673  2018-12-07 02:30:04       -1      -1       12   \n",
       "3  1070867995239555075  2018-12-07 02:30:00       -1      -1        5   \n",
       "4  1070867995205885952  2018-12-07 02:30:00       -1      -1        5   \n",
       "\n",
       "   isApproved  isEdNeed   isRT  likes  \\\n",
       "0       False      True  False     64   \n",
       "1       False      True  False     10   \n",
       "2       False      True  False      8   \n",
       "3       False      True  False      4   \n",
       "4       False      True  False      2   \n",
       "\n",
       "                                          photoUrl  retweets  rtUsID  \\\n",
       "0  https://pbs.twimg.com/media/Dtx8SiIWkAImVsb.jpg        34      -1   \n",
       "1  https://pbs.twimg.com/media/Dtx8yTyW4AEciqP.jpg         3      -1   \n",
       "2                                              NaN         4      -1   \n",
       "3                                              NaN         1      -1   \n",
       "4                                              NaN         3      -1   \n",
       "\n",
       "                                                text topicName   usFlwrs  \\\n",
       "0  The immediate impulse for an alliance of the E...  Business  23464532   \n",
       "1  America's economy is flashing some warning sig...  Business   1732809   \n",
       "2  Lyft files for what is expected to be one of t...  Business   2253989   \n",
       "3  Exporters still waiting to get Rs 6,000 crore ...  Business   1704056   \n",
       "4  Ride-hailing firm Lyft races to leave Uber beh...  Business   1997662   \n",
       "\n",
       "       usID             usName  \\\n",
       "0   5988062      The Economist   \n",
       "1  16184358       CNN Business   \n",
       "2  25053299            FORTUNE   \n",
       "3  43855487  Business Standard   \n",
       "4  15110357   Reuters Business   \n",
       "\n",
       "                                            videoUrl  \n",
       "0                                                NaN  \n",
       "1                                                NaN  \n",
       "2                                                NaN  \n",
       "3                                                NaN  \n",
       "4  https://video.twimg.com/amplify_video/10708116...  "
      ]
     },
     "execution_count": 4,
     "metadata": {},
     "output_type": "execute_result"
    }
   ],
   "source": [
    "df.head()"
   ]
  },
  {
   "cell_type": "code",
   "execution_count": 5,
   "metadata": {},
   "outputs": [
    {
     "name": "stdout",
     "output_type": "stream",
     "text": [
      "<class 'pandas.core.frame.DataFrame'>\n",
      "RangeIndex: 785916 entries, 0 to 785915\n",
      "Data columns (total 18 columns):\n",
      "tweetID       785916 non-null int64\n",
      "crDate        785916 non-null object\n",
      "edInput       785916 non-null int64\n",
      "editor        785916 non-null int64\n",
      "engages       785916 non-null int64\n",
      "isApproved    785916 non-null bool\n",
      "isEdNeed      785916 non-null bool\n",
      "isRT          785916 non-null bool\n",
      "likes         785916 non-null int64\n",
      "photoUrl      277896 non-null object\n",
      "retweets      785916 non-null int64\n",
      "rtUsID        785916 non-null int64\n",
      "text          785916 non-null object\n",
      "topicName     785916 non-null object\n",
      "usFlwrs       785916 non-null int64\n",
      "usID          785916 non-null int64\n",
      "usName        785916 non-null object\n",
      "videoUrl      140491 non-null object\n",
      "dtypes: bool(3), int64(9), object(6)\n",
      "memory usage: 92.2+ MB\n"
     ]
    }
   ],
   "source": [
    "df.info()"
   ]
  },
  {
   "cell_type": "code",
   "execution_count": 6,
   "metadata": {},
   "outputs": [
    {
     "data": {
      "text/html": [
       "<div>\n",
       "<style scoped>\n",
       "    .dataframe tbody tr th:only-of-type {\n",
       "        vertical-align: middle;\n",
       "    }\n",
       "\n",
       "    .dataframe tbody tr th {\n",
       "        vertical-align: top;\n",
       "    }\n",
       "\n",
       "    .dataframe thead th {\n",
       "        text-align: right;\n",
       "    }\n",
       "</style>\n",
       "<table border=\"1\" class=\"dataframe\">\n",
       "  <thead>\n",
       "    <tr style=\"text-align: right;\">\n",
       "      <th></th>\n",
       "      <th>tweetID</th>\n",
       "      <th>edInput</th>\n",
       "      <th>editor</th>\n",
       "      <th>engages</th>\n",
       "      <th>likes</th>\n",
       "      <th>retweets</th>\n",
       "      <th>rtUsID</th>\n",
       "      <th>usFlwrs</th>\n",
       "      <th>usID</th>\n",
       "    </tr>\n",
       "  </thead>\n",
       "  <tbody>\n",
       "    <tr>\n",
       "      <th>count</th>\n",
       "      <td>7.859160e+05</td>\n",
       "      <td>785916.000000</td>\n",
       "      <td>785916.000000</td>\n",
       "      <td>7.859160e+05</td>\n",
       "      <td>7.859160e+05</td>\n",
       "      <td>7.859160e+05</td>\n",
       "      <td>7.859160e+05</td>\n",
       "      <td>7.859160e+05</td>\n",
       "      <td>7.859160e+05</td>\n",
       "    </tr>\n",
       "    <tr>\n",
       "      <th>mean</th>\n",
       "      <td>1.115213e+18</td>\n",
       "      <td>0.206035</td>\n",
       "      <td>2311.963123</td>\n",
       "      <td>1.403637e+03</td>\n",
       "      <td>1.085909e+03</td>\n",
       "      <td>3.177282e+02</td>\n",
       "      <td>4.365098e+16</td>\n",
       "      <td>4.472701e+06</td>\n",
       "      <td>1.085276e+17</td>\n",
       "    </tr>\n",
       "    <tr>\n",
       "      <th>std</th>\n",
       "      <td>2.925292e+16</td>\n",
       "      <td>1.439867</td>\n",
       "      <td>2495.158883</td>\n",
       "      <td>1.665960e+04</td>\n",
       "      <td>1.293993e+04</td>\n",
       "      <td>4.053267e+03</td>\n",
       "      <td>1.894384e+17</td>\n",
       "      <td>9.149778e+06</td>\n",
       "      <td>3.010486e+17</td>\n",
       "    </tr>\n",
       "    <tr>\n",
       "      <th>min</th>\n",
       "      <td>5.354500e+04</td>\n",
       "      <td>-1.000000</td>\n",
       "      <td>-1.000000</td>\n",
       "      <td>0.000000e+00</td>\n",
       "      <td>0.000000e+00</td>\n",
       "      <td>0.000000e+00</td>\n",
       "      <td>-1.000000e+00</td>\n",
       "      <td>0.000000e+00</td>\n",
       "      <td>1.200000e+01</td>\n",
       "    </tr>\n",
       "    <tr>\n",
       "      <th>25%</th>\n",
       "      <td>1.095791e+18</td>\n",
       "      <td>-1.000000</td>\n",
       "      <td>-1.000000</td>\n",
       "      <td>2.300000e+01</td>\n",
       "      <td>1.600000e+01</td>\n",
       "      <td>6.000000e+00</td>\n",
       "      <td>-1.000000e+00</td>\n",
       "      <td>1.426280e+05</td>\n",
       "      <td>1.551377e+07</td>\n",
       "    </tr>\n",
       "    <tr>\n",
       "      <th>50%</th>\n",
       "      <td>1.116465e+18</td>\n",
       "      <td>-1.000000</td>\n",
       "      <td>-1.000000</td>\n",
       "      <td>6.400000e+01</td>\n",
       "      <td>4.500000e+01</td>\n",
       "      <td>1.800000e+01</td>\n",
       "      <td>-1.000000e+00</td>\n",
       "      <td>9.668265e+05</td>\n",
       "      <td>3.618422e+07</td>\n",
       "    </tr>\n",
       "    <tr>\n",
       "      <th>75%</th>\n",
       "      <td>1.137676e+18</td>\n",
       "      <td>1.000000</td>\n",
       "      <td>5003.000000</td>\n",
       "      <td>2.500000e+02</td>\n",
       "      <td>1.840000e+02</td>\n",
       "      <td>6.500000e+01</td>\n",
       "      <td>-1.000000e+00</td>\n",
       "      <td>3.603135e+06</td>\n",
       "      <td>9.545908e+08</td>\n",
       "    </tr>\n",
       "    <tr>\n",
       "      <th>max</th>\n",
       "      <td>1.154179e+18</td>\n",
       "      <td>4.000000</td>\n",
       "      <td>5101.000000</td>\n",
       "      <td>4.152927e+06</td>\n",
       "      <td>3.206434e+06</td>\n",
       "      <td>1.335638e+06</td>\n",
       "      <td>1.108957e+18</td>\n",
       "      <td>1.057384e+08</td>\n",
       "      <td>1.153467e+18</td>\n",
       "    </tr>\n",
       "  </tbody>\n",
       "</table>\n",
       "</div>"
      ],
      "text/plain": [
       "            tweetID        edInput         editor       engages         likes  \\\n",
       "count  7.859160e+05  785916.000000  785916.000000  7.859160e+05  7.859160e+05   \n",
       "mean   1.115213e+18       0.206035    2311.963123  1.403637e+03  1.085909e+03   \n",
       "std    2.925292e+16       1.439867    2495.158883  1.665960e+04  1.293993e+04   \n",
       "min    5.354500e+04      -1.000000      -1.000000  0.000000e+00  0.000000e+00   \n",
       "25%    1.095791e+18      -1.000000      -1.000000  2.300000e+01  1.600000e+01   \n",
       "50%    1.116465e+18      -1.000000      -1.000000  6.400000e+01  4.500000e+01   \n",
       "75%    1.137676e+18       1.000000    5003.000000  2.500000e+02  1.840000e+02   \n",
       "max    1.154179e+18       4.000000    5101.000000  4.152927e+06  3.206434e+06   \n",
       "\n",
       "           retweets        rtUsID       usFlwrs          usID  \n",
       "count  7.859160e+05  7.859160e+05  7.859160e+05  7.859160e+05  \n",
       "mean   3.177282e+02  4.365098e+16  4.472701e+06  1.085276e+17  \n",
       "std    4.053267e+03  1.894384e+17  9.149778e+06  3.010486e+17  \n",
       "min    0.000000e+00 -1.000000e+00  0.000000e+00  1.200000e+01  \n",
       "25%    6.000000e+00 -1.000000e+00  1.426280e+05  1.551377e+07  \n",
       "50%    1.800000e+01 -1.000000e+00  9.668265e+05  3.618422e+07  \n",
       "75%    6.500000e+01 -1.000000e+00  3.603135e+06  9.545908e+08  \n",
       "max    1.335638e+06  1.108957e+18  1.057384e+08  1.153467e+18  "
      ]
     },
     "execution_count": 6,
     "metadata": {},
     "output_type": "execute_result"
    }
   ],
   "source": [
    "df.describe()"
   ]
  },
  {
   "cell_type": "code",
   "execution_count": 7,
   "metadata": {},
   "outputs": [
    {
     "data": {
      "text/plain": [
       "Index(['tweetID', 'crDate', 'edInput', 'editor', 'engages', 'isApproved',\n",
       "       'isEdNeed', 'isRT', 'likes', 'photoUrl', 'retweets', 'rtUsID', 'text',\n",
       "       'topicName', 'usFlwrs', 'usID', 'usName', 'videoUrl'],\n",
       "      dtype='object')"
      ]
     },
     "execution_count": 7,
     "metadata": {},
     "output_type": "execute_result"
    }
   ],
   "source": [
    "df.columns"
   ]
  },
  {
   "cell_type": "code",
   "execution_count": 11,
   "metadata": {
    "scrolled": true
   },
   "outputs": [
    {
     "data": {
      "text/plain": [
       "array(['Business', 'Animal', 'Memes', 'Nature', 'Travel', 'Interesting',\n",
       "       'News', 'Fashion', 'Art', 'Personal Development', 'Motivational',\n",
       "       'DIY & Craft', 'Editorial Pics', 'Funny', 'Poem', 'World Leaders',\n",
       "       'Entrepreneurship', 'US News', 'Journalists', 'Flowers',\n",
       "       'Cryptocurrency', 'Photography', 'Design & Architecture',\n",
       "       'Fitness', 'Spirituality', 'Startup', 'Space', 'Technology',\n",
       "       'Digital Media & Internet', 'Psychology', 'Science', 'Basketball',\n",
       "       'Humor', 'Mindfulness', 'Medical', 'Informative', 'Love', 'Stocks',\n",
       "       'Nanotech', 'Biotech', 'science', 'Random'], dtype=object)"
      ]
     },
     "execution_count": 11,
     "metadata": {},
     "output_type": "execute_result"
    }
   ],
   "source": [
    "df['topicName'].unique()"
   ]
  },
  {
   "cell_type": "code",
   "execution_count": 15,
   "metadata": {},
   "outputs": [],
   "source": [
    "df['label'] = df['topicName'].apply(\n",
    "    lambda topic: 1 if topic == 'Nature' else 0)"
   ]
  },
  {
   "cell_type": "code",
   "execution_count": 16,
   "metadata": {},
   "outputs": [
    {
     "data": {
      "text/html": [
       "<div>\n",
       "<style scoped>\n",
       "    .dataframe tbody tr th:only-of-type {\n",
       "        vertical-align: middle;\n",
       "    }\n",
       "\n",
       "    .dataframe tbody tr th {\n",
       "        vertical-align: top;\n",
       "    }\n",
       "\n",
       "    .dataframe thead th {\n",
       "        text-align: right;\n",
       "    }\n",
       "</style>\n",
       "<table border=\"1\" class=\"dataframe\">\n",
       "  <thead>\n",
       "    <tr style=\"text-align: right;\">\n",
       "      <th></th>\n",
       "      <th>tweetID</th>\n",
       "      <th>crDate</th>\n",
       "      <th>edInput</th>\n",
       "      <th>editor</th>\n",
       "      <th>engages</th>\n",
       "      <th>isApproved</th>\n",
       "      <th>isEdNeed</th>\n",
       "      <th>isRT</th>\n",
       "      <th>likes</th>\n",
       "      <th>photoUrl</th>\n",
       "      <th>retweets</th>\n",
       "      <th>rtUsID</th>\n",
       "      <th>text</th>\n",
       "      <th>topicName</th>\n",
       "      <th>usFlwrs</th>\n",
       "      <th>usID</th>\n",
       "      <th>usName</th>\n",
       "      <th>videoUrl</th>\n",
       "      <th>label</th>\n",
       "    </tr>\n",
       "  </thead>\n",
       "  <tbody>\n",
       "    <tr>\n",
       "      <th>0</th>\n",
       "      <td>1070867471245164544</td>\n",
       "      <td>2018-12-07 02:27:55</td>\n",
       "      <td>-1</td>\n",
       "      <td>-1</td>\n",
       "      <td>98</td>\n",
       "      <td>False</td>\n",
       "      <td>True</td>\n",
       "      <td>False</td>\n",
       "      <td>64</td>\n",
       "      <td>https://pbs.twimg.com/media/Dtx8SiIWkAImVsb.jpg</td>\n",
       "      <td>34</td>\n",
       "      <td>-1</td>\n",
       "      <td>The immediate impulse for an alliance of the E...</td>\n",
       "      <td>Business</td>\n",
       "      <td>23464532</td>\n",
       "      <td>5988062</td>\n",
       "      <td>The Economist</td>\n",
       "      <td>NaN</td>\n",
       "      <td>0</td>\n",
       "    </tr>\n",
       "    <tr>\n",
       "      <th>1</th>\n",
       "      <td>1070868017888837633</td>\n",
       "      <td>2018-12-07 02:30:05</td>\n",
       "      <td>-1</td>\n",
       "      <td>-1</td>\n",
       "      <td>13</td>\n",
       "      <td>False</td>\n",
       "      <td>True</td>\n",
       "      <td>False</td>\n",
       "      <td>10</td>\n",
       "      <td>https://pbs.twimg.com/media/Dtx8yTyW4AEciqP.jpg</td>\n",
       "      <td>3</td>\n",
       "      <td>-1</td>\n",
       "      <td>America's economy is flashing some warning sig...</td>\n",
       "      <td>Business</td>\n",
       "      <td>1732809</td>\n",
       "      <td>16184358</td>\n",
       "      <td>CNN Business</td>\n",
       "      <td>NaN</td>\n",
       "      <td>0</td>\n",
       "    </tr>\n",
       "    <tr>\n",
       "      <th>2</th>\n",
       "      <td>1070868012864028673</td>\n",
       "      <td>2018-12-07 02:30:04</td>\n",
       "      <td>-1</td>\n",
       "      <td>-1</td>\n",
       "      <td>12</td>\n",
       "      <td>False</td>\n",
       "      <td>True</td>\n",
       "      <td>False</td>\n",
       "      <td>8</td>\n",
       "      <td>NaN</td>\n",
       "      <td>4</td>\n",
       "      <td>-1</td>\n",
       "      <td>Lyft files for what is expected to be one of t...</td>\n",
       "      <td>Business</td>\n",
       "      <td>2253989</td>\n",
       "      <td>25053299</td>\n",
       "      <td>FORTUNE</td>\n",
       "      <td>NaN</td>\n",
       "      <td>0</td>\n",
       "    </tr>\n",
       "    <tr>\n",
       "      <th>3</th>\n",
       "      <td>1070867995239555075</td>\n",
       "      <td>2018-12-07 02:30:00</td>\n",
       "      <td>-1</td>\n",
       "      <td>-1</td>\n",
       "      <td>5</td>\n",
       "      <td>False</td>\n",
       "      <td>True</td>\n",
       "      <td>False</td>\n",
       "      <td>4</td>\n",
       "      <td>NaN</td>\n",
       "      <td>1</td>\n",
       "      <td>-1</td>\n",
       "      <td>Exporters still waiting to get Rs 6,000 crore ...</td>\n",
       "      <td>Business</td>\n",
       "      <td>1704056</td>\n",
       "      <td>43855487</td>\n",
       "      <td>Business Standard</td>\n",
       "      <td>NaN</td>\n",
       "      <td>0</td>\n",
       "    </tr>\n",
       "    <tr>\n",
       "      <th>4</th>\n",
       "      <td>1070867995205885952</td>\n",
       "      <td>2018-12-07 02:30:00</td>\n",
       "      <td>-1</td>\n",
       "      <td>-1</td>\n",
       "      <td>5</td>\n",
       "      <td>False</td>\n",
       "      <td>True</td>\n",
       "      <td>False</td>\n",
       "      <td>2</td>\n",
       "      <td>NaN</td>\n",
       "      <td>3</td>\n",
       "      <td>-1</td>\n",
       "      <td>Ride-hailing firm Lyft races to leave Uber beh...</td>\n",
       "      <td>Business</td>\n",
       "      <td>1997662</td>\n",
       "      <td>15110357</td>\n",
       "      <td>Reuters Business</td>\n",
       "      <td>https://video.twimg.com/amplify_video/10708116...</td>\n",
       "      <td>0</td>\n",
       "    </tr>\n",
       "  </tbody>\n",
       "</table>\n",
       "</div>"
      ],
      "text/plain": [
       "               tweetID               crDate  edInput  editor  engages  \\\n",
       "0  1070867471245164544  2018-12-07 02:27:55       -1      -1       98   \n",
       "1  1070868017888837633  2018-12-07 02:30:05       -1      -1       13   \n",
       "2  1070868012864028673  2018-12-07 02:30:04       -1      -1       12   \n",
       "3  1070867995239555075  2018-12-07 02:30:00       -1      -1        5   \n",
       "4  1070867995205885952  2018-12-07 02:30:00       -1      -1        5   \n",
       "\n",
       "   isApproved  isEdNeed   isRT  likes  \\\n",
       "0       False      True  False     64   \n",
       "1       False      True  False     10   \n",
       "2       False      True  False      8   \n",
       "3       False      True  False      4   \n",
       "4       False      True  False      2   \n",
       "\n",
       "                                          photoUrl  retweets  rtUsID  \\\n",
       "0  https://pbs.twimg.com/media/Dtx8SiIWkAImVsb.jpg        34      -1   \n",
       "1  https://pbs.twimg.com/media/Dtx8yTyW4AEciqP.jpg         3      -1   \n",
       "2                                              NaN         4      -1   \n",
       "3                                              NaN         1      -1   \n",
       "4                                              NaN         3      -1   \n",
       "\n",
       "                                                text topicName   usFlwrs  \\\n",
       "0  The immediate impulse for an alliance of the E...  Business  23464532   \n",
       "1  America's economy is flashing some warning sig...  Business   1732809   \n",
       "2  Lyft files for what is expected to be one of t...  Business   2253989   \n",
       "3  Exporters still waiting to get Rs 6,000 crore ...  Business   1704056   \n",
       "4  Ride-hailing firm Lyft races to leave Uber beh...  Business   1997662   \n",
       "\n",
       "       usID             usName  \\\n",
       "0   5988062      The Economist   \n",
       "1  16184358       CNN Business   \n",
       "2  25053299            FORTUNE   \n",
       "3  43855487  Business Standard   \n",
       "4  15110357   Reuters Business   \n",
       "\n",
       "                                            videoUrl  label  \n",
       "0                                                NaN      0  \n",
       "1                                                NaN      0  \n",
       "2                                                NaN      0  \n",
       "3                                                NaN      0  \n",
       "4  https://video.twimg.com/amplify_video/10708116...      0  "
      ]
     },
     "execution_count": 16,
     "metadata": {},
     "output_type": "execute_result"
    }
   ],
   "source": [
    "df.head()"
   ]
  },
  {
   "cell_type": "code",
   "execution_count": 17,
   "metadata": {},
   "outputs": [
    {
     "data": {
      "text/html": [
       "<div>\n",
       "<style scoped>\n",
       "    .dataframe tbody tr th:only-of-type {\n",
       "        vertical-align: middle;\n",
       "    }\n",
       "\n",
       "    .dataframe tbody tr th {\n",
       "        vertical-align: top;\n",
       "    }\n",
       "\n",
       "    .dataframe thead th {\n",
       "        text-align: right;\n",
       "    }\n",
       "</style>\n",
       "<table border=\"1\" class=\"dataframe\">\n",
       "  <thead>\n",
       "    <tr style=\"text-align: right;\">\n",
       "      <th></th>\n",
       "      <th>tweetID</th>\n",
       "      <th>crDate</th>\n",
       "      <th>edInput</th>\n",
       "      <th>editor</th>\n",
       "      <th>engages</th>\n",
       "      <th>isApproved</th>\n",
       "      <th>isEdNeed</th>\n",
       "      <th>isRT</th>\n",
       "      <th>likes</th>\n",
       "      <th>photoUrl</th>\n",
       "      <th>retweets</th>\n",
       "      <th>rtUsID</th>\n",
       "      <th>text</th>\n",
       "      <th>topicName</th>\n",
       "      <th>usFlwrs</th>\n",
       "      <th>usID</th>\n",
       "      <th>usName</th>\n",
       "      <th>videoUrl</th>\n",
       "      <th>label</th>\n",
       "    </tr>\n",
       "  </thead>\n",
       "  <tbody>\n",
       "    <tr>\n",
       "      <th>44</th>\n",
       "      <td>1070875544202432514</td>\n",
       "      <td>2018-12-07 03:00:00</td>\n",
       "      <td>-1</td>\n",
       "      <td>-1</td>\n",
       "      <td>44</td>\n",
       "      <td>False</td>\n",
       "      <td>True</td>\n",
       "      <td>False</td>\n",
       "      <td>33</td>\n",
       "      <td>https://pbs.twimg.com/media/DtuIrMXWoAA5Wve.jpg</td>\n",
       "      <td>11</td>\n",
       "      <td>-1</td>\n",
       "      <td>Lack Lake, Rocky mountain national Park, Color...</td>\n",
       "      <td>Nature</td>\n",
       "      <td>67520</td>\n",
       "      <td>917084527440355329</td>\n",
       "      <td>Sara Walker</td>\n",
       "      <td>NaN</td>\n",
       "      <td>1</td>\n",
       "    </tr>\n",
       "    <tr>\n",
       "      <th>45</th>\n",
       "      <td>1070590403454349312</td>\n",
       "      <td>2018-12-06 08:06:57</td>\n",
       "      <td>-1</td>\n",
       "      <td>-1</td>\n",
       "      <td>88</td>\n",
       "      <td>False</td>\n",
       "      <td>True</td>\n",
       "      <td>True</td>\n",
       "      <td>77</td>\n",
       "      <td>NaN</td>\n",
       "      <td>11</td>\n",
       "      <td>2470325805</td>\n",
       "      <td>How Kinky Are You?\\n\\nhttps://t.co/J8I1HNeD5i</td>\n",
       "      <td>Nature</td>\n",
       "      <td>4255</td>\n",
       "      <td>4530305294</td>\n",
       "      <td>Akp</td>\n",
       "      <td>NaN</td>\n",
       "      <td>1</td>\n",
       "    </tr>\n",
       "    <tr>\n",
       "      <th>46</th>\n",
       "      <td>1070591387551318016</td>\n",
       "      <td>2018-12-06 08:10:52</td>\n",
       "      <td>-1</td>\n",
       "      <td>-1</td>\n",
       "      <td>59</td>\n",
       "      <td>False</td>\n",
       "      <td>True</td>\n",
       "      <td>True</td>\n",
       "      <td>50</td>\n",
       "      <td>NaN</td>\n",
       "      <td>9</td>\n",
       "      <td>2470325805</td>\n",
       "      <td>12 Sex Scenes with Actors Who Hated Each Other...</td>\n",
       "      <td>Nature</td>\n",
       "      <td>4255</td>\n",
       "      <td>4530305294</td>\n",
       "      <td>Akp</td>\n",
       "      <td>NaN</td>\n",
       "      <td>1</td>\n",
       "    </tr>\n",
       "    <tr>\n",
       "      <th>47</th>\n",
       "      <td>1060767872903917568</td>\n",
       "      <td>2018-11-09 05:35:43</td>\n",
       "      <td>-1</td>\n",
       "      <td>-1</td>\n",
       "      <td>1817</td>\n",
       "      <td>False</td>\n",
       "      <td>True</td>\n",
       "      <td>True</td>\n",
       "      <td>1489</td>\n",
       "      <td>https://pbs.twimg.com/media/Dcnhi_FXcAAQPXk.jpg</td>\n",
       "      <td>328</td>\n",
       "      <td>2470325805</td>\n",
       "      <td>have you ever seen anyone so happy to have jam...</td>\n",
       "      <td>Nature</td>\n",
       "      <td>141170</td>\n",
       "      <td>2718980845</td>\n",
       "      <td>ღ Girls Outfit ღ</td>\n",
       "      <td>NaN</td>\n",
       "      <td>1</td>\n",
       "    </tr>\n",
       "    <tr>\n",
       "      <th>105</th>\n",
       "      <td>1070880221241327616</td>\n",
       "      <td>2018-12-07 03:18:35</td>\n",
       "      <td>-1</td>\n",
       "      <td>-1</td>\n",
       "      <td>3113</td>\n",
       "      <td>False</td>\n",
       "      <td>True</td>\n",
       "      <td>False</td>\n",
       "      <td>2174</td>\n",
       "      <td>NaN</td>\n",
       "      <td>939</td>\n",
       "      <td>-1</td>\n",
       "      <td>Like something out of a fairy tale 🦌 https://t...</td>\n",
       "      <td>Nature</td>\n",
       "      <td>132013</td>\n",
       "      <td>920512279556304901</td>\n",
       "      <td>Beauty Nature</td>\n",
       "      <td>https://video.twimg.com/ext_tw_video/107088010...</td>\n",
       "      <td>1</td>\n",
       "    </tr>\n",
       "    <tr>\n",
       "      <th>...</th>\n",
       "      <td>...</td>\n",
       "      <td>...</td>\n",
       "      <td>...</td>\n",
       "      <td>...</td>\n",
       "      <td>...</td>\n",
       "      <td>...</td>\n",
       "      <td>...</td>\n",
       "      <td>...</td>\n",
       "      <td>...</td>\n",
       "      <td>...</td>\n",
       "      <td>...</td>\n",
       "      <td>...</td>\n",
       "      <td>...</td>\n",
       "      <td>...</td>\n",
       "      <td>...</td>\n",
       "      <td>...</td>\n",
       "      <td>...</td>\n",
       "      <td>...</td>\n",
       "      <td>...</td>\n",
       "    </tr>\n",
       "    <tr>\n",
       "      <th>785876</th>\n",
       "      <td>1154029794557931520</td>\n",
       "      <td>2019-07-24 14:05:18</td>\n",
       "      <td>-1</td>\n",
       "      <td>-1</td>\n",
       "      <td>68</td>\n",
       "      <td>False</td>\n",
       "      <td>True</td>\n",
       "      <td>True</td>\n",
       "      <td>42</td>\n",
       "      <td>NaN</td>\n",
       "      <td>26</td>\n",
       "      <td>345697781</td>\n",
       "      <td>\"Of cowboys, fish and pangolins\": How the US p...</td>\n",
       "      <td>Nature</td>\n",
       "      <td>6898</td>\n",
       "      <td>211177035</td>\n",
       "      <td>Rachel Nuwer</td>\n",
       "      <td>NaN</td>\n",
       "      <td>1</td>\n",
       "    </tr>\n",
       "    <tr>\n",
       "      <th>785884</th>\n",
       "      <td>1153356593196601344</td>\n",
       "      <td>2019-07-22 17:30:14</td>\n",
       "      <td>-1</td>\n",
       "      <td>-1</td>\n",
       "      <td>44</td>\n",
       "      <td>False</td>\n",
       "      <td>True</td>\n",
       "      <td>True</td>\n",
       "      <td>37</td>\n",
       "      <td>https://pbs.twimg.com/media/EAGLskxXsAAnBWd.jpg</td>\n",
       "      <td>7</td>\n",
       "      <td>2866476539</td>\n",
       "      <td>Over 100 Storm Petrels sighted from the outer ...</td>\n",
       "      <td>Nature</td>\n",
       "      <td>34</td>\n",
       "      <td>1145336761821880321</td>\n",
       "      <td>Will Smith</td>\n",
       "      <td>NaN</td>\n",
       "      <td>1</td>\n",
       "    </tr>\n",
       "    <tr>\n",
       "      <th>785885</th>\n",
       "      <td>1154104361053773825</td>\n",
       "      <td>2019-07-24 19:01:36</td>\n",
       "      <td>-1</td>\n",
       "      <td>-1</td>\n",
       "      <td>130</td>\n",
       "      <td>False</td>\n",
       "      <td>True</td>\n",
       "      <td>True</td>\n",
       "      <td>116</td>\n",
       "      <td>https://pbs.twimg.com/media/EAQzmI1XoAA0g8M.jpg</td>\n",
       "      <td>14</td>\n",
       "      <td>2866476539</td>\n",
       "      <td>Spotted Flycatcher chicks - 6 in the nest - pa...</td>\n",
       "      <td>Nature</td>\n",
       "      <td>1154</td>\n",
       "      <td>2168910512</td>\n",
       "      <td>Hilary Chambers</td>\n",
       "      <td>NaN</td>\n",
       "      <td>1</td>\n",
       "    </tr>\n",
       "    <tr>\n",
       "      <th>785894</th>\n",
       "      <td>1154045614746824707</td>\n",
       "      <td>2019-07-24 15:08:10</td>\n",
       "      <td>-1</td>\n",
       "      <td>-1</td>\n",
       "      <td>3930</td>\n",
       "      <td>False</td>\n",
       "      <td>True</td>\n",
       "      <td>True</td>\n",
       "      <td>3075</td>\n",
       "      <td>https://pbs.twimg.com/media/EAP-XNuU8AAnAve.jpg</td>\n",
       "      <td>855</td>\n",
       "      <td>933209086870437888</td>\n",
       "      <td>This 😍 https://t.co/LVxKNbK406</td>\n",
       "      <td>Nature</td>\n",
       "      <td>164463</td>\n",
       "      <td>2908344684</td>\n",
       "      <td>Couples Goals ღ</td>\n",
       "      <td>NaN</td>\n",
       "      <td>1</td>\n",
       "    </tr>\n",
       "    <tr>\n",
       "      <th>785895</th>\n",
       "      <td>1153018534353657856</td>\n",
       "      <td>2019-07-21 19:06:55</td>\n",
       "      <td>-1</td>\n",
       "      <td>-1</td>\n",
       "      <td>52</td>\n",
       "      <td>False</td>\n",
       "      <td>True</td>\n",
       "      <td>True</td>\n",
       "      <td>44</td>\n",
       "      <td>https://pbs.twimg.com/media/EABYPBVXkAEAT7j.jpg</td>\n",
       "      <td>8</td>\n",
       "      <td>2866476539</td>\n",
       "      <td>Harebells on a hillside overlooking Pontypool ...</td>\n",
       "      <td>Nature</td>\n",
       "      <td>19</td>\n",
       "      <td>1022313185032982529</td>\n",
       "      <td>Dave Roberts</td>\n",
       "      <td>NaN</td>\n",
       "      <td>1</td>\n",
       "    </tr>\n",
       "  </tbody>\n",
       "</table>\n",
       "<p>25021 rows × 19 columns</p>\n",
       "</div>"
      ],
      "text/plain": [
       "                    tweetID               crDate  edInput  editor  engages  \\\n",
       "44      1070875544202432514  2018-12-07 03:00:00       -1      -1       44   \n",
       "45      1070590403454349312  2018-12-06 08:06:57       -1      -1       88   \n",
       "46      1070591387551318016  2018-12-06 08:10:52       -1      -1       59   \n",
       "47      1060767872903917568  2018-11-09 05:35:43       -1      -1     1817   \n",
       "105     1070880221241327616  2018-12-07 03:18:35       -1      -1     3113   \n",
       "...                     ...                  ...      ...     ...      ...   \n",
       "785876  1154029794557931520  2019-07-24 14:05:18       -1      -1       68   \n",
       "785884  1153356593196601344  2019-07-22 17:30:14       -1      -1       44   \n",
       "785885  1154104361053773825  2019-07-24 19:01:36       -1      -1      130   \n",
       "785894  1154045614746824707  2019-07-24 15:08:10       -1      -1     3930   \n",
       "785895  1153018534353657856  2019-07-21 19:06:55       -1      -1       52   \n",
       "\n",
       "        isApproved  isEdNeed   isRT  likes  \\\n",
       "44           False      True  False     33   \n",
       "45           False      True   True     77   \n",
       "46           False      True   True     50   \n",
       "47           False      True   True   1489   \n",
       "105          False      True  False   2174   \n",
       "...            ...       ...    ...    ...   \n",
       "785876       False      True   True     42   \n",
       "785884       False      True   True     37   \n",
       "785885       False      True   True    116   \n",
       "785894       False      True   True   3075   \n",
       "785895       False      True   True     44   \n",
       "\n",
       "                                               photoUrl  retweets  \\\n",
       "44      https://pbs.twimg.com/media/DtuIrMXWoAA5Wve.jpg        11   \n",
       "45                                                  NaN        11   \n",
       "46                                                  NaN         9   \n",
       "47      https://pbs.twimg.com/media/Dcnhi_FXcAAQPXk.jpg       328   \n",
       "105                                                 NaN       939   \n",
       "...                                                 ...       ...   \n",
       "785876                                              NaN        26   \n",
       "785884  https://pbs.twimg.com/media/EAGLskxXsAAnBWd.jpg         7   \n",
       "785885  https://pbs.twimg.com/media/EAQzmI1XoAA0g8M.jpg        14   \n",
       "785894  https://pbs.twimg.com/media/EAP-XNuU8AAnAve.jpg       855   \n",
       "785895  https://pbs.twimg.com/media/EABYPBVXkAEAT7j.jpg         8   \n",
       "\n",
       "                    rtUsID                                               text  \\\n",
       "44                      -1  Lack Lake, Rocky mountain national Park, Color...   \n",
       "45              2470325805      How Kinky Are You?\\n\\nhttps://t.co/J8I1HNeD5i   \n",
       "46              2470325805  12 Sex Scenes with Actors Who Hated Each Other...   \n",
       "47              2470325805  have you ever seen anyone so happy to have jam...   \n",
       "105                     -1  Like something out of a fairy tale 🦌 https://t...   \n",
       "...                    ...                                                ...   \n",
       "785876           345697781  \"Of cowboys, fish and pangolins\": How the US p...   \n",
       "785884          2866476539  Over 100 Storm Petrels sighted from the outer ...   \n",
       "785885          2866476539  Spotted Flycatcher chicks - 6 in the nest - pa...   \n",
       "785894  933209086870437888                     This 😍 https://t.co/LVxKNbK406   \n",
       "785895          2866476539  Harebells on a hillside overlooking Pontypool ...   \n",
       "\n",
       "       topicName  usFlwrs                 usID            usName  \\\n",
       "44        Nature    67520   917084527440355329       Sara Walker   \n",
       "45        Nature     4255           4530305294               Akp   \n",
       "46        Nature     4255           4530305294               Akp   \n",
       "47        Nature   141170           2718980845  ღ Girls Outfit ღ   \n",
       "105       Nature   132013   920512279556304901     Beauty Nature   \n",
       "...          ...      ...                  ...               ...   \n",
       "785876    Nature     6898            211177035      Rachel Nuwer   \n",
       "785884    Nature       34  1145336761821880321        Will Smith   \n",
       "785885    Nature     1154           2168910512   Hilary Chambers   \n",
       "785894    Nature   164463           2908344684   Couples Goals ღ   \n",
       "785895    Nature       19  1022313185032982529      Dave Roberts   \n",
       "\n",
       "                                                 videoUrl  label  \n",
       "44                                                    NaN      1  \n",
       "45                                                    NaN      1  \n",
       "46                                                    NaN      1  \n",
       "47                                                    NaN      1  \n",
       "105     https://video.twimg.com/ext_tw_video/107088010...      1  \n",
       "...                                                   ...    ...  \n",
       "785876                                                NaN      1  \n",
       "785884                                                NaN      1  \n",
       "785885                                                NaN      1  \n",
       "785894                                                NaN      1  \n",
       "785895                                                NaN      1  \n",
       "\n",
       "[25021 rows x 19 columns]"
      ]
     },
     "execution_count": 17,
     "metadata": {},
     "output_type": "execute_result"
    }
   ],
   "source": [
    "df[df['topicName']=='Nature']"
   ]
  },
  {
   "cell_type": "code",
   "execution_count": 28,
   "metadata": {},
   "outputs": [],
   "source": [
    "df_tweet_label = df[['text', 'label']]"
   ]
  },
  {
   "cell_type": "code",
   "execution_count": 29,
   "metadata": {},
   "outputs": [
    {
     "data": {
      "text/html": [
       "<div>\n",
       "<style scoped>\n",
       "    .dataframe tbody tr th:only-of-type {\n",
       "        vertical-align: middle;\n",
       "    }\n",
       "\n",
       "    .dataframe tbody tr th {\n",
       "        vertical-align: top;\n",
       "    }\n",
       "\n",
       "    .dataframe thead th {\n",
       "        text-align: right;\n",
       "    }\n",
       "</style>\n",
       "<table border=\"1\" class=\"dataframe\">\n",
       "  <thead>\n",
       "    <tr style=\"text-align: right;\">\n",
       "      <th></th>\n",
       "      <th>text</th>\n",
       "      <th>label</th>\n",
       "    </tr>\n",
       "  </thead>\n",
       "  <tbody>\n",
       "    <tr>\n",
       "      <th>0</th>\n",
       "      <td>The immediate impulse for an alliance of the E...</td>\n",
       "      <td>0</td>\n",
       "    </tr>\n",
       "    <tr>\n",
       "      <th>1</th>\n",
       "      <td>America's economy is flashing some warning sig...</td>\n",
       "      <td>0</td>\n",
       "    </tr>\n",
       "    <tr>\n",
       "      <th>2</th>\n",
       "      <td>Lyft files for what is expected to be one of t...</td>\n",
       "      <td>0</td>\n",
       "    </tr>\n",
       "    <tr>\n",
       "      <th>3</th>\n",
       "      <td>Exporters still waiting to get Rs 6,000 crore ...</td>\n",
       "      <td>0</td>\n",
       "    </tr>\n",
       "    <tr>\n",
       "      <th>4</th>\n",
       "      <td>Ride-hailing firm Lyft races to leave Uber beh...</td>\n",
       "      <td>0</td>\n",
       "    </tr>\n",
       "  </tbody>\n",
       "</table>\n",
       "</div>"
      ],
      "text/plain": [
       "                                                text  label\n",
       "0  The immediate impulse for an alliance of the E...      0\n",
       "1  America's economy is flashing some warning sig...      0\n",
       "2  Lyft files for what is expected to be one of t...      0\n",
       "3  Exporters still waiting to get Rs 6,000 crore ...      0\n",
       "4  Ride-hailing firm Lyft races to leave Uber beh...      0"
      ]
     },
     "execution_count": 29,
     "metadata": {},
     "output_type": "execute_result"
    }
   ],
   "source": [
    "df_tweet_label.head()"
   ]
  },
  {
   "cell_type": "code",
   "execution_count": 44,
   "metadata": {},
   "outputs": [],
   "source": [
    "X = df_tweet_label['text'].to_numpy()\n",
    "y = df_tweet_label['label'].to_numpy()"
   ]
  },
  {
   "cell_type": "code",
   "execution_count": 52,
   "metadata": {},
   "outputs": [
    {
     "data": {
      "text/plain": [
       "(785916,)"
      ]
     },
     "execution_count": 52,
     "metadata": {},
     "output_type": "execute_result"
    }
   ],
   "source": [
    "X.shape"
   ]
  },
  {
   "cell_type": "code",
   "execution_count": 54,
   "metadata": {},
   "outputs": [
    {
     "data": {
      "text/plain": [
       "array([\"The immediate impulse for an alliance of the EU's northern states is Brexit https://t.co/nlhUD36hay https://t.co/shwMWpjjuK\",\n",
       "       \"America's economy is flashing some warning signs, but -- for now -- the labor market appears to be going strong https://t.co/xvCPgtqMzy https://t.co/0sQdzAsME3\",\n",
       "       'Lyft files for what is expected to be one of the hottest IPOs in 2019 https://t.co/qEjyniazlD',\n",
       "       'Exporters still waiting to get Rs 6,000 crore worth of input tax credit refunds\\n\\nMany being denied tax refunds by state governments, such as Andhra Pradesh, Uttar Pradesh, Bihar and Chhattisgarh, who say they are cash starved\\n\\n@Subhayan_ism @GST_Council\\n\\nhttps://t.co/QRBg8b98Rr',\n",
       "       'Ride-hailing firm Lyft races to leave Uber behind in IPO chase https://t.co/0qCsdx2LYS https://t.co/gHZLUntYkL'],\n",
       "      dtype=object)"
      ]
     },
     "execution_count": 54,
     "metadata": {},
     "output_type": "execute_result"
    }
   ],
   "source": [
    "X[:5]"
   ]
  },
  {
   "cell_type": "code",
   "execution_count": 53,
   "metadata": {},
   "outputs": [
    {
     "data": {
      "text/plain": [
       "(785916,)"
      ]
     },
     "execution_count": 53,
     "metadata": {},
     "output_type": "execute_result"
    }
   ],
   "source": [
    "y.shape"
   ]
  },
  {
   "cell_type": "code",
   "execution_count": 55,
   "metadata": {},
   "outputs": [
    {
     "data": {
      "text/plain": [
       "array([0, 0, 0, 0, 0], dtype=int64)"
      ]
     },
     "execution_count": 55,
     "metadata": {},
     "output_type": "execute_result"
    }
   ],
   "source": [
    "y[:5]"
   ]
  },
  {
   "cell_type": "code",
   "execution_count": 45,
   "metadata": {},
   "outputs": [],
   "source": [
    "X_train, X_test, y_train, y_test = train_test_split(\n",
    "    X, y, test_size=0.33, random_state=42)"
   ]
  },
  {
   "cell_type": "code",
   "execution_count": 46,
   "metadata": {},
   "outputs": [
    {
     "data": {
      "text/plain": [
       "array(['Make this twist on the McGriddle for an easy keto-friendly breakfast. https://t.co/cvb9ty5TJb',\n",
       "       'Apple, Amazon called out for not referring to Hong Kong and Taiwan as part of China https://t.co/sACzqD0gln by @YimouLee @horwitzjosh $AAPL $AMZN https://t.co/7Px3JptwGf',\n",
       "       'Feed the areas of your life you want to grow. Starve the parts that need to go. #quote https://t.co/NfigNMZlBX',\n",
       "       ...,\n",
       "       'Today, @dog_rates gave their 8th 15/10. Look back at all the other puppers who won the same rating. https://t.co/yUQFd0yF9u',\n",
       "       'Begin at the beginning and go on till you come to the end: then stop. - Lewis Carroll #quote https://t.co/Tx3yFgDSLQ',\n",
       "       'Victims of mass shootings at Emanuel AME Church and New Light Congregation of the Tree of Life worshipped together Friday and Sunday in Charleston https://t.co/1fp7o3byvR'],\n",
       "      dtype=object)"
      ]
     },
     "execution_count": 46,
     "metadata": {},
     "output_type": "execute_result"
    }
   ],
   "source": [
    "X_train"
   ]
  },
  {
   "cell_type": "code",
   "execution_count": 49,
   "metadata": {},
   "outputs": [
    {
     "data": {
      "text/plain": [
       "(526563,)"
      ]
     },
     "execution_count": 49,
     "metadata": {},
     "output_type": "execute_result"
    }
   ],
   "source": [
    "X_train.shape"
   ]
  },
  {
   "cell_type": "code",
   "execution_count": 47,
   "metadata": {},
   "outputs": [
    {
     "data": {
      "text/plain": [
       "numpy.ndarray"
      ]
     },
     "execution_count": 47,
     "metadata": {},
     "output_type": "execute_result"
    }
   ],
   "source": [
    "type(X_train)"
   ]
  },
  {
   "cell_type": "code",
   "execution_count": 48,
   "metadata": {},
   "outputs": [
    {
     "data": {
      "text/plain": [
       "array([0, 0, 0, ..., 0, 0, 0], dtype=int64)"
      ]
     },
     "execution_count": 48,
     "metadata": {},
     "output_type": "execute_result"
    }
   ],
   "source": [
    "y_train"
   ]
  },
  {
   "cell_type": "code",
   "execution_count": 56,
   "metadata": {},
   "outputs": [
    {
     "data": {
      "text/plain": [
       "array([0, 0, 0, 0, 0, 0, 0, 0, 0, 0, 0, 0, 0, 0, 0, 0, 0, 0, 1, 0, 0, 0,\n",
       "       0, 0, 0, 0, 0, 0, 0, 0, 0, 0, 0, 0, 0, 0, 0, 0, 0, 0, 0, 0, 0, 0,\n",
       "       0, 0, 0, 0, 0, 0, 0, 0, 0, 0, 0, 0, 0, 1, 0, 0, 0, 0, 0, 0, 0, 0,\n",
       "       0, 0, 0, 0, 0, 0, 0, 0, 0, 0, 0, 0, 0, 0, 0, 0, 0, 0, 0, 0, 0, 0,\n",
       "       1, 0, 0, 0, 0, 0, 0, 0, 0, 0, 0, 0], dtype=int64)"
      ]
     },
     "execution_count": 56,
     "metadata": {},
     "output_type": "execute_result"
    }
   ],
   "source": [
    "y_train[:100]"
   ]
  },
  {
   "cell_type": "code",
   "execution_count": 57,
   "metadata": {},
   "outputs": [
    {
     "data": {
      "text/plain": [
       "array([0, 1], dtype=int64)"
      ]
     },
     "execution_count": 57,
     "metadata": {},
     "output_type": "execute_result"
    }
   ],
   "source": [
    "np.unique(y_train)"
   ]
  },
  {
   "cell_type": "code",
   "execution_count": 58,
   "metadata": {},
   "outputs": [
    {
     "name": "stdout",
     "output_type": "stream",
     "text": [
      "Samples per class (training): [509922  16641]\n"
     ]
    }
   ],
   "source": [
    "print(\"Samples per class (training): {}\".format(np.bincount(y_train)))"
   ]
  },
  {
   "cell_type": "code",
   "execution_count": 59,
   "metadata": {},
   "outputs": [
    {
     "name": "stdout",
     "output_type": "stream",
     "text": [
      "Number of documents in test data: 259353\n",
      "Samples per class (test): [250973   8380]\n"
     ]
    }
   ],
   "source": [
    "print(\"Number of documents in test data: {}\".format(len(X_test)))\n",
    "print(\"Samples per class (test): {}\".format(np.bincount(y_test)))"
   ]
  },
  {
   "cell_type": "code",
   "execution_count": 61,
   "metadata": {},
   "outputs": [],
   "source": [
    "vect = CountVectorizer().fit(X_train)"
   ]
  },
  {
   "cell_type": "code",
   "execution_count": 63,
   "metadata": {},
   "outputs": [
    {
     "data": {
      "text/plain": [
       "CountVectorizer(analyzer='word', binary=False, decode_error='strict',\n",
       "                dtype=<class 'numpy.int64'>, encoding='utf-8', input='content',\n",
       "                lowercase=True, max_df=1.0, max_features=None, min_df=1,\n",
       "                ngram_range=(1, 1), preprocessor=None, stop_words=None,\n",
       "                strip_accents=None, token_pattern='(?u)\\\\b\\\\w\\\\w+\\\\b',\n",
       "                tokenizer=None, vocabulary=None)"
      ]
     },
     "execution_count": 63,
     "metadata": {},
     "output_type": "execute_result"
    }
   ],
   "source": [
    "vect"
   ]
  },
  {
   "cell_type": "code",
   "execution_count": 64,
   "metadata": {},
   "outputs": [
    {
     "name": "stdout",
     "output_type": "stream",
     "text": [
      "Number of features: 696101\n",
      "First 20 features:\n",
      "['00', '000', '0000', '000000', '00000001', '00000007', '00000100', '00000158', '00000175', '00000192', '000003020', '00000311', '00005', '000066', '0001', '00011816', '000135', '00025', '0004', '0005800']\n",
      "Features 20010 to 20030:\n",
      "['244th', '244vnxjd9y', '244z4ou90r', '245', '2450', '2451il2hk3', '2457', '245b', '245iiazksb', '245xrsicsz', '245ynnduhd', '246', '2460', '24604wcwq1', '246erb7epr', '246fcsmjh2', '246ot4lmnh', '246zmnyqpj', '247', '2474']\n",
      "Every 2000th feature:\n",
      "['00', '0b4kumsv4r', '0ijvamegl8', '0pw9cleigk', '0wxgsxkeq7', '13obcgrcuy', '1auj6bgxxs', '1hu8u6lhqc', '1ozyphxot6', '1wahlyd5k5', '243gptcphr', '2db0stpcmg', '2kb52ul57y', '2qyi79tthz', '2y2fhkybuc', '37mb8vtdxo', '3fah7midyz', '3mfvclfjdc', '3tfpsxisaz', '40ddmfoa5a', '4b2n2jpajv', '4i4oprod0b', '4p9x4nis0r', '4wkcninuup', '556vqbskqq', '5e0djlyk1k', '5lbkkifdfo', '5s63hgojpg', '5z8ispae3o', '69znlz6yv6', '6gur1roeln', '6nqukmnkfh', '6urmc74blp', '733', '7czajzwclx', '7k21drsbuq', '7qxzwcblzk', '7yedevcjfi', '8985x6653', '8gkwyileqy', '8nkdjc7u6o', '8ugpl3djin', '92fcke1vc3', '9cvygzkxfm', '9k1s6cxvpq', '9qvf1wma4q', '9y9ocygyut', 'a45wbvesum', 'aal0k0pdcy', 'acmpme5amm', 'aer3b7smrd', 'ahehlsqpju', 'ak20wnez8t', 'alo65fwsjw', 'anctpubx0m', 'aosa7mslx0', 'archeologist', 'ashleigh', 'aude', 'awpk16yziy', 'azv5ywk7zd', 'b6src7i11r', 'banana', 'bbzlovzxfg', 'begum', 'bfulk62db3', 'billmurphjr', 'bkrefgvc2s', 'bmqtoup61t', 'borderlands', 'brainstation', 'bsdoh8iuio', 'buren', 'bxk4tvcfac', 'c1lsclxuja', 'c8mfstcuch', 'carabo', 'cc34pmtu86', 'cetinkaya', 'chat', 'ciatj2wnne', 'ckyv99gfhc', 'cmztdvcnfy', 'commissioners', 'cosed', 'craftivism', 'cslumyujkr', 'cva', 'cyk1bqp1sr', 'd3n986grom', 'dadtboston', 'dbkbgsmfrb', 'dechfwnkil', 'detv4cosmz', 'dhsgov', 'diuv7ap3kh', 'dm4fnvxekx', 'donnydeutsch', 'drags', 'dtorj2bn4t', 'dwellspire', 'dzrlgkxxnq', 'e6d6cvxpul', 'ebang', 'edwisemanesq', 'eh8knk019x', 'ekjnbdh5kk', 'emjlkwcopg', 'eoihot0o5p', 'erimegsmom', 'etyepujxcd', 'ewub7s5nya', 'eyyc2xtxlz', 'f4zeqrkvpu', 'fakeimage', 'fcttuqmnpi', 'fffkbyiozx', 'filipina', 'fkyg88rfpf', 'fnd0mkjamw', 'fpdwuss906', 'frlbbozuen', 'fujimoto', 'fxdk4b0lu6', 'g1hwb4hpkc', 'g8fby5l4u0', 'gb3czl2enx', 'gekbfgpcu0', 'ggxkbqwmk8', 'gjikhmxi6i', 'gm5ffk5cqg', 'googly', 'grainstack', 'gsx0mrm57q', 'gvl8px3zt6', 'gyx77it4ps', 'h4pihrighg', 'hails', 'hbavi4p02b', 'heaxj58ngd', 'hg7vwbs4xy', 'historically', 'hm9arruxun', 'hongfei', 'hqui0ptlqn', 'huaweimate20pro', 'hwqb11llu0', 'hzvomem4ca', 'i6wbeh1gyb', 'ibrgfopvjv', 'iesf1qofbm', 'ihyxvggljr', 'ilco0krtrb', 'incorrectly', 'invader', 'iqubqmamiq', 'itihouh0ly', 'iwncawfgfs', 'j05cle62qo', 'j7ejif94iq', 'jato_dynamics', 'jdvh5krjxs', 'jgbq1pmrur', 'jjdfcuunbv', 'jmq2urujwu', 'jovsme28zz', 'jsbjp2o4fk', 'juviixmnq0', 'jykeldfwd0', 'k3ytiyq09h', 'kag8ufymal', 'kcd1npbqpv', 'kevin_clements', 'khwhrp0cje', 'kkcly8ks8c', 'kni4e3atjl', 'kpzahbizwg', 'kt4cewueaf', 'kw6iffdyya', 'kziocsbdbr', 'l5pnrlziqp', 'lan', 'lciwcililh', 'leq0azyjj6', 'lhngekkjby', 'lizarraga', 'lmaputi4me', 'loot10', 'lraxltjcae', 'lud8oduniq', 'lx2gkbsczr', 'm0mergoyuz', 'm7otabqd9e', 'malfunctions', 'matchups', 'mcosmw3i4n', 'menjktrmzf', 'mgyifpd77n', 'mingle', 'mkszplajeb', 'mo7jmcooqz', 'motp5q6ssi', 'mrs5be00ol', 'multilayered', 'mx26mxo8zy', 'n07xnpwogq', 'n7g6hyspv0', 'nationalcreativityday', 'ndc', 'nf5xo3mlzb', 'nickcavefeat', 'nktkamsts9', 'nobleman', 'nqcvrondw2', 'ntp7fvwvsk', 'nwvfnidz64', 'o02rjavxix', 'o7c7yubmfp', 'obstfeld', 'oeyv286vey', 'oi1xpvm0ph', 'oldmaster', 'onyjwas5c3', 'oqvxzn1aui', 'othuikdayq', 'ovnvtdshyp', 'oythz9kxhd', 'p4mn4imckq', 'paige_ai', 'pb6rpecnyr', 'pedro', 'pfvu2iqmyf', 'pickleball', 'pkiyynioe4', 'pmubacuxqr', 'possess', 'predominantly', 'pskj8dhrf8', 'puu0bob6dd', 'pyg1x0atpi', 'q3dswb5xxo', 'qachjqlnli', 'qdtdxrupms', 'qhevhaog00', 'qkvmccitxn', 'qogdxs3oha', 'qruw8acvyj', 'qurirzkjbd', 'qyezsl9uiw', 'r3rnpr7ilc', 'rachel__nichols', 'rbt6kigs7y', 'recoawjtfz', 'reqbd9sgeg', 'rgqgbqz5b7', 'riverlands', 'rmbkftmm8t', 'romans', 'rqvoegzbcp', 'ru6qm5iaqo', 'rwyqe2azu1', 's0jhofhuly', 's7jwvix0gi', 'sandys', 'scendi', 'sea', 'sfcn0kfurg', 'shhvum4ex5', 'simulateur', 'skyrmions', 'sn30', 'sosjghfdww', 'spv86bdyhe', 'st8xzfqzkq', 'stranger', 'superheroic', 'swoons', 'szumiaqiap', 't6pbqrhe2z', 'tariffs', 'tdmllmauus', 'tf704teehj', 'thenks', 'timeshares', 'tljy1rqr98', 'tolsc9kaba', 'tqnrytialo', 'truisms', 'tunnelled', 'txeikije0d', 'u18jfgnkm3', 'u8k58pwfcs', 'uctccsmyh4', 'ugbccpihgz', 'ujsq6xmgi6', 'umvq2fsi9o', 'unzo5xrrbp', 'uray2pobv9', 'utylsg1a1r', 'uxl08wgux8', 'v2ekqiuqps', 'v9nalv1vuy', 'vceh97w2yo', 'veuc8wpxkv', 'vibravid', 'vke5x001mn', 'vns2kpfe5l', 'vqt2ihsp58', 'vudi73gfpi', 'vxr9nhdbsa', 'w2ifbixgte', 'w9nbneqb3s', 'wbnm3mxcr1', 'wehner', 'wha44vqkd0', 'winnipeg', 'wln9j3jdvp', 'woodhouse', 'wrcwr8y1xk', 'wuho', 'wxwnlp3trv', 'x2o9nwkrtk', 'x9ez6eyd0f', 'xdaupksm9r', 'xgtjcmbrtk', 'xka71exe8k', 'xnqy0ry9qh', 'xrekfeuj4b', 'xupa5rpugb', 'xy9tgqo9tk', 'y33bqy0ik2', 'ya4mq0asyu', 'yd67ujelml', 'ygbklncyyq', 'yjqtzarbnj', 'yneuaewdgc', 'yqc9uu4nk6', 'yttjc9zqow', 'yx4rswjkit', 'z1cioulubs', 'z89grlmv0w', 'zcffjj74ne', 'zfmgbh1b1m', 'ziwgzdm2up', 'zmn2f93i2v', 'zqa4lbokr3', 'ztwvqcz32f', 'zxoigvik1u', '𝙏𝙝𝙚𝙮']\n"
     ]
    }
   ],
   "source": [
    "feature_names = vect.get_feature_names()\n",
    "print(\"Number of features: {}\".format(len(feature_names)))\n",
    "print(\"First 20 features:\\n{}\".format(feature_names[:20]))\n",
    "print(\"Features 20010 to 20030:\\n{}\".format(feature_names[20010:20030]))\n",
    "print(\"Every 2000th feature:\\n{}\".format(feature_names[::2000]))"
   ]
  },
  {
   "cell_type": "code",
   "execution_count": 62,
   "metadata": {},
   "outputs": [
    {
     "name": "stdout",
     "output_type": "stream",
     "text": [
      "X_train:\n",
      "<526563x696101 sparse matrix of type '<class 'numpy.int64'>'\n",
      "\twith 9538836 stored elements in Compressed Sparse Row format>\n"
     ]
    }
   ],
   "source": [
    "X_train_vect = vect.transform(X_train)\n",
    "print(\"X_train:\\n{}\".format(repr(X_train_vect)))"
   ]
  },
  {
   "cell_type": "code",
   "execution_count": 66,
   "metadata": {},
   "outputs": [
    {
     "name": "stdout",
     "output_type": "stream",
     "text": [
      "Mean cross-validation accuracy: 0.98\n"
     ]
    }
   ],
   "source": [
    "scores = cross_val_score(LogisticRegression(max_iter=5000), X_train_vect, y_train, cv=5)\n",
    "print(\"Mean cross-validation accuracy: {:.2f}\".format(np.mean(scores)))"
   ]
  },
  {
   "cell_type": "code",
   "execution_count": 68,
   "metadata": {},
   "outputs": [
    {
     "name": "stdout",
     "output_type": "stream",
     "text": [
      "Best cross-validation score: 0.98\n",
      "Best parameters:  {'C': 1}\n"
     ]
    }
   ],
   "source": [
    "param_grid = {'C': [0.001, 0.01, 0.1, 1, 10]}\n",
    "grid = GridSearchCV(LogisticRegression(max_iter=5000), param_grid, cv=5)\n",
    "grid.fit(X_train_vect, y_train)\n",
    "print(\"Best cross-validation score: {:.2f}\".format(grid.best_score_))\n",
    "print(\"Best parameters: \", grid.best_params_)"
   ]
  },
  {
   "cell_type": "code",
   "execution_count": 69,
   "metadata": {},
   "outputs": [
    {
     "name": "stdout",
     "output_type": "stream",
     "text": [
      "Test score: 0.98\n"
     ]
    }
   ],
   "source": [
    "X_test_vect = vect.transform(X_test)\n",
    "print(\"Test score: {:.2f}\".format(grid.score(X_test_vect, y_test)))"
   ]
  },
  {
   "cell_type": "code",
   "execution_count": null,
   "metadata": {},
   "outputs": [],
   "source": []
  }
 ],
 "metadata": {
  "kernelspec": {
   "display_name": "Python 3",
   "language": "python",
   "name": "python3"
  },
  "language_info": {
   "codemirror_mode": {
    "name": "ipython",
    "version": 3
   },
   "file_extension": ".py",
   "mimetype": "text/x-python",
   "name": "python",
   "nbconvert_exporter": "python",
   "pygments_lexer": "ipython3",
   "version": "3.7.6"
  }
 },
 "nbformat": 4,
 "nbformat_minor": 4
}
